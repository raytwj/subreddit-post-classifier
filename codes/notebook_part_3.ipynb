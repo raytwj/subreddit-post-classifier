{
 "cells": [
  {
   "cell_type": "markdown",
   "metadata": {},
   "source": [
    "<img src=\"http://imgur.com/1ZcRyrc.png\" style=\"float: left; margin: 20px; height: 55px\">\n",
    "\n",
    "# Project 3: Application Programming Interface, Natural Language Processing, & Classification Modelling"
   ]
  },
  {
   "cell_type": "markdown",
   "metadata": {},
   "source": [
    "### Contents:\n",
    "#### Part 3 (of 3)\n",
    "- Executive Summary\n",
    "- Problem Statement\n",
    "- Background & Research\n",
    "- Data Collection\n",
    "- Data Wrangling\n",
    "- Exploration & Visualisation\n",
    "- [Pre-Processing & Modelling](#Pre-Processing-&-Modelling)\n",
    "- [Results & Analysis](#Results-&-Analysis)\n",
    "- [Recommendations & Conclusions](#Recommendations-&-Conclusions)\n",
    "- [References](#References)"
   ]
  },
  {
   "cell_type": "markdown",
   "metadata": {},
   "source": [
    "## Pre-Processing & Modelling"
   ]
  },
  {
   "cell_type": "markdown",
   "metadata": {},
   "source": [
    "### Import Libraries"
   ]
  },
  {
   "cell_type": "code",
   "execution_count": 1,
   "metadata": {
    "scrolled": true
   },
   "outputs": [],
   "source": [
    "import numpy as np\n",
    "import pandas as pd\n",
    "import matplotlib.pyplot as plt\n",
    "import seaborn as sns\n",
    "\n",
    "import re\n",
    "import string\n",
    "import nltk\n",
    "from nltk.tokenize import word_tokenize, RegexpTokenizer\n",
    "from nltk import PorterStemmer, WordNetLemmatizer\n",
    "from sklearn.feature_extraction.text import CountVectorizer, TfidfVectorizer\n",
    "\n",
    "from sklearn.pipeline import Pipeline\n",
    "from sklearn.model_selection import train_test_split, cross_val_score, GridSearchCV\n",
    "from sklearn import metrics\n",
    "\n",
    "from sklearn.linear_model import LogisticRegression, LogisticRegressionCV\n",
    "from sklearn.neighbors import KNeighborsClassifier\n",
    "from sklearn.naive_bayes import MultinomialNB, BernoulliNB, GaussianNB\n",
    "\n",
    "pd.set_option('display.max.columns', None)\n",
    "pd.set_option('display.max.colwidth', 100)"
   ]
  },
  {
   "cell_type": "markdown",
   "metadata": {},
   "source": [
    "### Import DataFrames"
   ]
  },
  {
   "cell_type": "code",
   "execution_count": 2,
   "metadata": {},
   "outputs": [],
   "source": [
    "# import csv file as dataframe\n",
    "p_btc = pd.read_csv('../data/btc_posts_clean.csv')"
   ]
  },
  {
   "cell_type": "code",
   "execution_count": 3,
   "metadata": {
    "scrolled": true
   },
   "outputs": [
    {
     "data": {
      "text/html": [
       "<div>\n",
       "<style scoped>\n",
       "    .dataframe tbody tr th:only-of-type {\n",
       "        vertical-align: middle;\n",
       "    }\n",
       "\n",
       "    .dataframe tbody tr th {\n",
       "        vertical-align: top;\n",
       "    }\n",
       "\n",
       "    .dataframe thead th {\n",
       "        text-align: right;\n",
       "    }\n",
       "</style>\n",
       "<table border=\"1\" class=\"dataframe\">\n",
       "  <thead>\n",
       "    <tr style=\"text-align: right;\">\n",
       "      <th></th>\n",
       "      <th>subreddit</th>\n",
       "      <th>post_title</th>\n",
       "      <th>post_content</th>\n",
       "    </tr>\n",
       "  </thead>\n",
       "  <tbody>\n",
       "    <tr>\n",
       "      <th>0</th>\n",
       "      <td>Bitcoin</td>\n",
       "      <td>what moves crypto market apart from the speculators</td>\n",
       "      <td>would like   know   there   anything that moves   crypto market  apart from the speculators  ...</td>\n",
       "    </tr>\n",
       "    <tr>\n",
       "      <th>1</th>\n",
       "      <td>Bitcoin</td>\n",
       "      <td>help starting crypto business</td>\n",
       "      <td>guys    interested   starting   crypto business  app   that would take small amounts   money f...</td>\n",
       "    </tr>\n",
       "    <tr>\n",
       "      <th>2</th>\n",
       "      <td>Bitcoin</td>\n",
       "      <td>did jack dorsey confirm   deflect   taking btc for advertising</td>\n",
       "      <td>might just being stupid but watching the conference there  the moment elon asks dorsey about a...</td>\n",
       "    </tr>\n",
       "    <tr>\n",
       "      <th>3</th>\n",
       "      <td>Bitcoin</td>\n",
       "      <td>⚡ lightning thursday july   2021 explore the lightning network⚡</td>\n",
       "      <td>the lightning network     secondlayer solution   top   the bitcoin blockchain that enables quick...</td>\n",
       "    </tr>\n",
       "    <tr>\n",
       "      <th>4</th>\n",
       "      <td>Bitcoin</td>\n",
       "      <td>will eth2 affect bitcoinbitcoin mining</td>\n",
       "      <td>was thinking   buying   mining rig with   friend and   said that ethereum    will affect bitco...</td>\n",
       "    </tr>\n",
       "  </tbody>\n",
       "</table>\n",
       "</div>"
      ],
      "text/plain": [
       "  subreddit                                                       post_title  \\\n",
       "0   Bitcoin              what moves crypto market apart from the speculators   \n",
       "1   Bitcoin                                    help starting crypto business   \n",
       "2   Bitcoin  did jack dorsey confirm   deflect   taking btc for advertising    \n",
       "3   Bitcoin  ⚡ lightning thursday july   2021 explore the lightning network⚡   \n",
       "4   Bitcoin                           will eth2 affect bitcoinbitcoin mining   \n",
       "\n",
       "                                                                                          post_content  \n",
       "0     would like   know   there   anything that moves   crypto market  apart from the speculators  ...  \n",
       "1    guys    interested   starting   crypto business  app   that would take small amounts   money f...  \n",
       "2    might just being stupid but watching the conference there  the moment elon asks dorsey about a...  \n",
       "3  the lightning network     secondlayer solution   top   the bitcoin blockchain that enables quick...  \n",
       "4    was thinking   buying   mining rig with   friend and   said that ethereum    will affect bitco...  "
      ]
     },
     "execution_count": 3,
     "metadata": {},
     "output_type": "execute_result"
    }
   ],
   "source": [
    "# check out first 5 rows\n",
    "p_btc.head()"
   ]
  },
  {
   "cell_type": "code",
   "execution_count": 4,
   "metadata": {},
   "outputs": [],
   "source": [
    "# import csv file as dataframe\n",
    "p_eth = pd.read_csv('../data/eth_posts_clean.csv')"
   ]
  },
  {
   "cell_type": "code",
   "execution_count": 5,
   "metadata": {},
   "outputs": [
    {
     "data": {
      "text/html": [
       "<div>\n",
       "<style scoped>\n",
       "    .dataframe tbody tr th:only-of-type {\n",
       "        vertical-align: middle;\n",
       "    }\n",
       "\n",
       "    .dataframe tbody tr th {\n",
       "        vertical-align: top;\n",
       "    }\n",
       "\n",
       "    .dataframe thead th {\n",
       "        text-align: right;\n",
       "    }\n",
       "</style>\n",
       "<table border=\"1\" class=\"dataframe\">\n",
       "  <thead>\n",
       "    <tr style=\"text-align: right;\">\n",
       "      <th></th>\n",
       "      <th>subreddit</th>\n",
       "      <th>post_title</th>\n",
       "      <th>post_content</th>\n",
       "    </tr>\n",
       "  </thead>\n",
       "  <tbody>\n",
       "    <tr>\n",
       "      <th>0</th>\n",
       "      <td>ethereum</td>\n",
       "      <td>should   sell bitcoin and just   all   ethereum</td>\n",
       "      <td>have like    invested total   bitcoin and after the crash   only have    gains     sold   65k...</td>\n",
       "    </tr>\n",
       "    <tr>\n",
       "      <th>1</th>\n",
       "      <td>ethereum</td>\n",
       "      <td>will any blockchain   able   sustain low   fees   that   can become useful for everyday transact...</td>\n",
       "      <td>the case that   crypto currency whether eth ada algo dai etc were   gain   huge user base say ...</td>\n",
       "    </tr>\n",
       "    <tr>\n",
       "      <th>2</th>\n",
       "      <td>ethereum</td>\n",
       "      <td>ethereumdai lost need help</td>\n",
       "      <td>have   idea how   access the private key   account for    ethereum   sent   large sum   dai  ...</td>\n",
       "    </tr>\n",
       "    <tr>\n",
       "      <th>3</th>\n",
       "      <td>ethereum</td>\n",
       "      <td>ethereum reddit mods censoring the laurel  the volunteer platform</td>\n",
       "      <td>the laurel     platform for volunteers being built   volunteers  laurels are the first fungible ...</td>\n",
       "    </tr>\n",
       "    <tr>\n",
       "      <th>4</th>\n",
       "      <td>ethereum</td>\n",
       "      <td>best ethereum stickers for telegram</td>\n",
       "      <td>couldn  find any cool ethereumvitalikrelated stickers for telegram   decided   make   own stic...</td>\n",
       "    </tr>\n",
       "  </tbody>\n",
       "</table>\n",
       "</div>"
      ],
      "text/plain": [
       "  subreddit  \\\n",
       "0  ethereum   \n",
       "1  ethereum   \n",
       "2  ethereum   \n",
       "3  ethereum   \n",
       "4  ethereum   \n",
       "\n",
       "                                                                                            post_title  \\\n",
       "0                                                      should   sell bitcoin and just   all   ethereum   \n",
       "1  will any blockchain   able   sustain low   fees   that   can become useful for everyday transact...   \n",
       "2                                                                           ethereumdai lost need help   \n",
       "3                                    ethereum reddit mods censoring the laurel  the volunteer platform   \n",
       "4                                                                  best ethereum stickers for telegram   \n",
       "\n",
       "                                                                                          post_content  \n",
       "0     have like    invested total   bitcoin and after the crash   only have    gains     sold   65k...  \n",
       "1    the case that   crypto currency whether eth ada algo dai etc were   gain   huge user base say ...  \n",
       "2     have   idea how   access the private key   account for    ethereum   sent   large sum   dai  ...  \n",
       "3  the laurel     platform for volunteers being built   volunteers  laurels are the first fungible ...  \n",
       "4    couldn  find any cool ethereumvitalikrelated stickers for telegram   decided   make   own stic...  "
      ]
     },
     "execution_count": 5,
     "metadata": {},
     "output_type": "execute_result"
    }
   ],
   "source": [
    "# check out first 5 rows\n",
    "p_eth.head()"
   ]
  },
  {
   "cell_type": "markdown",
   "metadata": {},
   "source": [
    "### DataFrame Concatenation, Feature Combination"
   ]
  },
  {
   "cell_type": "code",
   "execution_count": 6,
   "metadata": {
    "scrolled": true
   },
   "outputs": [
    {
     "name": "stdout",
     "output_type": "stream",
     "text": [
      "(2707, 4)\n"
     ]
    }
   ],
   "source": [
    "# concatenate bitcoin dataframe and ethereum dataframe\n",
    "df = pd.concat([p_btc, p_eth])\n",
    "df.reset_index(drop=True, inplace=True)\n",
    "\n",
    "# combine post title column and post content column into a new column\n",
    "df['title_content'] = df['post_title'] + ' ' + df['post_content']\n",
    "\n",
    "# check out shape\n",
    "print(df.shape)"
   ]
  },
  {
   "cell_type": "code",
   "execution_count": 7,
   "metadata": {},
   "outputs": [
    {
     "data": {
      "text/html": [
       "<div>\n",
       "<style scoped>\n",
       "    .dataframe tbody tr th:only-of-type {\n",
       "        vertical-align: middle;\n",
       "    }\n",
       "\n",
       "    .dataframe tbody tr th {\n",
       "        vertical-align: top;\n",
       "    }\n",
       "\n",
       "    .dataframe thead th {\n",
       "        text-align: right;\n",
       "    }\n",
       "</style>\n",
       "<table border=\"1\" class=\"dataframe\">\n",
       "  <thead>\n",
       "    <tr style=\"text-align: right;\">\n",
       "      <th></th>\n",
       "      <th>subreddit</th>\n",
       "      <th>post_title</th>\n",
       "      <th>post_content</th>\n",
       "      <th>title_content</th>\n",
       "    </tr>\n",
       "  </thead>\n",
       "  <tbody>\n",
       "    <tr>\n",
       "      <th>0</th>\n",
       "      <td>Bitcoin</td>\n",
       "      <td>what moves crypto market apart from the speculators</td>\n",
       "      <td>would like   know   there   anything that moves   crypto market  apart from the speculators  ...</td>\n",
       "      <td>what moves crypto market apart from the speculators    would like   know   there   anything that...</td>\n",
       "    </tr>\n",
       "    <tr>\n",
       "      <th>1</th>\n",
       "      <td>Bitcoin</td>\n",
       "      <td>help starting crypto business</td>\n",
       "      <td>guys    interested   starting   crypto business  app   that would take small amounts   money f...</td>\n",
       "      <td>help starting crypto business   guys    interested   starting   crypto business  app   that woul...</td>\n",
       "    </tr>\n",
       "    <tr>\n",
       "      <th>2</th>\n",
       "      <td>Bitcoin</td>\n",
       "      <td>did jack dorsey confirm   deflect   taking btc for advertising</td>\n",
       "      <td>might just being stupid but watching the conference there  the moment elon asks dorsey about a...</td>\n",
       "      <td>did jack dorsey confirm   deflect   taking btc for advertising    might just being stupid but wa...</td>\n",
       "    </tr>\n",
       "    <tr>\n",
       "      <th>3</th>\n",
       "      <td>Bitcoin</td>\n",
       "      <td>⚡ lightning thursday july   2021 explore the lightning network⚡</td>\n",
       "      <td>the lightning network     secondlayer solution   top   the bitcoin blockchain that enables quick...</td>\n",
       "      <td>⚡ lightning thursday july   2021 explore the lightning network⚡ the lightning network     second...</td>\n",
       "    </tr>\n",
       "    <tr>\n",
       "      <th>4</th>\n",
       "      <td>Bitcoin</td>\n",
       "      <td>will eth2 affect bitcoinbitcoin mining</td>\n",
       "      <td>was thinking   buying   mining rig with   friend and   said that ethereum    will affect bitco...</td>\n",
       "      <td>will eth2 affect bitcoinbitcoin mining   was thinking   buying   mining rig with   friend and   ...</td>\n",
       "    </tr>\n",
       "  </tbody>\n",
       "</table>\n",
       "</div>"
      ],
      "text/plain": [
       "  subreddit                                                       post_title  \\\n",
       "0   Bitcoin              what moves crypto market apart from the speculators   \n",
       "1   Bitcoin                                    help starting crypto business   \n",
       "2   Bitcoin  did jack dorsey confirm   deflect   taking btc for advertising    \n",
       "3   Bitcoin  ⚡ lightning thursday july   2021 explore the lightning network⚡   \n",
       "4   Bitcoin                           will eth2 affect bitcoinbitcoin mining   \n",
       "\n",
       "                                                                                          post_content  \\\n",
       "0     would like   know   there   anything that moves   crypto market  apart from the speculators  ...   \n",
       "1    guys    interested   starting   crypto business  app   that would take small amounts   money f...   \n",
       "2    might just being stupid but watching the conference there  the moment elon asks dorsey about a...   \n",
       "3  the lightning network     secondlayer solution   top   the bitcoin blockchain that enables quick...   \n",
       "4    was thinking   buying   mining rig with   friend and   said that ethereum    will affect bitco...   \n",
       "\n",
       "                                                                                         title_content  \n",
       "0  what moves crypto market apart from the speculators    would like   know   there   anything that...  \n",
       "1  help starting crypto business   guys    interested   starting   crypto business  app   that woul...  \n",
       "2  did jack dorsey confirm   deflect   taking btc for advertising    might just being stupid but wa...  \n",
       "3  ⚡ lightning thursday july   2021 explore the lightning network⚡ the lightning network     second...  \n",
       "4  will eth2 affect bitcoinbitcoin mining   was thinking   buying   mining rig with   friend and   ...  "
      ]
     },
     "execution_count": 7,
     "metadata": {},
     "output_type": "execute_result"
    }
   ],
   "source": [
    "# check out first 5 rows\n",
    "df.head()"
   ]
  },
  {
   "cell_type": "code",
   "execution_count": 8,
   "metadata": {},
   "outputs": [
    {
     "data": {
      "text/html": [
       "<div>\n",
       "<style scoped>\n",
       "    .dataframe tbody tr th:only-of-type {\n",
       "        vertical-align: middle;\n",
       "    }\n",
       "\n",
       "    .dataframe tbody tr th {\n",
       "        vertical-align: top;\n",
       "    }\n",
       "\n",
       "    .dataframe thead th {\n",
       "        text-align: right;\n",
       "    }\n",
       "</style>\n",
       "<table border=\"1\" class=\"dataframe\">\n",
       "  <thead>\n",
       "    <tr style=\"text-align: right;\">\n",
       "      <th></th>\n",
       "      <th>subreddit</th>\n",
       "      <th>post_title</th>\n",
       "      <th>post_content</th>\n",
       "      <th>title_content</th>\n",
       "    </tr>\n",
       "  </thead>\n",
       "  <tbody>\n",
       "    <tr>\n",
       "      <th>2702</th>\n",
       "      <td>ethereum</td>\n",
       "      <td>gas fee  will ruin this coin   nothing   done   the next year</td>\n",
       "      <td>110   swap 150   eth   usdt fix   shit eth this   fucking redonkk</td>\n",
       "      <td>gas fee  will ruin this coin   nothing   done   the next year 110   swap 150   eth   usdt fix   ...</td>\n",
       "    </tr>\n",
       "    <tr>\n",
       "      <th>2703</th>\n",
       "      <td>ethereum</td>\n",
       "      <td>ethereum only for the rich     poor folks have any stake</td>\n",
       "      <td>looking   gas fees ethereum feels like its only for rich first world crypto genius meanwhile poo...</td>\n",
       "      <td>ethereum only for the rich     poor folks have any stake     looking   gas fees ethereum feels...</td>\n",
       "    </tr>\n",
       "    <tr>\n",
       "      <th>2704</th>\n",
       "      <td>ethereum</td>\n",
       "      <td>have been bitten   the bug</td>\n",
       "      <td>when blockchain first came out   thought   would     fad seeing that bitcoin really had   purpos...</td>\n",
       "      <td>have been bitten   the bug when blockchain first came out   thought   would     fad seeing tha...</td>\n",
       "    </tr>\n",
       "    <tr>\n",
       "      <th>2705</th>\n",
       "      <td>ethereum</td>\n",
       "      <td>well this   quite the story</td>\n",
       "      <td>fantastic for him and glad his roulette wheel paid off but doge   the future   crypto not sure...</td>\n",
       "      <td>well this   quite the story   fantastic for him and glad his roulette wheel paid off but doge   ...</td>\n",
       "    </tr>\n",
       "    <tr>\n",
       "      <th>2706</th>\n",
       "      <td>ethereum</td>\n",
       "      <td>mining eth with phoenix miner latest    getting high stale rate</td>\n",
       "      <td>hey everybody   have   5600x with   580   and  32gigs   ddr4 mining ethereum using phoenix mine ...</td>\n",
       "      <td>mining eth with phoenix miner latest    getting high stale rate hey everybody   have   5600x wit...</td>\n",
       "    </tr>\n",
       "  </tbody>\n",
       "</table>\n",
       "</div>"
      ],
      "text/plain": [
       "     subreddit  \\\n",
       "2702  ethereum   \n",
       "2703  ethereum   \n",
       "2704  ethereum   \n",
       "2705  ethereum   \n",
       "2706  ethereum   \n",
       "\n",
       "                                                           post_title  \\\n",
       "2702    gas fee  will ruin this coin   nothing   done   the next year   \n",
       "2703     ethereum only for the rich     poor folks have any stake       \n",
       "2704                                       have been bitten   the bug   \n",
       "2705                                      well this   quite the story   \n",
       "2706  mining eth with phoenix miner latest    getting high stale rate   \n",
       "\n",
       "                                                                                             post_content  \\\n",
       "2702                                    110   swap 150   eth   usdt fix   shit eth this   fucking redonkk   \n",
       "2703  looking   gas fees ethereum feels like its only for rich first world crypto genius meanwhile poo...   \n",
       "2704  when blockchain first came out   thought   would     fad seeing that bitcoin really had   purpos...   \n",
       "2705    fantastic for him and glad his roulette wheel paid off but doge   the future   crypto not sure...   \n",
       "2706  hey everybody   have   5600x with   580   and  32gigs   ddr4 mining ethereum using phoenix mine ...   \n",
       "\n",
       "                                                                                            title_content  \n",
       "2702  gas fee  will ruin this coin   nothing   done   the next year 110   swap 150   eth   usdt fix   ...  \n",
       "2703    ethereum only for the rich     poor folks have any stake     looking   gas fees ethereum feels...  \n",
       "2704    have been bitten   the bug when blockchain first came out   thought   would     fad seeing tha...  \n",
       "2705  well this   quite the story   fantastic for him and glad his roulette wheel paid off but doge   ...  \n",
       "2706  mining eth with phoenix miner latest    getting high stale rate hey everybody   have   5600x wit...  "
      ]
     },
     "execution_count": 8,
     "metadata": {},
     "output_type": "execute_result"
    }
   ],
   "source": [
    "# check out last 5 rows\n",
    "df.tail()"
   ]
  },
  {
   "cell_type": "markdown",
   "metadata": {},
   "source": [
    "### Tokenization, Stopword Removal, Stemming, Lemmatization"
   ]
  },
  {
   "cell_type": "code",
   "execution_count": 9,
   "metadata": {},
   "outputs": [
    {
     "data": {
      "text/html": [
       "<div>\n",
       "<style scoped>\n",
       "    .dataframe tbody tr th:only-of-type {\n",
       "        vertical-align: middle;\n",
       "    }\n",
       "\n",
       "    .dataframe tbody tr th {\n",
       "        vertical-align: top;\n",
       "    }\n",
       "\n",
       "    .dataframe thead th {\n",
       "        text-align: right;\n",
       "    }\n",
       "</style>\n",
       "<table border=\"1\" class=\"dataframe\">\n",
       "  <thead>\n",
       "    <tr style=\"text-align: right;\">\n",
       "      <th></th>\n",
       "      <th>subreddit</th>\n",
       "      <th>post_title</th>\n",
       "      <th>post_content</th>\n",
       "      <th>title_content</th>\n",
       "      <th>title_content_tokenized</th>\n",
       "    </tr>\n",
       "  </thead>\n",
       "  <tbody>\n",
       "    <tr>\n",
       "      <th>0</th>\n",
       "      <td>Bitcoin</td>\n",
       "      <td>what moves crypto market apart from the speculators</td>\n",
       "      <td>would like   know   there   anything that moves   crypto market  apart from the speculators  ...</td>\n",
       "      <td>what moves crypto market apart from the speculators    would like   know   there   anything that...</td>\n",
       "      <td>[what, moves, crypto, market, apart, from, the, speculators, would, like, know, there, anything,...</td>\n",
       "    </tr>\n",
       "  </tbody>\n",
       "</table>\n",
       "</div>"
      ],
      "text/plain": [
       "  subreddit                                           post_title  \\\n",
       "0   Bitcoin  what moves crypto market apart from the speculators   \n",
       "\n",
       "                                                                                          post_content  \\\n",
       "0     would like   know   there   anything that moves   crypto market  apart from the speculators  ...   \n",
       "\n",
       "                                                                                         title_content  \\\n",
       "0  what moves crypto market apart from the speculators    would like   know   there   anything that...   \n",
       "\n",
       "                                                                               title_content_tokenized  \n",
       "0  [what, moves, crypto, market, apart, from, the, speculators, would, like, know, there, anything,...  "
      ]
     },
     "execution_count": 9,
     "metadata": {},
     "output_type": "execute_result"
    }
   ],
   "source": [
    "# tokenization\n",
    "\n",
    "def tokenize(text):\n",
    "    return text.split()\n",
    "\n",
    "df['title_content_tokenized'] = df['title_content'].apply(lambda x: tokenize(x.lower()))\n",
    "\n",
    "# check out first row\n",
    "df.head(1)"
   ]
  },
  {
   "cell_type": "code",
   "execution_count": 10,
   "metadata": {},
   "outputs": [
    {
     "data": {
      "text/html": [
       "<div>\n",
       "<style scoped>\n",
       "    .dataframe tbody tr th:only-of-type {\n",
       "        vertical-align: middle;\n",
       "    }\n",
       "\n",
       "    .dataframe tbody tr th {\n",
       "        vertical-align: top;\n",
       "    }\n",
       "\n",
       "    .dataframe thead th {\n",
       "        text-align: right;\n",
       "    }\n",
       "</style>\n",
       "<table border=\"1\" class=\"dataframe\">\n",
       "  <thead>\n",
       "    <tr style=\"text-align: right;\">\n",
       "      <th></th>\n",
       "      <th>subreddit</th>\n",
       "      <th>post_title</th>\n",
       "      <th>post_content</th>\n",
       "      <th>title_content</th>\n",
       "      <th>title_content_tokenized</th>\n",
       "      <th>title_content_nostopwords</th>\n",
       "    </tr>\n",
       "  </thead>\n",
       "  <tbody>\n",
       "    <tr>\n",
       "      <th>0</th>\n",
       "      <td>Bitcoin</td>\n",
       "      <td>what moves crypto market apart from the speculators</td>\n",
       "      <td>would like   know   there   anything that moves   crypto market  apart from the speculators  ...</td>\n",
       "      <td>what moves crypto market apart from the speculators    would like   know   there   anything that...</td>\n",
       "      <td>[what, moves, crypto, market, apart, from, the, speculators, would, like, know, there, anything,...</td>\n",
       "      <td>[moves, crypto, market, apart, speculators, would, like, know, anything, moves, crypto, market, ...</td>\n",
       "    </tr>\n",
       "  </tbody>\n",
       "</table>\n",
       "</div>"
      ],
      "text/plain": [
       "  subreddit                                           post_title  \\\n",
       "0   Bitcoin  what moves crypto market apart from the speculators   \n",
       "\n",
       "                                                                                          post_content  \\\n",
       "0     would like   know   there   anything that moves   crypto market  apart from the speculators  ...   \n",
       "\n",
       "                                                                                         title_content  \\\n",
       "0  what moves crypto market apart from the speculators    would like   know   there   anything that...   \n",
       "\n",
       "                                                                               title_content_tokenized  \\\n",
       "0  [what, moves, crypto, market, apart, from, the, speculators, would, like, know, there, anything,...   \n",
       "\n",
       "                                                                             title_content_nostopwords  \n",
       "0  [moves, crypto, market, apart, speculators, would, like, know, anything, moves, crypto, market, ...  "
      ]
     },
     "execution_count": 10,
     "metadata": {},
     "output_type": "execute_result"
    }
   ],
   "source": [
    "# remove stop words\n",
    "\n",
    "def remove_stop_words(tokens):\n",
    "    return [word for word in tokens if word not in nltk.corpus.stopwords.words('english')]\n",
    "\n",
    "df['title_content_nostopwords'] = df['title_content_tokenized'].apply(lambda x: remove_stop_words(x))\n",
    "\n",
    "# check out first row\n",
    "df.head(1)"
   ]
  },
  {
   "cell_type": "code",
   "execution_count": 11,
   "metadata": {},
   "outputs": [
    {
     "data": {
      "text/html": [
       "<div>\n",
       "<style scoped>\n",
       "    .dataframe tbody tr th:only-of-type {\n",
       "        vertical-align: middle;\n",
       "    }\n",
       "\n",
       "    .dataframe tbody tr th {\n",
       "        vertical-align: top;\n",
       "    }\n",
       "\n",
       "    .dataframe thead th {\n",
       "        text-align: right;\n",
       "    }\n",
       "</style>\n",
       "<table border=\"1\" class=\"dataframe\">\n",
       "  <thead>\n",
       "    <tr style=\"text-align: right;\">\n",
       "      <th></th>\n",
       "      <th>subreddit</th>\n",
       "      <th>post_title</th>\n",
       "      <th>post_content</th>\n",
       "      <th>title_content</th>\n",
       "      <th>title_content_tokenized</th>\n",
       "      <th>title_content_nostopwords</th>\n",
       "      <th>title_content_stemmed</th>\n",
       "    </tr>\n",
       "  </thead>\n",
       "  <tbody>\n",
       "    <tr>\n",
       "      <th>0</th>\n",
       "      <td>Bitcoin</td>\n",
       "      <td>what moves crypto market apart from the speculators</td>\n",
       "      <td>would like   know   there   anything that moves   crypto market  apart from the speculators  ...</td>\n",
       "      <td>what moves crypto market apart from the speculators    would like   know   there   anything that...</td>\n",
       "      <td>[what, moves, crypto, market, apart, from, the, speculators, would, like, know, there, anything,...</td>\n",
       "      <td>[moves, crypto, market, apart, speculators, would, like, know, anything, moves, crypto, market, ...</td>\n",
       "      <td>move crypto market apart specul would like know anyth move crypto market apart specul cryptocurr...</td>\n",
       "    </tr>\n",
       "  </tbody>\n",
       "</table>\n",
       "</div>"
      ],
      "text/plain": [
       "  subreddit                                           post_title  \\\n",
       "0   Bitcoin  what moves crypto market apart from the speculators   \n",
       "\n",
       "                                                                                          post_content  \\\n",
       "0     would like   know   there   anything that moves   crypto market  apart from the speculators  ...   \n",
       "\n",
       "                                                                                         title_content  \\\n",
       "0  what moves crypto market apart from the speculators    would like   know   there   anything that...   \n",
       "\n",
       "                                                                               title_content_tokenized  \\\n",
       "0  [what, moves, crypto, market, apart, from, the, speculators, would, like, know, there, anything,...   \n",
       "\n",
       "                                                                             title_content_nostopwords  \\\n",
       "0  [moves, crypto, market, apart, speculators, would, like, know, anything, moves, crypto, market, ...   \n",
       "\n",
       "                                                                                 title_content_stemmed  \n",
       "0  move crypto market apart specul would like know anyth move crypto market apart specul cryptocurr...  "
      ]
     },
     "execution_count": 11,
     "metadata": {},
     "output_type": "execute_result"
    }
   ],
   "source": [
    "# stemming\n",
    "\n",
    "ps = nltk.PorterStemmer()\n",
    "\n",
    "def stemming(tokens):\n",
    "    return ' '.join([ps.stem(word) for word in tokens])\n",
    "\n",
    "df['title_content_stemmed'] = df['title_content_nostopwords'].apply(lambda x: stemming(x))\n",
    "\n",
    "# check out first row\n",
    "df.head(1)"
   ]
  },
  {
   "cell_type": "code",
   "execution_count": 12,
   "metadata": {},
   "outputs": [
    {
     "data": {
      "text/html": [
       "<div>\n",
       "<style scoped>\n",
       "    .dataframe tbody tr th:only-of-type {\n",
       "        vertical-align: middle;\n",
       "    }\n",
       "\n",
       "    .dataframe tbody tr th {\n",
       "        vertical-align: top;\n",
       "    }\n",
       "\n",
       "    .dataframe thead th {\n",
       "        text-align: right;\n",
       "    }\n",
       "</style>\n",
       "<table border=\"1\" class=\"dataframe\">\n",
       "  <thead>\n",
       "    <tr style=\"text-align: right;\">\n",
       "      <th></th>\n",
       "      <th>subreddit</th>\n",
       "      <th>post_title</th>\n",
       "      <th>post_content</th>\n",
       "      <th>title_content</th>\n",
       "      <th>title_content_tokenized</th>\n",
       "      <th>title_content_nostopwords</th>\n",
       "      <th>title_content_stemmed</th>\n",
       "      <th>title_content_lemmatized</th>\n",
       "    </tr>\n",
       "  </thead>\n",
       "  <tbody>\n",
       "    <tr>\n",
       "      <th>0</th>\n",
       "      <td>Bitcoin</td>\n",
       "      <td>what moves crypto market apart from the speculators</td>\n",
       "      <td>would like   know   there   anything that moves   crypto market  apart from the speculators  ...</td>\n",
       "      <td>what moves crypto market apart from the speculators    would like   know   there   anything that...</td>\n",
       "      <td>[what, moves, crypto, market, apart, from, the, speculators, would, like, know, there, anything,...</td>\n",
       "      <td>[moves, crypto, market, apart, speculators, would, like, know, anything, moves, crypto, market, ...</td>\n",
       "      <td>move crypto market apart specul would like know anyth move crypto market apart specul cryptocurr...</td>\n",
       "      <td>move crypto market apart speculator would like know anything move crypto market apart speculator...</td>\n",
       "    </tr>\n",
       "  </tbody>\n",
       "</table>\n",
       "</div>"
      ],
      "text/plain": [
       "  subreddit                                           post_title  \\\n",
       "0   Bitcoin  what moves crypto market apart from the speculators   \n",
       "\n",
       "                                                                                          post_content  \\\n",
       "0     would like   know   there   anything that moves   crypto market  apart from the speculators  ...   \n",
       "\n",
       "                                                                                         title_content  \\\n",
       "0  what moves crypto market apart from the speculators    would like   know   there   anything that...   \n",
       "\n",
       "                                                                               title_content_tokenized  \\\n",
       "0  [what, moves, crypto, market, apart, from, the, speculators, would, like, know, there, anything,...   \n",
       "\n",
       "                                                                             title_content_nostopwords  \\\n",
       "0  [moves, crypto, market, apart, speculators, would, like, know, anything, moves, crypto, market, ...   \n",
       "\n",
       "                                                                                 title_content_stemmed  \\\n",
       "0  move crypto market apart specul would like know anyth move crypto market apart specul cryptocurr...   \n",
       "\n",
       "                                                                              title_content_lemmatized  \n",
       "0  move crypto market apart speculator would like know anything move crypto market apart speculator...  "
      ]
     },
     "execution_count": 12,
     "metadata": {},
     "output_type": "execute_result"
    }
   ],
   "source": [
    "# lemmatization\n",
    "\n",
    "wn = nltk.WordNetLemmatizer()\n",
    "\n",
    "def lemmatization(tokens):\n",
    "    return ' '.join([wn.lemmatize(word) for word in tokens])\n",
    "\n",
    "df['title_content_lemmatized'] = df['title_content_nostopwords'].apply(lambda x: lemmatization(x))\n",
    "\n",
    "# check out first row\n",
    "df.head(1)"
   ]
  },
  {
   "cell_type": "markdown",
   "metadata": {},
   "source": [
    "**Decision:** Choosing between using stemmed tokens and lemmatized tokens"
   ]
  },
  {
   "cell_type": "code",
   "execution_count": 13,
   "metadata": {},
   "outputs": [
    {
     "data": {
      "text/plain": [
       "0    move crypto market apart specul would like know anyth move crypto market apart specul cryptocurr...\n",
       "1    help start crypto busi guy interest start crypto busi app would take small amount money account ...\n",
       "2    jack dorsey confirm deflect take btc advertis might stupid watch confer moment elon ask dorsey a...\n",
       "3    ⚡ lightn thursday juli 2021 explor lightn network⚡ lightn network secondlay solut top bitcoin bl...\n",
       "4    eth2 affect bitcoinbitcoin mine think buy mine rig friend said ethereum affect bitcoin affect ex...\n",
       "Name: title_content_stemmed, dtype: object"
      ]
     },
     "execution_count": 13,
     "metadata": {},
     "output_type": "execute_result"
    }
   ],
   "source": [
    "df['title_content_stemmed'].head()"
   ]
  },
  {
   "cell_type": "code",
   "execution_count": 14,
   "metadata": {},
   "outputs": [
    {
     "data": {
      "text/plain": [
       "0    move crypto market apart speculator would like know anything move crypto market apart speculator...\n",
       "1    help starting crypto business guy interested starting crypto business app would take small amoun...\n",
       "2    jack dorsey confirm deflect taking btc advertising might stupid watching conference moment elon ...\n",
       "3    ⚡ lightning thursday july 2021 explore lightning network⚡ lightning network secondlayer solution...\n",
       "4    eth2 affect bitcoinbitcoin mining thinking buying mining rig friend said ethereum affect bitcoin...\n",
       "Name: title_content_lemmatized, dtype: object"
      ]
     },
     "execution_count": 14,
     "metadata": {},
     "output_type": "execute_result"
    }
   ],
   "source": [
    "df['title_content_lemmatized'].head()"
   ]
  },
  {
   "cell_type": "markdown",
   "metadata": {},
   "source": [
    "**Verdict:** A glance at the first few samples of tokens after stemming/lemmatization shows that lemmatization has done a better job at reducing inflected words to their root form as compared to stemming (e.g. specul vs speculator). In favour of accuracy over speed, the lemmatized tokens will be chosen over the stemmed tokens for subsequent vectorization and modelling."
   ]
  },
  {
   "cell_type": "markdown",
   "metadata": {},
   "source": [
    "### Feature-Target Definition"
   ]
  },
  {
   "cell_type": "code",
   "execution_count": 15,
   "metadata": {},
   "outputs": [],
   "source": [
    "# define feature\n",
    "X = df['title_content_lemmatized'].copy()\n",
    "\n",
    "# define target\n",
    "y = df['subreddit'].copy()"
   ]
  },
  {
   "cell_type": "code",
   "execution_count": 16,
   "metadata": {},
   "outputs": [],
   "source": [
    "# label encode target column\n",
    "y = y.map({'Bitcoin': 1, 'ethereum': 0})"
   ]
  },
  {
   "cell_type": "code",
   "execution_count": 17,
   "metadata": {},
   "outputs": [
    {
     "data": {
      "text/plain": [
       "1    1557\n",
       "0    1150\n",
       "Name: subreddit, dtype: int64"
      ]
     },
     "execution_count": 17,
     "metadata": {},
     "output_type": "execute_result"
    }
   ],
   "source": [
    "# show target class balance/imbalance\n",
    "y.value_counts()"
   ]
  },
  {
   "cell_type": "markdown",
   "metadata": {},
   "source": [
    "### Train Test Split"
   ]
  },
  {
   "cell_type": "code",
   "execution_count": 18,
   "metadata": {},
   "outputs": [],
   "source": [
    "# train test split\n",
    "X_train, X_test, y_train, y_test = train_test_split(X, y, test_size=0.3, random_state=42, stratify=y)"
   ]
  },
  {
   "cell_type": "markdown",
   "metadata": {},
   "source": [
    "### Vectorizer-Model Evaluation With Pipeline-GridSearchCV Duo"
   ]
  },
  {
   "cell_type": "markdown",
   "metadata": {},
   "source": [
    "The vectorizer-model combinations that will be evaluated are given in the table below.\n",
    "\n",
    "| No |  Transformer      |  Estimator               |\n",
    "|:--:|:------------------|:-------------------------|\n",
    "| 1  |  Count Vectorizer |  Multinomial Naive Bayes |\n",
    "| 2  |  Tfidf Vectorizer |  Multinomial Naive Bayes |\n",
    "| 3  |  Count Vectorizer |  K-Nearest Neighbours    |\n",
    "| 4  |  Tfidf Vectorizer |  K-Nearest Neighbours    |\n",
    "| 5  |  Count Vectorizer |  Logistic Regression     |\n",
    "| 6  |  Tfidf Vectorizer |  Logistic Regression     |\n",
    "\n",
    "The **2 vectorizers** considered here are Count Vectorizer and Tfidf Vectorizer. The **3 models** considered here are Multinomial Naive Bayes, K-Nearest Neighbours, and Logistic Regression. **6 combinations** were created in total. Each one will be evaluated to find the best performing combination.\n",
    "\n",
    "---\n",
    "\n",
    "The metrics that will be used to evaluate each combination are given in the list below.\n",
    "\n",
    "**1. Cross Validation**\n",
    "- Cross-Validated (CV) Accuracy\n",
    "- Cross-Validated (CV) Receiver Operating Characteristic Area Under Curve (ROC AUC)\n",
    "\n",
    "**2. Training Dataset**\n",
    "- Training Accuracy\n",
    "- Training Receiver Operating Characteristic Area Under Curve (ROC AUC)\n",
    "\n",
    "**3. Testing Dataset**\n",
    "- Testing Accuracy\n",
    "- Testing Receiver Operating Characteristic Area Under Curve (ROC AUC)\n",
    "\n",
    "Accuracy and ROC AUC were chosen as the metrics for evaluation because the interest here is in selecting a model that is best able to correctly classify a post as belonging to the bitcoin subreddit or the ethereum subreddit (i.e. focus is on maximising true positives and true negatives). Recall, precision, sensitivity, and specificity were not used because the importance of balancing between false positives or false negatives is not so crucial in this project (i.e. there is less emphasise on minimising false positives/false negatives bearing decreasing one increases the other)."
   ]
  },
  {
   "cell_type": "code",
   "execution_count": 19,
   "metadata": {},
   "outputs": [],
   "source": [
    "# create pipelines\n",
    "\n",
    "pipe1 = Pipeline([\n",
    "    ('cvec', CountVectorizer()),\n",
    "    ('mnb', MultinomialNB())])\n",
    "\n",
    "pipe2 = Pipeline([\n",
    "    ('tvec', TfidfVectorizer()),\n",
    "    ('mnb', MultinomialNB())])\n",
    "\n",
    "pipe3 = Pipeline([\n",
    "    ('cvec', CountVectorizer()),\n",
    "    ('knn', KNeighborsClassifier())])\n",
    "\n",
    "pipe4 = Pipeline([\n",
    "    ('tvec', TfidfVectorizer()),\n",
    "    ('knn', KNeighborsClassifier())])\n",
    "\n",
    "pipe5 = Pipeline([\n",
    "    ('cvec', CountVectorizer()),\n",
    "    ('logreg', LogisticRegression())])\n",
    "\n",
    "pipe6 = Pipeline([\n",
    "    ('tvec', TfidfVectorizer()),\n",
    "    ('logreg', LogisticRegression())])"
   ]
  },
  {
   "cell_type": "code",
   "execution_count": 20,
   "metadata": {},
   "outputs": [],
   "source": [
    "# define parameter grids\n",
    "\n",
    "param_grid1 = {\n",
    "    'cvec__max_features': [1000, 3000], \n",
    "    'cvec__min_df': [2], \n",
    "    'cvec__max_df': [0.9],\n",
    "    'cvec__ngram_range': [(1, 1), (2, 2)]}\n",
    "\n",
    "param_grid2 = {\n",
    "    'tvec__max_features': [1000, 3000], \n",
    "    'tvec__min_df': [2], \n",
    "    'tvec__max_df': [0.9],\n",
    "    'tvec__ngram_range': [(1, 1), (2, 2)]}\n",
    "\n",
    "param_grid3 = {\n",
    "    'cvec__max_features': [1000, 3000], \n",
    "    'cvec__min_df': [2], \n",
    "    'cvec__max_df': [0.9],\n",
    "    'cvec__ngram_range': [(1, 1), (2, 2)], \n",
    "    'knn__n_neighbors': [3, 5, 7, 9], \n",
    "    'knn__weights': ['uniform', 'distance']}\n",
    "\n",
    "param_grid4 = {\n",
    "    'tvec__max_features': [1000, 3000], \n",
    "    'tvec__min_df': [2], \n",
    "    'tvec__max_df': [0.9],\n",
    "    'tvec__ngram_range': [(1, 1), (2, 2)], \n",
    "    'knn__n_neighbors': [3, 5, 7, 9], \n",
    "    'knn__weights': ['uniform', 'distance']}\n",
    "\n",
    "param_grid5 = {\n",
    "    'cvec__max_features': [1000, 3000], \n",
    "    'cvec__min_df': [2], \n",
    "    'cvec__max_df': [0.9],\n",
    "    'cvec__ngram_range': [(1, 1), (2, 2)], \n",
    "    'logreg__C': [0.1, 1, 10], \n",
    "    'logreg__solver': ['liblinear'], \n",
    "    'logreg__penalty': ['l2', 'l1'], \n",
    "    'logreg__max_iter': [10000]}\n",
    "\n",
    "param_grid6 = {\n",
    "    'tvec__max_features': [1000, 3000], \n",
    "    'tvec__min_df': [2], \n",
    "    'tvec__max_df': [0.9],\n",
    "    'tvec__ngram_range': [(1, 1), (2, 2)], \n",
    "    'logreg__C': [0.1, 1, 10], \n",
    "    'logreg__solver': ['liblinear'],  \n",
    "    'logreg__penalty': ['l2', 'l1'], \n",
    "    'logreg__max_iter': [10000]}"
   ]
  },
  {
   "cell_type": "code",
   "execution_count": 21,
   "metadata": {},
   "outputs": [],
   "source": [
    "# instantiate gridsearchcvs\n",
    "\n",
    "gs_cvec_mnb = GridSearchCV(pipe1, param_grid1, cv=3)\n",
    "gs_tvec_mnb = GridSearchCV(pipe2, param_grid2, cv=3)\n",
    "\n",
    "gs_cvec_knn = GridSearchCV(pipe3, param_grid3, cv=3)\n",
    "gs_tvec_knn = GridSearchCV(pipe4, param_grid4, cv=3)\n",
    "\n",
    "gs_cvec_logreg = GridSearchCV(pipe5, param_grid5, cv=3)\n",
    "gs_tvec_logreg = GridSearchCV(pipe6, param_grid6, cv=3)"
   ]
  },
  {
   "cell_type": "code",
   "execution_count": 22,
   "metadata": {},
   "outputs": [
    {
     "name": "stdout",
     "output_type": "stream",
     "text": [
      "MULTINOMIAL NAIVE BAYES:\n",
      "Count Vectorizer-Multinomial Naive Bayes CV Accuracy: 0.852167713160411\n",
      "Tfidf Vectorizer-Multinomial Naive Bayes CV Accuracy: 0.851643630430567\n",
      "\n",
      "K-NEAREST NEIGHBOURS:\n",
      "Count Vectorizer-K-Nearest Neighbours CV Accuracy: 0.7634706814580031\n",
      "Tfidf Vectorizer-K-Nearest Neighbours CV Accuracy: 0.8030694363644875\n",
      "\n",
      "LOGISTIC REGRESSION:\n",
      "Count Vectorizer-Logistic Regression CV Accuracy: 0.8695894936040175\n",
      "Tfidf Vectorizer-Logistic Regression CV Accuracy: 0.8690562164403164\n"
     ]
    }
   ],
   "source": [
    "# get cross-validated accuracy scores\n",
    "\n",
    "print('MULTINOMIAL NAIVE BAYES:')\n",
    "print('Count Vectorizer-Multinomial Naive Bayes CV Accuracy:', \n",
    "      cross_val_score(gs_cvec_mnb, X_train, y_train, scoring='accuracy', cv=3).mean())\n",
    "print('Tfidf Vectorizer-Multinomial Naive Bayes CV Accuracy:', \n",
    "      cross_val_score(gs_tvec_mnb, X_train, y_train, scoring='accuracy', cv=3).mean())\n",
    "\n",
    "print()\n",
    "\n",
    "print('K-NEAREST NEIGHBOURS:')\n",
    "print('Count Vectorizer-K-Nearest Neighbours CV Accuracy:', \n",
    "      cross_val_score(gs_cvec_knn, X_train, y_train, scoring='accuracy', cv=3).mean())\n",
    "print('Tfidf Vectorizer-K-Nearest Neighbours CV Accuracy:', \n",
    "      cross_val_score(gs_tvec_knn, X_train, y_train, scoring='accuracy', cv=3).mean())\n",
    "\n",
    "print()\n",
    "\n",
    "print('LOGISTIC REGRESSION:')\n",
    "print('Count Vectorizer-Logistic Regression CV Accuracy:', \n",
    "      cross_val_score(gs_cvec_logreg, X_train, y_train, scoring='accuracy', cv=3).mean())\n",
    "print('Tfidf Vectorizer-Logistic Regression CV Accuracy:', \n",
    "      cross_val_score(gs_tvec_logreg, X_train, y_train, scoring='accuracy', cv=3).mean())"
   ]
  },
  {
   "cell_type": "code",
   "execution_count": 23,
   "metadata": {},
   "outputs": [
    {
     "name": "stdout",
     "output_type": "stream",
     "text": [
      "MULTINOMIAL NAIVE BAYES:\n",
      "Count Vectorizer-Multinomial Naive Bayes CV ROC AUC: 0.9198324765819331\n",
      "Tfidf Vectorizer-Multinomial Naive Bayes CV ROC AUC: 0.9252470837818852\n",
      "\n",
      "K-NEAREST NEIGHBOURS:\n",
      "Count Vectorizer-K-Nearest Neighbours CV ROC AUC: 0.8659986267929148\n",
      "Tfidf Vectorizer-K-Nearest Neighbours CV ROC AUC: 0.8725555543327532\n",
      "\n",
      "LOGISTIC REGRESSION:\n",
      "Count Vectorizer-Logistic Regression CV ROC AUC: 0.9420477135454967\n"
     ]
    },
    {
     "name": "stderr",
     "output_type": "stream",
     "text": [
      "/Users/raytan/opt/anaconda3/lib/python3.8/site-packages/sklearn/svm/_base.py:985: ConvergenceWarning: Liblinear failed to converge, increase the number of iterations.\n",
      "  warnings.warn(\"Liblinear failed to converge, increase \"\n"
     ]
    },
    {
     "name": "stdout",
     "output_type": "stream",
     "text": [
      "Tfidf Vectorizer-Logistic Regression CV ROC AUC: 0.9491093846160353\n"
     ]
    }
   ],
   "source": [
    "# get cross-validated roc auc scores\n",
    "\n",
    "print('MULTINOMIAL NAIVE BAYES:')\n",
    "print('Count Vectorizer-Multinomial Naive Bayes CV ROC AUC:', \n",
    "      cross_val_score(gs_cvec_mnb, X_train, y_train, scoring='roc_auc', cv=3).mean())\n",
    "print('Tfidf Vectorizer-Multinomial Naive Bayes CV ROC AUC:', \n",
    "      cross_val_score(gs_tvec_mnb, X_train, y_train, scoring='roc_auc', cv=3).mean())\n",
    "\n",
    "print()\n",
    "\n",
    "print('K-NEAREST NEIGHBOURS:')\n",
    "print('Count Vectorizer-K-Nearest Neighbours CV ROC AUC:', \n",
    "      cross_val_score(gs_cvec_knn, X_train, y_train, scoring='roc_auc', cv=3).mean())\n",
    "print('Tfidf Vectorizer-K-Nearest Neighbours CV ROC AUC:', \n",
    "      cross_val_score(gs_tvec_knn, X_train, y_train, scoring='roc_auc', cv=3).mean())\n",
    "\n",
    "print()\n",
    "\n",
    "print('LOGISTIC REGRESSION:')\n",
    "print('Count Vectorizer-Logistic Regression CV ROC AUC:', \n",
    "      cross_val_score(gs_cvec_logreg, X_train, y_train, scoring='roc_auc', cv=3).mean())\n",
    "print('Tfidf Vectorizer-Logistic Regression CV ROC AUC:', \n",
    "      cross_val_score(gs_tvec_logreg, X_train, y_train, scoring='roc_auc', cv=3).mean())"
   ]
  },
  {
   "cell_type": "code",
   "execution_count": 24,
   "metadata": {},
   "outputs": [],
   "source": [
    "# fit gridsearchcvs on training data\n",
    "\n",
    "gs_cvec_mnb = gs_cvec_mnb.fit(X_train, y_train)\n",
    "gs_tvec_mnb = gs_tvec_mnb.fit(X_train, y_train)\n",
    "gs_cvec_knn = gs_cvec_knn.fit(X_train, y_train)\n",
    "gs_tvec_knn = gs_tvec_knn.fit(X_train, y_train)\n",
    "gs_cvec_logreg = gs_cvec_logreg.fit(X_train, y_train)\n",
    "gs_tvec_logreg = gs_tvec_logreg.fit(X_train, y_train)"
   ]
  },
  {
   "cell_type": "code",
   "execution_count": 25,
   "metadata": {},
   "outputs": [
    {
     "name": "stdout",
     "output_type": "stream",
     "text": [
      "MULTINOMIAL NAIVE BAYES:\n",
      "Count Vectorizer-Multinomial Naive Bayes Best Parameters: \n",
      " {'cvec__max_df': 0.9, 'cvec__max_features': 3000, 'cvec__min_df': 2, 'cvec__ngram_range': (1, 1)}\n",
      "Tfidf Vectorizer-Multinomial Naive Bayes Best Parameters: \n",
      " {'tvec__max_df': 0.9, 'tvec__max_features': 1000, 'tvec__min_df': 2, 'tvec__ngram_range': (1, 1)}\n",
      "\n",
      "K-NEAREST NEIGHBOURS:\n",
      "Count Vectorizer-K-Nearest Neighbours Best Parameters: \n",
      " {'cvec__max_df': 0.9, 'cvec__max_features': 3000, 'cvec__min_df': 2, 'cvec__ngram_range': (1, 1), 'knn__n_neighbors': 9, 'knn__weights': 'uniform'}\n",
      "Tfidf Vectorizer-K-Nearest Neighbours Best Parameters: \n",
      " {'knn__n_neighbors': 9, 'knn__weights': 'uniform', 'tvec__max_df': 0.9, 'tvec__max_features': 3000, 'tvec__min_df': 2, 'tvec__ngram_range': (1, 1)}\n",
      "\n",
      "LOGISTIC REGRESSION:\n",
      "Count Vectorizer-Logistic Regression Best Parameters: \n",
      " {'cvec__max_df': 0.9, 'cvec__max_features': 3000, 'cvec__min_df': 2, 'cvec__ngram_range': (1, 1), 'logreg__C': 0.1, 'logreg__max_iter': 10000, 'logreg__penalty': 'l2', 'logreg__solver': 'liblinear'}\n",
      "Tfidf Vectorizer-Logistic Regression Best Parameters: \n",
      " {'logreg__C': 1, 'logreg__max_iter': 10000, 'logreg__penalty': 'l2', 'logreg__solver': 'liblinear', 'tvec__max_df': 0.9, 'tvec__max_features': 1000, 'tvec__min_df': 2, 'tvec__ngram_range': (1, 1)}\n"
     ]
    }
   ],
   "source": [
    "# get best parameters from gridsearchcvs\n",
    "\n",
    "print('MULTINOMIAL NAIVE BAYES:')\n",
    "print('Count Vectorizer-Multinomial Naive Bayes Best Parameters: \\n', gs_cvec_mnb.best_params_)\n",
    "print('Tfidf Vectorizer-Multinomial Naive Bayes Best Parameters: \\n', gs_tvec_mnb.best_params_)\n",
    "\n",
    "print()\n",
    "\n",
    "print('K-NEAREST NEIGHBOURS:')\n",
    "print('Count Vectorizer-K-Nearest Neighbours Best Parameters: \\n', gs_cvec_knn.best_params_)\n",
    "print('Tfidf Vectorizer-K-Nearest Neighbours Best Parameters: \\n', gs_tvec_knn.best_params_)\n",
    "\n",
    "print()\n",
    "\n",
    "print('LOGISTIC REGRESSION:')\n",
    "print('Count Vectorizer-Logistic Regression Best Parameters: \\n', gs_cvec_logreg.best_params_)\n",
    "print('Tfidf Vectorizer-Logistic Regression Best Parameters: \\n', gs_tvec_logreg.best_params_)"
   ]
  },
  {
   "cell_type": "code",
   "execution_count": 26,
   "metadata": {},
   "outputs": [
    {
     "name": "stdout",
     "output_type": "stream",
     "text": [
      "MULTINOMIAL NAIVE BAYES:\n",
      "Count Vectorizer-Multinomial Naive Bayes Training Accuracy: 0.9234424498416051\n",
      "Tfidf Vectorizer-Multinomial Naive Bayes Training Accuracy: 0.8928194297782471\n",
      "\n",
      "K-NEAREST NEIGHBOURS:\n",
      "Count Vectorizer-K-Nearest Neighbours Training Accuracy: 0.8542766631467793\n",
      "Tfidf Vectorizer-K-Nearest Neighbours Training Accuracy: 0.8579725448785639\n",
      "\n",
      "LOGISTIC REGRESSION:\n",
      "Count Vectorizer-Logistic Regression Training Accuracy: 0.9714889123548046\n",
      "Tfidf Vectorizer-Logistic Regression Training Accuracy: 0.9392819429778247\n"
     ]
    }
   ],
   "source": [
    "# get accuracy scores on training data\n",
    "\n",
    "print('MULTINOMIAL NAIVE BAYES:')\n",
    "print('Count Vectorizer-Multinomial Naive Bayes Training Accuracy:', gs_cvec_mnb.score(X_train, y_train))\n",
    "print('Tfidf Vectorizer-Multinomial Naive Bayes Training Accuracy:', gs_tvec_mnb.score(X_train, y_train))\n",
    "\n",
    "print()\n",
    "\n",
    "print('K-NEAREST NEIGHBOURS:')\n",
    "print('Count Vectorizer-K-Nearest Neighbours Training Accuracy:', gs_cvec_knn.score(X_train, y_train))\n",
    "print('Tfidf Vectorizer-K-Nearest Neighbours Training Accuracy:', gs_tvec_knn.score(X_train, y_train))\n",
    "\n",
    "print()\n",
    "\n",
    "print('LOGISTIC REGRESSION:')\n",
    "print('Count Vectorizer-Logistic Regression Training Accuracy:', gs_cvec_logreg.score(X_train, y_train))\n",
    "print('Tfidf Vectorizer-Logistic Regression Training Accuracy:', gs_tvec_logreg.score(X_train, y_train))"
   ]
  },
  {
   "cell_type": "code",
   "execution_count": 27,
   "metadata": {},
   "outputs": [
    {
     "name": "stdout",
     "output_type": "stream",
     "text": [
      "MULTINOMIAL NAIVE BAYES:\n",
      "Count Vectorizer-Multinomial Naive Bayes Training ROC AUC: 0.9774903182017808\n",
      "Tfidf Vectorizer-Multinomial Naive Bayes Training ROC AUC: 0.9641405586069618\n",
      "\n",
      "K-NEAREST NEIGHBOURS:\n",
      "Count Vectorizer-K-Nearest Neighbours Training ROC AUC: 0.9310017167724678\n",
      "Tfidf Vectorizer-K-Nearest Neighbours Training ROC AUC: 0.9333538661601903\n",
      "\n",
      "LOGISTIC REGRESSION:\n",
      "Count Vectorizer-Logistic Regression Training ROC AUC: 0.997043272932601\n",
      "Tfidf Vectorizer-Logistic Regression Training ROC AUC: 0.9859601092802674\n"
     ]
    }
   ],
   "source": [
    "# get roc auc scores on training data\n",
    "\n",
    "print('MULTINOMIAL NAIVE BAYES:')\n",
    "predicted_prob_y_train = gs_cvec_mnb.predict_proba(X_train)\n",
    "print('Count Vectorizer-Multinomial Naive Bayes Training ROC AUC:', \n",
    "      metrics.roc_auc_score(y_train, predicted_prob_y_train[:, 1]))\n",
    "predicted_prob_y_train = gs_tvec_mnb.predict_proba(X_train)\n",
    "print('Tfidf Vectorizer-Multinomial Naive Bayes Training ROC AUC:', \n",
    "      metrics.roc_auc_score(y_train, predicted_prob_y_train[:, 1]))\n",
    "\n",
    "print()\n",
    "\n",
    "print('K-NEAREST NEIGHBOURS:')\n",
    "predicted_prob_y_train = gs_cvec_knn.predict_proba(X_train)\n",
    "print('Count Vectorizer-K-Nearest Neighbours Training ROC AUC:', \n",
    "      metrics.roc_auc_score(y_train, predicted_prob_y_train[:, 1]))\n",
    "predicted_prob_y_train = gs_tvec_knn.predict_proba(X_train)\n",
    "print('Tfidf Vectorizer-K-Nearest Neighbours Training ROC AUC:', \n",
    "      metrics.roc_auc_score(y_train, predicted_prob_y_train[:, 1]))\n",
    "\n",
    "print()\n",
    "\n",
    "print('LOGISTIC REGRESSION:')\n",
    "predicted_prob_y_train = gs_cvec_logreg.predict_proba(X_train)\n",
    "print('Count Vectorizer-Logistic Regression Training ROC AUC:', \n",
    "      metrics.roc_auc_score(y_train, predicted_prob_y_train[:, 1]))\n",
    "predicted_prob_y_train = gs_tvec_logreg.predict_proba(X_train)\n",
    "print('Tfidf Vectorizer-Logistic Regression Training ROC AUC:', \n",
    "      metrics.roc_auc_score(y_train, predicted_prob_y_train[:, 1]))"
   ]
  },
  {
   "cell_type": "code",
   "execution_count": 28,
   "metadata": {},
   "outputs": [
    {
     "name": "stdout",
     "output_type": "stream",
     "text": [
      "MULTINOMIAL NAIVE BAYES:\n",
      "Count Vectorizer-Multinomial Naive Bayes Testing Accuracy: 0.8597785977859779\n",
      "Tfidf Vectorizer-Multinomial Naive Bayes Testing Accuracy: 0.8450184501845018\n",
      "\n",
      "K-NEAREST NEIGHBOURS:\n",
      "Count Vectorizer-K-Nearest Neighbours Testing Accuracy: 0.7761377613776138\n",
      "Tfidf Vectorizer-K-Nearest Neighbours Testing Accuracy: 0.8081180811808119\n",
      "\n",
      "LOGISTIC REGRESSION:\n",
      "Count Vectorizer-Logistic Regression Testing Accuracy: 0.8819188191881919\n",
      "Tfidf Vectorizer-Logistic Regression Testing Accuracy: 0.8843788437884379\n"
     ]
    }
   ],
   "source": [
    "# get accuracy scores on testing data\n",
    "\n",
    "print('MULTINOMIAL NAIVE BAYES:')\n",
    "print('Count Vectorizer-Multinomial Naive Bayes Testing Accuracy:', gs_cvec_mnb.score(X_test, y_test))\n",
    "print('Tfidf Vectorizer-Multinomial Naive Bayes Testing Accuracy:', gs_tvec_mnb.score(X_test, y_test))\n",
    "\n",
    "print()\n",
    "\n",
    "print('K-NEAREST NEIGHBOURS:')\n",
    "print('Count Vectorizer-K-Nearest Neighbours Testing Accuracy:', gs_cvec_knn.score(X_test, y_test))\n",
    "print('Tfidf Vectorizer-K-Nearest Neighbours Testing Accuracy:', gs_tvec_knn.score(X_test, y_test))\n",
    "\n",
    "print()\n",
    "\n",
    "print('LOGISTIC REGRESSION:')\n",
    "print('Count Vectorizer-Logistic Regression Testing Accuracy:', gs_cvec_logreg.score(X_test, y_test))\n",
    "print('Tfidf Vectorizer-Logistic Regression Testing Accuracy:', gs_tvec_logreg.score(X_test, y_test))"
   ]
  },
  {
   "cell_type": "code",
   "execution_count": 29,
   "metadata": {
    "scrolled": true
   },
   "outputs": [
    {
     "name": "stdout",
     "output_type": "stream",
     "text": [
      "MULTINOMIAL NAIVE BAYES:\n",
      "Count Vectorizer-Multinomial Naive Bayes Testing ROC AUC: 0.9200730831165613\n",
      "Tfidf Vectorizer-Multinomial Naive Bayes Testing ROC AUC: 0.9274185556794254\n",
      "\n",
      "K-NEAREST NEIGHBOURS:\n",
      "Count Vectorizer-K-Nearest Neighbours Testing ROC AUC: 0.8603616994921343\n",
      "Tfidf Vectorizer-K-Nearest Neighbours Testing ROC AUC: 0.8765545645980428\n",
      "\n",
      "LOGISTIC REGRESSION:\n",
      "Count Vectorizer-Logistic Regression Testing ROC AUC: 0.9447541186671621\n",
      "Tfidf Vectorizer-Logistic Regression Testing ROC AUC: 0.9500185804533631\n"
     ]
    }
   ],
   "source": [
    "# get roc auc scores on testing data\n",
    "\n",
    "print('MULTINOMIAL NAIVE BAYES:')\n",
    "predicted_prob_y_test = gs_cvec_mnb.predict_proba(X_test)\n",
    "print('Count Vectorizer-Multinomial Naive Bayes Testing ROC AUC:', \n",
    "      metrics.roc_auc_score(y_test, predicted_prob_y_test[:, 1]))\n",
    "predicted_prob_y_test = gs_tvec_mnb.predict_proba(X_test)\n",
    "print('Tfidf Vectorizer-Multinomial Naive Bayes Testing ROC AUC:', \n",
    "      metrics.roc_auc_score(y_test, predicted_prob_y_test[:, 1]))\n",
    "\n",
    "print()\n",
    "\n",
    "print('K-NEAREST NEIGHBOURS:')\n",
    "predicted_prob_y_test = gs_cvec_knn.predict_proba(X_test)\n",
    "print('Count Vectorizer-K-Nearest Neighbours Testing ROC AUC:', \n",
    "      metrics.roc_auc_score(y_test, predicted_prob_y_test[:, 1]))\n",
    "predicted_prob_y_test = gs_tvec_knn.predict_proba(X_test)\n",
    "print('Tfidf Vectorizer-K-Nearest Neighbours Testing ROC AUC:', \n",
    "      metrics.roc_auc_score(y_test, predicted_prob_y_test[:, 1]))\n",
    "\n",
    "print()\n",
    "\n",
    "print('LOGISTIC REGRESSION:')\n",
    "predicted_prob_y_test = gs_cvec_logreg.predict_proba(X_test)\n",
    "print('Count Vectorizer-Logistic Regression Testing ROC AUC:', \n",
    "      metrics.roc_auc_score(y_test, predicted_prob_y_test[:, 1]))\n",
    "predicted_prob_y_test = gs_tvec_logreg.predict_proba(X_test)\n",
    "print('Tfidf Vectorizer-Logistic Regression Testing ROC AUC:', \n",
    "      metrics.roc_auc_score(y_test, predicted_prob_y_test[:, 1]))"
   ]
  },
  {
   "cell_type": "markdown",
   "metadata": {},
   "source": [
    "### Vectorizer-Model Selection"
   ]
  },
  {
   "cell_type": "markdown",
   "metadata": {},
   "source": [
    "**Decision:** Choosing the best vectorizer-model based on accuracy and ROC AUC...\n",
    "\n",
    ">Accuracy is a metric that ranges from 0 to 1. The closer it is to 1, the better. <br>It measures how many correct predictions the model made out of all the data points.\n",
    "\n",
    "> ROC AUC is a metric that ranges from 0.5 to 1. The closer it is to 1, the better. <br>It quantifies how well separated the underlying prediction distributions made by the model are."
   ]
  },
  {
   "cell_type": "markdown",
   "metadata": {},
   "source": [
    "**Verdict:** \n",
    "\n",
    "| No | Transformer | Estimator | CV Accuracy | CV ROC AUC | Training Accuracy | Testing Accuracy | Accuracy Difference | Training ROC AUC | Testing ROC AUC | ROC AUC Difference |\n",
    "|:---:|:---|:---|:---|:---|:---|:---|:---|:---|:---|:---|\n",
    "| 1 | Count Vectorizer | Multinomial Naive Bayes | 0.852 | 0.919 | 0.923 | 0.859 | 0.064 | 0.977 | 0.920 | 0.057 |\n",
    "| 2 | Tfidf Vectorizer | Multinomial Naive Bayes | 0.851 | 0.925 | 0.892 | 0.845 | 0.047 | 0.964 | 0.927 | 0.037 |\n",
    "| 3 | Count Vectorizer | K-Nearest Neighbours | 0.763 | 0.865 | 0.854 | 0.845 | 0.009 | 0.931 | 0.860 | 0.071 |\n",
    "| 4 | Tfidf Vectorizer | K-Nearest Neighbours | 0.803 | 0.872 | 0.857 | 0.808 | 0.049 | 0.933 | 0.876 | 0.057 |\n",
    "| 5 | Count Vectorizer | Logistic Regression | 0.869 | 0.942 | 0.971 | 0.881 | 0.090 | 0.997 | 0.944 | 0.053 |\n",
    "| 6 | Tfidf Vectorizer | Logistic Regression | 0.869 | 0.949 | 0.939 | 0.884 | 0.055 | 0.985 | 0.950 | 0.035 |\n",
    "\n",
    "Among the 6 vectorizer-model combinations, the Tfidf Vectorizer-Logistic Regression performed the best. It produced the highest cross-validated accuracy (0.869) and cross-validated receiver operating characteristic area under curve (0.949). It also scored, on testing data, the highest accuracy (0.884) and receiver operating characteristic area under curve (0.950). In terms of the training-testing accuracy difference, it only managed 4th with a difference of 0.055 (i.e. its difference was the 4th smallest). However, in terms of the training-testing receiver operating characteristic area under curve difference, it emerged top with a difference of 0.035 (i.e. its difference was the smallest)."
   ]
  },
  {
   "cell_type": "code",
   "execution_count": 30,
   "metadata": {},
   "outputs": [
    {
     "data": {
      "text/plain": [
       "Pipeline(steps=[('tvec',\n",
       "                 TfidfVectorizer(max_df=0.9, max_features=1000, min_df=2)),\n",
       "                ('logreg',\n",
       "                 LogisticRegression(C=1, max_iter=10000, solver='liblinear'))])"
      ]
     },
     "execution_count": 30,
     "metadata": {},
     "output_type": "execute_result"
    }
   ],
   "source": [
    "# chosen vectorizer-model\n",
    "gs_tvec_logreg.best_estimator_"
   ]
  },
  {
   "cell_type": "code",
   "execution_count": 31,
   "metadata": {},
   "outputs": [],
   "source": [
    "# make predictions on testing data\n",
    "predicted_prob_y_test = gs_tvec_logreg.predict_proba(X_test)\n",
    "predicted_y_test = gs_tvec_logreg.predict(X_test)"
   ]
  },
  {
   "cell_type": "code",
   "execution_count": 32,
   "metadata": {},
   "outputs": [
    {
     "name": "stdout",
     "output_type": "stream",
     "text": [
      "Accuracy Score: 0.8843788437884379\n"
     ]
    }
   ],
   "source": [
    "# print accuracy score\n",
    "print('Accuracy Score:', metrics.accuracy_score(y_test, predicted_y_test))"
   ]
  },
  {
   "cell_type": "code",
   "execution_count": 33,
   "metadata": {},
   "outputs": [
    {
     "name": "stdout",
     "output_type": "stream",
     "text": [
      "Classification Report:\n",
      "              precision    recall  f1-score   support\n",
      "\n",
      "           0       0.93      0.79      0.85       345\n",
      "           1       0.86      0.96      0.91       468\n",
      "\n",
      "    accuracy                           0.88       813\n",
      "   macro avg       0.89      0.87      0.88       813\n",
      "weighted avg       0.89      0.88      0.88       813\n",
      "\n"
     ]
    }
   ],
   "source": [
    "# print classification report\n",
    "print('Classification Report:')\n",
    "print(metrics.classification_report(y_test, predicted_y_test))"
   ]
  },
  {
   "cell_type": "code",
   "execution_count": 34,
   "metadata": {},
   "outputs": [
    {
     "name": "stdout",
     "output_type": "stream",
     "text": [
      "Confusion Matrix:\n",
      "[[271  74]\n",
      " [ 20 448]]\n",
      "\n",
      "True Negatives: 271\n",
      "False Positives: 74\n",
      "False Negatives: 20\n",
      "True Positives: 448\n"
     ]
    }
   ],
   "source": [
    "# print confusion matrix\n",
    "print('Confusion Matrix:')\n",
    "print(metrics.confusion_matrix(y_test, predicted_y_test))\n",
    "\n",
    "tn, fp, fn, tp = metrics.confusion_matrix(y_test, predicted_y_test).ravel()\n",
    "print()\n",
    "print('True Negatives:', tn)\n",
    "print('False Positives:', fp)\n",
    "print('False Negatives:', fn)\n",
    "print('True Positives:', tp)"
   ]
  },
  {
   "cell_type": "code",
   "execution_count": 35,
   "metadata": {},
   "outputs": [
    {
     "data": {
      "image/png": "[encoded data removed]",
      "text/plain": [
       "<Figure size 432x288 with 2 Axes>"
      ]
     },
     "metadata": {
      "needs_background": "light"
     },
     "output_type": "display_data"
    }
   ],
   "source": [
    "# plot confusion matrix\n",
    "metrics.plot_confusion_matrix(gs_tvec_logreg.best_estimator_, X_test, y_test, \n",
    "                              cmap='Blues', values_format='d', display_labels=['Ethereum', 'Bitcoin']);\n",
    "\n",
    "plt.title('Confusion Matrix of Predictions Made by \\n Tfidf Vectorizer-Logistic Regression on Testing Data', \n",
    "          fontweight='bold', fontsize=15);\n",
    "plt.ylabel('Actual');\n",
    "plt.xlabel('Predicted');"
   ]
  },
  {
   "cell_type": "code",
   "execution_count": 36,
   "metadata": {},
   "outputs": [],
   "source": [
    "# # plot confusion matrix\n",
    "# cm = metrics.confusion_matrix(y_test, predicted_y_test)\n",
    "\n",
    "# modified_cm = []\n",
    "# for index,value in enumerate(cm):\n",
    "#     if index == 0:\n",
    "#         modified_cm.append(['TN = ' + str(value[0]), 'FP = ' + str(value[1])])\n",
    "#     if index == 1:\n",
    "#         modified_cm.append(['FN = ' + str(value[0]), 'TP = ' + str(value[1])])\n",
    "        \n",
    "# plt.figure(figsize=(10, 10))\n",
    "# sns.heatmap(cm, annot=np.array(modified_cm), fmt='',\n",
    "#             annot_kws={'size': 20}, linewidths=0.5,\n",
    "#             square=True, cmap='Blues', \n",
    "#             xticklabels = ['Ethereum', 'Bitcoin'],\n",
    "#             yticklabels = ['Ethereum', 'Bitcoin']);\n",
    "\n",
    "# plt.title('Confusion Matrix of Predictions Made by \\n Tfidf Vectorizer-Logistic Regression on Testing Data', \n",
    "#           fontweight='bold', fontsize=15);\n",
    "# plt.ylabel('Actual', fontsize = 15);\n",
    "# plt.xlabel('Predicted', fontsize = 15);\n",
    "# plt.tick_params(labelsize= 15);"
   ]
  },
  {
   "cell_type": "code",
   "execution_count": 37,
   "metadata": {},
   "outputs": [
    {
     "name": "stdout",
     "output_type": "stream",
     "text": [
      "ROC AUC Score: 0.9500185804533631\n"
     ]
    }
   ],
   "source": [
    "# print roc auc score\n",
    "print('ROC AUC Score:', metrics.roc_auc_score(y_test, predicted_prob_y_test[:, 1]))"
   ]
  },
  {
   "cell_type": "code",
   "execution_count": 38,
   "metadata": {},
   "outputs": [
    {
     "data": {
      "image/png": "[encoded data removed]",
      "text/plain": [
       "<Figure size 432x288 with 1 Axes>"
      ]
     },
     "metadata": {
      "needs_background": "light"
     },
     "output_type": "display_data"
    }
   ],
   "source": [
    "# plot roc curve\n",
    "metrics.plot_roc_curve(gs_tvec_logreg.best_estimator_, X_test, y_test, label='Vectorizer-Model');\n",
    "plt.plot([0, 1], [0, 1], label='Baseline', linestyle='--', color='maroon');\n",
    "\n",
    "plt.title('Receiver Operating Characteristic Curve of \\n Tfidf Vectorizer-Logistic Regression', \n",
    "          fontweight='bold', fontsize=15);\n",
    "plt.ylabel('True Positive Rate');\n",
    "plt.xlabel('False Positive Rate');\n",
    "plt.legend();"
   ]
  },
  {
   "cell_type": "code",
   "execution_count": 39,
   "metadata": {
    "scrolled": true
   },
   "outputs": [
    {
     "name": "stdout",
     "output_type": "stream",
     "text": [
      "Intercept: 0.47762607127361884\n"
     ]
    }
   ],
   "source": [
    "# print intercept (of the logistic regression model)\n",
    "print('Intercept:', gs_tvec_logreg.best_estimator_.named_steps['logreg'].intercept_[0])"
   ]
  },
  {
   "cell_type": "code",
   "execution_count": 40,
   "metadata": {},
   "outputs": [],
   "source": [
    "# get feature names (from the tfidf vectorizer)\n",
    "name = gs_tvec_logreg.best_estimator_.named_steps['tvec'].get_feature_names()"
   ]
  },
  {
   "cell_type": "code",
   "execution_count": 41,
   "metadata": {},
   "outputs": [
    {
     "name": "stdout",
     "output_type": "stream",
     "text": [
      "Log Odds Of Post Being Bitcoin Over Ethereum: [ 0.27727516  0.45762615  0.11658962 -0.17537962  0.08613302]\n"
     ]
    }
   ],
   "source": [
    "# get and print coefficients (of the logistic regression model)\n",
    "coef = gs_tvec_logreg.best_estimator_.named_steps['logreg'].coef_.reshape(-1)\n",
    "print('Log Odds Of Post Being Bitcoin Over Ethereum:', coef[:5])"
   ]
  },
  {
   "cell_type": "code",
   "execution_count": 42,
   "metadata": {},
   "outputs": [
    {
     "name": "stdout",
     "output_type": "stream",
     "text": [
      "Odds Of Post Being Bitcoin Over Ethereum: [1.31952941 1.5803181  1.12365821 0.83913841 1.0899513 ]\n"
     ]
    }
   ],
   "source": [
    "# print exponentiated coefficients (of the logistic regression model)\n",
    "print('Odds Of Post Being Bitcoin Over Ethereum:', np.exp(coef[:5]))"
   ]
  },
  {
   "cell_type": "code",
   "execution_count": 43,
   "metadata": {},
   "outputs": [
    {
     "data": {
      "text/html": [
       "<div>\n",
       "<style scoped>\n",
       "    .dataframe tbody tr th:only-of-type {\n",
       "        vertical-align: middle;\n",
       "    }\n",
       "\n",
       "    .dataframe tbody tr th {\n",
       "        vertical-align: top;\n",
       "    }\n",
       "\n",
       "    .dataframe thead th {\n",
       "        text-align: right;\n",
       "    }\n",
       "</style>\n",
       "<table border=\"1\" class=\"dataframe\">\n",
       "  <thead>\n",
       "    <tr style=\"text-align: right;\">\n",
       "      <th></th>\n",
       "      <th>Feature</th>\n",
       "      <th>Coefficients</th>\n",
       "    </tr>\n",
       "  </thead>\n",
       "  <tbody>\n",
       "    <tr>\n",
       "      <th>103</th>\n",
       "      <td>bitcoin</td>\n",
       "      <td>7.533891</td>\n",
       "    </tr>\n",
       "    <tr>\n",
       "      <th>114</th>\n",
       "      <td>btc</td>\n",
       "      <td>4.161946</td>\n",
       "    </tr>\n",
       "    <tr>\n",
       "      <th>499</th>\n",
       "      <td>lightning</td>\n",
       "      <td>1.520134</td>\n",
       "    </tr>\n",
       "    <tr>\n",
       "      <th>104</th>\n",
       "      <td>bitcoins</td>\n",
       "      <td>1.418579</td>\n",
       "    </tr>\n",
       "    <tr>\n",
       "      <th>749</th>\n",
       "      <td>sat</td>\n",
       "      <td>1.291895</td>\n",
       "    </tr>\n",
       "    <tr>\n",
       "      <th>994</th>\n",
       "      <td>year</td>\n",
       "      <td>1.183905</td>\n",
       "    </tr>\n",
       "    <tr>\n",
       "      <th>79</th>\n",
       "      <td>bank</td>\n",
       "      <td>0.951190</td>\n",
       "    </tr>\n",
       "    <tr>\n",
       "      <th>493</th>\n",
       "      <td>legit</td>\n",
       "      <td>0.895827</td>\n",
       "    </tr>\n",
       "    <tr>\n",
       "      <th>746</th>\n",
       "      <td>said</td>\n",
       "      <td>0.884743</td>\n",
       "    </tr>\n",
       "    <tr>\n",
       "      <th>118</th>\n",
       "      <td>bull</td>\n",
       "      <td>0.875664</td>\n",
       "    </tr>\n",
       "    <tr>\n",
       "      <th>92</th>\n",
       "      <td>believe</td>\n",
       "      <td>0.867125</td>\n",
       "    </tr>\n",
       "    <tr>\n",
       "      <th>121</th>\n",
       "      <td>buy</td>\n",
       "      <td>0.851287</td>\n",
       "    </tr>\n",
       "    <tr>\n",
       "      <th>792</th>\n",
       "      <td>site</td>\n",
       "      <td>0.814485</td>\n",
       "    </tr>\n",
       "    <tr>\n",
       "      <th>894</th>\n",
       "      <td>top</td>\n",
       "      <td>0.792850</td>\n",
       "    </tr>\n",
       "    <tr>\n",
       "      <th>63</th>\n",
       "      <td>asset</td>\n",
       "      <td>0.766851</td>\n",
       "    </tr>\n",
       "  </tbody>\n",
       "</table>\n",
       "</div>"
      ],
      "text/plain": [
       "       Feature  Coefficients\n",
       "103    bitcoin      7.533891\n",
       "114        btc      4.161946\n",
       "499  lightning      1.520134\n",
       "104   bitcoins      1.418579\n",
       "749        sat      1.291895\n",
       "994       year      1.183905\n",
       "79        bank      0.951190\n",
       "493      legit      0.895827\n",
       "746       said      0.884743\n",
       "118       bull      0.875664\n",
       "92     believe      0.867125\n",
       "121        buy      0.851287\n",
       "792       site      0.814485\n",
       "894        top      0.792850\n",
       "63       asset      0.766851"
      ]
     },
     "execution_count": 43,
     "metadata": {},
     "output_type": "execute_result"
    }
   ],
   "source": [
    "# show the top 15 features that predict bitcoin (which was assigned 1 in the target column)\n",
    "coef_btc = pd.DataFrame({'Feature': name, 'Coefficients': coef}).sort_values('Coefficients', ascending=False).head(15)\n",
    "coef_btc"
   ]
  },
  {
   "cell_type": "code",
   "execution_count": 44,
   "metadata": {},
   "outputs": [
    {
     "data": {
      "image/png": "[encoded data removed]",
      "text/plain": [
       "<Figure size 720x432 with 1 Axes>"
      ]
     },
     "metadata": {
      "needs_background": "light"
     },
     "output_type": "display_data"
    }
   ],
   "source": [
    "# visualise the top 15 features that predict bitcoin\n",
    "plt.figure(figsize=(10, 6))\n",
    "sns.barplot(data=coef_btc, x='Coefficients', y='Feature', palette='ocean_r')\n",
    "plt.title('Top 15 Features Predicting Bitcoin', fontweight='bold', fontsize=20)\n",
    "plt.xlabel('Log Odds Of Reddit Post Being Bitcoin Over Ethereum');\n",
    "\n",
    "# pd.Series(coef_btc['Coefficients'].values, index=coef_btc['Feature'].values) \\\n",
    "# .sort_values(ascending=True).plot.barh(figsize=(10, 10));"
   ]
  },
  {
   "cell_type": "code",
   "execution_count": 45,
   "metadata": {},
   "outputs": [
    {
     "data": {
      "text/html": [
       "<div>\n",
       "<style scoped>\n",
       "    .dataframe tbody tr th:only-of-type {\n",
       "        vertical-align: middle;\n",
       "    }\n",
       "\n",
       "    .dataframe tbody tr th {\n",
       "        vertical-align: top;\n",
       "    }\n",
       "\n",
       "    .dataframe thead th {\n",
       "        text-align: right;\n",
       "    }\n",
       "</style>\n",
       "<table border=\"1\" class=\"dataframe\">\n",
       "  <thead>\n",
       "    <tr style=\"text-align: right;\">\n",
       "      <th></th>\n",
       "      <th>Feature</th>\n",
       "      <th>Odds</th>\n",
       "    </tr>\n",
       "  </thead>\n",
       "  <tbody>\n",
       "    <tr>\n",
       "      <th>103</th>\n",
       "      <td>bitcoin</td>\n",
       "      <td>1870.368438</td>\n",
       "    </tr>\n",
       "    <tr>\n",
       "      <th>114</th>\n",
       "      <td>btc</td>\n",
       "      <td>64.196314</td>\n",
       "    </tr>\n",
       "    <tr>\n",
       "      <th>499</th>\n",
       "      <td>lightning</td>\n",
       "      <td>4.572836</td>\n",
       "    </tr>\n",
       "    <tr>\n",
       "      <th>104</th>\n",
       "      <td>bitcoins</td>\n",
       "      <td>4.131245</td>\n",
       "    </tr>\n",
       "    <tr>\n",
       "      <th>749</th>\n",
       "      <td>sat</td>\n",
       "      <td>3.639676</td>\n",
       "    </tr>\n",
       "    <tr>\n",
       "      <th>994</th>\n",
       "      <td>year</td>\n",
       "      <td>3.267107</td>\n",
       "    </tr>\n",
       "    <tr>\n",
       "      <th>79</th>\n",
       "      <td>bank</td>\n",
       "      <td>2.588787</td>\n",
       "    </tr>\n",
       "    <tr>\n",
       "      <th>493</th>\n",
       "      <td>legit</td>\n",
       "      <td>2.449361</td>\n",
       "    </tr>\n",
       "    <tr>\n",
       "      <th>746</th>\n",
       "      <td>said</td>\n",
       "      <td>2.422361</td>\n",
       "    </tr>\n",
       "    <tr>\n",
       "      <th>118</th>\n",
       "      <td>bull</td>\n",
       "      <td>2.400468</td>\n",
       "    </tr>\n",
       "    <tr>\n",
       "      <th>92</th>\n",
       "      <td>believe</td>\n",
       "      <td>2.380059</td>\n",
       "    </tr>\n",
       "    <tr>\n",
       "      <th>121</th>\n",
       "      <td>buy</td>\n",
       "      <td>2.342660</td>\n",
       "    </tr>\n",
       "    <tr>\n",
       "      <th>792</th>\n",
       "      <td>site</td>\n",
       "      <td>2.258011</td>\n",
       "    </tr>\n",
       "    <tr>\n",
       "      <th>894</th>\n",
       "      <td>top</td>\n",
       "      <td>2.209686</td>\n",
       "    </tr>\n",
       "    <tr>\n",
       "      <th>63</th>\n",
       "      <td>asset</td>\n",
       "      <td>2.152975</td>\n",
       "    </tr>\n",
       "  </tbody>\n",
       "</table>\n",
       "</div>"
      ],
      "text/plain": [
       "       Feature         Odds\n",
       "103    bitcoin  1870.368438\n",
       "114        btc    64.196314\n",
       "499  lightning     4.572836\n",
       "104   bitcoins     4.131245\n",
       "749        sat     3.639676\n",
       "994       year     3.267107\n",
       "79        bank     2.588787\n",
       "493      legit     2.449361\n",
       "746       said     2.422361\n",
       "118       bull     2.400468\n",
       "92     believe     2.380059\n",
       "121        buy     2.342660\n",
       "792       site     2.258011\n",
       "894        top     2.209686\n",
       "63       asset     2.152975"
      ]
     },
     "execution_count": 45,
     "metadata": {},
     "output_type": "execute_result"
    }
   ],
   "source": [
    "# show the top 15 features that predict bitcoin (which was assigned 1 in the target column)\n",
    "odds_btc = pd.DataFrame({'Feature': name, 'Odds': np.exp(coef)}).sort_values('Odds', ascending=False).head(15)\n",
    "odds_btc"
   ]
  },
  {
   "cell_type": "code",
   "execution_count": 46,
   "metadata": {},
   "outputs": [
    {
     "data": {
      "image/png": "[encoded data removed]",
      "text/plain": [
       "<Figure size 720x432 with 1 Axes>"
      ]
     },
     "metadata": {
      "needs_background": "light"
     },
     "output_type": "display_data"
    }
   ],
   "source": [
    "# visualise the top 15 features that predict bitcoin\n",
    "plt.figure(figsize=(10, 6))\n",
    "sns.barplot(data=odds_btc, x='Odds', y='Feature', palette='ocean_r')\n",
    "plt.title('Top 15 Features Predicting Bitcoin', fontweight='bold', fontsize=20)\n",
    "plt.xlabel('Odds Of Reddit Post Being Bitcoin Over Ethereum');\n",
    "\n",
    "# pd.Series(odds_btc['Odds'].values, index=odds_btc['Feature'].values) \\\n",
    "# .sort_values(ascending=True).plot.barh(figsize=(10, 10));"
   ]
  },
  {
   "cell_type": "markdown",
   "metadata": {},
   "source": [
    "**Interpretation:** Without surprise, 'bitcoin' and 'btc' are the top 2 predictors of a post belonging to the bitcoin subreddit. Based on subject domain knowledge, most of the words here do not appear to be strongly associated with bitcoin, with the exception of 'lightning' which has to do with the 'Lightning Network', a layer 2 payment protocol that is facing imminent implementation as an additional layer on top of bitcoin's current blockchain protocol."
   ]
  },
  {
   "cell_type": "code",
   "execution_count": 47,
   "metadata": {},
   "outputs": [
    {
     "data": {
      "text/html": [
       "<div>\n",
       "<style scoped>\n",
       "    .dataframe tbody tr th:only-of-type {\n",
       "        vertical-align: middle;\n",
       "    }\n",
       "\n",
       "    .dataframe tbody tr th {\n",
       "        vertical-align: top;\n",
       "    }\n",
       "\n",
       "    .dataframe thead th {\n",
       "        text-align: right;\n",
       "    }\n",
       "</style>\n",
       "<table border=\"1\" class=\"dataframe\">\n",
       "  <thead>\n",
       "    <tr style=\"text-align: right;\">\n",
       "      <th></th>\n",
       "      <th>Feature</th>\n",
       "      <th>Coefficients</th>\n",
       "    </tr>\n",
       "  </thead>\n",
       "  <tbody>\n",
       "    <tr>\n",
       "      <th>287</th>\n",
       "      <td>ethereum</td>\n",
       "      <td>-7.362979</td>\n",
       "    </tr>\n",
       "    <tr>\n",
       "      <th>284</th>\n",
       "      <td>eth</td>\n",
       "      <td>-6.884825</td>\n",
       "    </tr>\n",
       "    <tr>\n",
       "      <th>360</th>\n",
       "      <td>gas</td>\n",
       "      <td>-2.323924</td>\n",
       "    </tr>\n",
       "    <tr>\n",
       "      <th>652</th>\n",
       "      <td>poll</td>\n",
       "      <td>-2.270190</td>\n",
       "    </tr>\n",
       "    <tr>\n",
       "      <th>286</th>\n",
       "      <td>ether</td>\n",
       "      <td>-2.052778</td>\n",
       "    </tr>\n",
       "    <tr>\n",
       "      <th>822</th>\n",
       "      <td>staking</td>\n",
       "      <td>-1.899331</td>\n",
       "    </tr>\n",
       "    <tr>\n",
       "      <th>951</th>\n",
       "      <td>view</td>\n",
       "      <td>-1.772622</td>\n",
       "    </tr>\n",
       "    <tr>\n",
       "      <th>888</th>\n",
       "      <td>token</td>\n",
       "      <td>-1.653515</td>\n",
       "    </tr>\n",
       "    <tr>\n",
       "      <th>188</th>\n",
       "      <td>contract</td>\n",
       "      <td>-1.636769</td>\n",
       "    </tr>\n",
       "    <tr>\n",
       "      <th>228</th>\n",
       "      <td>defi</td>\n",
       "      <td>-1.612170</td>\n",
       "    </tr>\n",
       "    <tr>\n",
       "      <th>820</th>\n",
       "      <td>stake</td>\n",
       "      <td>-1.603364</td>\n",
       "    </tr>\n",
       "    <tr>\n",
       "      <th>650</th>\n",
       "      <td>po</td>\n",
       "      <td>-1.392991</td>\n",
       "    </tr>\n",
       "    <tr>\n",
       "      <th>106</th>\n",
       "      <td>blockchain</td>\n",
       "      <td>-1.372259</td>\n",
       "    </tr>\n",
       "    <tr>\n",
       "      <th>174</th>\n",
       "      <td>community</td>\n",
       "      <td>-1.293363</td>\n",
       "    </tr>\n",
       "    <tr>\n",
       "      <th>796</th>\n",
       "      <td>smart</td>\n",
       "      <td>-1.288001</td>\n",
       "    </tr>\n",
       "  </tbody>\n",
       "</table>\n",
       "</div>"
      ],
      "text/plain": [
       "        Feature  Coefficients\n",
       "287    ethereum     -7.362979\n",
       "284         eth     -6.884825\n",
       "360         gas     -2.323924\n",
       "652        poll     -2.270190\n",
       "286       ether     -2.052778\n",
       "822     staking     -1.899331\n",
       "951        view     -1.772622\n",
       "888       token     -1.653515\n",
       "188    contract     -1.636769\n",
       "228        defi     -1.612170\n",
       "820       stake     -1.603364\n",
       "650          po     -1.392991\n",
       "106  blockchain     -1.372259\n",
       "174   community     -1.293363\n",
       "796       smart     -1.288001"
      ]
     },
     "execution_count": 47,
     "metadata": {},
     "output_type": "execute_result"
    }
   ],
   "source": [
    "# show the top 15 features that predict ethereum (which was assigned 0 in the target column)\n",
    "coef_eth = pd.DataFrame({'Feature': name, 'Coefficients': coef}).sort_values('Coefficients', ascending=True).head(15)\n",
    "coef_eth"
   ]
  },
  {
   "cell_type": "code",
   "execution_count": 48,
   "metadata": {
    "scrolled": false
   },
   "outputs": [
    {
     "data": {
      "image/png": "[encoded data removed]",
      "text/plain": [
       "<Figure size 720x432 with 1 Axes>"
      ]
     },
     "metadata": {
      "needs_background": "light"
     },
     "output_type": "display_data"
    }
   ],
   "source": [
    "# visualise the top 15 features that predict ethereum\n",
    "plt.figure(figsize=(10, 6))\n",
    "sns.barplot(data=coef_eth, x='Coefficients', y='Feature', palette='magma_r')\n",
    "plt.title('Top 15 Features Predicting Ethereum', fontweight='bold', fontsize=20)\n",
    "plt.xlabel('Log Odds Of Reddit Post Being Bitcoin Over Ethereum');\n",
    "\n",
    "# pd.Series(coef_eth['Coefficients'].values, index=coef_eth['Feature'].values) \\\n",
    "# .sort_values(ascending=False).plot.barh(figsize=(10, 10));"
   ]
  },
  {
   "cell_type": "code",
   "execution_count": 49,
   "metadata": {},
   "outputs": [
    {
     "data": {
      "text/html": [
       "<div>\n",
       "<style scoped>\n",
       "    .dataframe tbody tr th:only-of-type {\n",
       "        vertical-align: middle;\n",
       "    }\n",
       "\n",
       "    .dataframe tbody tr th {\n",
       "        vertical-align: top;\n",
       "    }\n",
       "\n",
       "    .dataframe thead th {\n",
       "        text-align: right;\n",
       "    }\n",
       "</style>\n",
       "<table border=\"1\" class=\"dataframe\">\n",
       "  <thead>\n",
       "    <tr style=\"text-align: right;\">\n",
       "      <th></th>\n",
       "      <th>Feature</th>\n",
       "      <th>Odds</th>\n",
       "    </tr>\n",
       "  </thead>\n",
       "  <tbody>\n",
       "    <tr>\n",
       "      <th>287</th>\n",
       "      <td>ethereum</td>\n",
       "      <td>0.000634</td>\n",
       "    </tr>\n",
       "    <tr>\n",
       "      <th>284</th>\n",
       "      <td>eth</td>\n",
       "      <td>0.001023</td>\n",
       "    </tr>\n",
       "    <tr>\n",
       "      <th>360</th>\n",
       "      <td>gas</td>\n",
       "      <td>0.097889</td>\n",
       "    </tr>\n",
       "    <tr>\n",
       "      <th>652</th>\n",
       "      <td>poll</td>\n",
       "      <td>0.103293</td>\n",
       "    </tr>\n",
       "    <tr>\n",
       "      <th>286</th>\n",
       "      <td>ether</td>\n",
       "      <td>0.128378</td>\n",
       "    </tr>\n",
       "    <tr>\n",
       "      <th>822</th>\n",
       "      <td>staking</td>\n",
       "      <td>0.149669</td>\n",
       "    </tr>\n",
       "    <tr>\n",
       "      <th>951</th>\n",
       "      <td>view</td>\n",
       "      <td>0.169887</td>\n",
       "    </tr>\n",
       "    <tr>\n",
       "      <th>888</th>\n",
       "      <td>token</td>\n",
       "      <td>0.191376</td>\n",
       "    </tr>\n",
       "    <tr>\n",
       "      <th>188</th>\n",
       "      <td>contract</td>\n",
       "      <td>0.194608</td>\n",
       "    </tr>\n",
       "    <tr>\n",
       "      <th>228</th>\n",
       "      <td>defi</td>\n",
       "      <td>0.199454</td>\n",
       "    </tr>\n",
       "    <tr>\n",
       "      <th>820</th>\n",
       "      <td>stake</td>\n",
       "      <td>0.201218</td>\n",
       "    </tr>\n",
       "    <tr>\n",
       "      <th>650</th>\n",
       "      <td>po</td>\n",
       "      <td>0.248332</td>\n",
       "    </tr>\n",
       "    <tr>\n",
       "      <th>106</th>\n",
       "      <td>blockchain</td>\n",
       "      <td>0.253533</td>\n",
       "    </tr>\n",
       "    <tr>\n",
       "      <th>174</th>\n",
       "      <td>community</td>\n",
       "      <td>0.274346</td>\n",
       "    </tr>\n",
       "    <tr>\n",
       "      <th>796</th>\n",
       "      <td>smart</td>\n",
       "      <td>0.275822</td>\n",
       "    </tr>\n",
       "  </tbody>\n",
       "</table>\n",
       "</div>"
      ],
      "text/plain": [
       "        Feature      Odds\n",
       "287    ethereum  0.000634\n",
       "284         eth  0.001023\n",
       "360         gas  0.097889\n",
       "652        poll  0.103293\n",
       "286       ether  0.128378\n",
       "822     staking  0.149669\n",
       "951        view  0.169887\n",
       "888       token  0.191376\n",
       "188    contract  0.194608\n",
       "228        defi  0.199454\n",
       "820       stake  0.201218\n",
       "650          po  0.248332\n",
       "106  blockchain  0.253533\n",
       "174   community  0.274346\n",
       "796       smart  0.275822"
      ]
     },
     "execution_count": 49,
     "metadata": {},
     "output_type": "execute_result"
    }
   ],
   "source": [
    "# show the top 15 features that predict ethereum (which was assigned 0 in the target column)\n",
    "odds_eth = pd.DataFrame({'Feature': name, 'Odds': np.exp(coef)}).sort_values('Odds', ascending=True).head(15)\n",
    "odds_eth"
   ]
  },
  {
   "cell_type": "code",
   "execution_count": 50,
   "metadata": {
    "scrolled": false
   },
   "outputs": [
    {
     "data": {
      "image/png": "[encoded data removed]",
      "text/plain": [
       "<Figure size 720x432 with 1 Axes>"
      ]
     },
     "metadata": {
      "needs_background": "light"
     },
     "output_type": "display_data"
    }
   ],
   "source": [
    "# visualise the top 15 features that predict ethereum\n",
    "plt.figure(figsize=(10, 6))\n",
    "sns.barplot(data=odds_eth, x='Odds', y='Feature', palette='magma_r')\n",
    "plt.title('Top 15 Features Predicting Ethereum', fontweight='bold', fontsize=20)\n",
    "plt.xlabel('Odds Of Reddit Post Being Bitcoin Over Ethereum');\n",
    "\n",
    "# pd.Series(odds_eth['Odds'].values, index=odds_eth['Feature'].values) \\\n",
    "# .sort_values(ascending=False).plot.barh(figsize=(10, 10));"
   ]
  },
  {
   "cell_type": "markdown",
   "metadata": {},
   "source": [
    "**Interpretation:** Without surprise, 'ethereum' and 'eth' are the top 2 predictors of a post belonging to the ethereum subreddit. Drawing upon subject domain knowledge, the following predictors - 'gas', 'ether', 'staking', 'token', 'defi', 'smart', 'contract' - are terminologies that are specific to ethereum's technology and applications. They refer to different aspects of what goes on under the hood in ethereum's blockchain protocol as well as ethereum's use cases."
   ]
  },
  {
   "cell_type": "code",
   "execution_count": 51,
   "metadata": {},
   "outputs": [],
   "source": [
    "# # if gs_tvec_mnb was the chosen vectorizer-model\n",
    "# # let us explore how to get the top features"
   ]
  },
  {
   "cell_type": "code",
   "execution_count": 52,
   "metadata": {},
   "outputs": [],
   "source": [
    "# # chosen vectorizer-model\n",
    "# gs_tvec_mnb.best_estimator_"
   ]
  },
  {
   "cell_type": "code",
   "execution_count": 53,
   "metadata": {},
   "outputs": [],
   "source": [
    "# # get feature names (from the tfidf vectorizer)\n",
    "# name = gs_tvec_mnb.best_estimator_.named_steps['tvec'].get_feature_names()"
   ]
  },
  {
   "cell_type": "code",
   "execution_count": 54,
   "metadata": {},
   "outputs": [],
   "source": [
    "# # get and print log probabilities of features for bitcoin (from the multinomial naive bayes model)\n",
    "# bitcoin = gs_tvec_mnb.best_estimator_.named_steps['mnb'].feature_log_prob_[1]\n",
    "# print('Log Probabilities Of Features For Bitcoin:', bitcoin[:5])"
   ]
  },
  {
   "cell_type": "code",
   "execution_count": 55,
   "metadata": {},
   "outputs": [],
   "source": [
    "# # print probabilities\n",
    "# print('Probabilities Of Features For Bitcoin:', np.exp(bitcoin[:5]))"
   ]
  },
  {
   "cell_type": "code",
   "execution_count": 56,
   "metadata": {},
   "outputs": [],
   "source": [
    "# # get and print log probabilities of features for ethereum (from the multinomial naive bayes model)\n",
    "# ethereum = gs_tvec_mnb.best_estimator_.named_steps['mnb'].feature_log_prob_[0]\n",
    "# print('Log Probabilities Of Features For Ethereum:', ethereum[:5])"
   ]
  },
  {
   "cell_type": "code",
   "execution_count": 57,
   "metadata": {},
   "outputs": [],
   "source": [
    "# # print probabilities\n",
    "# print('Probabilities Of Features For Ethereum:', np.exp(ethereum[:5]))"
   ]
  },
  {
   "cell_type": "code",
   "execution_count": 58,
   "metadata": {},
   "outputs": [],
   "source": [
    "# # show the top 15 features that predict bitcoin (which was assigned 1 in the target column)\n",
    "# bitcoin_coef = pd.DataFrame({'Feature': name, 'Coefficients': bitcoin}).sort_values(\n",
    "#     'Coefficients', ascending=False).head(15)\n",
    "# bitcoin_coef"
   ]
  },
  {
   "cell_type": "code",
   "execution_count": 59,
   "metadata": {},
   "outputs": [],
   "source": [
    "# # visualise the top 15 features that predict bitcoin\n",
    "# plt.figure(figsize=(10, 6))\n",
    "# sns.barplot(data=bitcoin_coef, x='Coefficients', y='Feature', palette='ocean_r')\n",
    "# plt.title('Top 15 Features Predicting Bitcoin', fontweight='bold', fontsize=20)\n",
    "# plt.xlabel('Log Probability of Reddit Post Being Bitcoin');\n",
    "\n",
    "# # pd.Series(bitcoin_coef['Coefficients'].values, index=bitcoin_coef['Feature'].values) \\\n",
    "# # .sort_values(ascending=True).plot.barh(figsize=(10, 10));"
   ]
  },
  {
   "cell_type": "code",
   "execution_count": 60,
   "metadata": {},
   "outputs": [],
   "source": [
    "# # show the top 15 features that predict bitcoin (which was assigned 1 in the target column)\n",
    "# bitcoin_probs = pd.DataFrame({'Feature': name, 'Probabilities': np.exp(bitcoin)}).sort_values(\n",
    "#     'Probabilities', ascending=False).head(15)\n",
    "# bitcoin_probs"
   ]
  },
  {
   "cell_type": "code",
   "execution_count": 61,
   "metadata": {},
   "outputs": [],
   "source": [
    "# # visualise the top 15 features that predict bitcoin\n",
    "# plt.figure(figsize=(10, 6))\n",
    "# sns.barplot(data=bitcoin_probs, x='Probabilities', y='Feature', palette='ocean_r')\n",
    "# plt.title('Top 15 Features Predicting Bitcoin', fontweight='bold', fontsize=20)\n",
    "# plt.xlabel('Probability of Reddit Post Being Bitcoin');\n",
    "\n",
    "# # pd.Series(bitcoin_probs['Probabilities'].values, index=bitcoin_probs['Feature'].values) \\\n",
    "# # .sort_values(ascending=True).plot.barh(figsize=(10, 10));"
   ]
  },
  {
   "cell_type": "code",
   "execution_count": 62,
   "metadata": {},
   "outputs": [],
   "source": [
    "# # show the top 15 features that predict ethereum (which was assigned 0 in the target column)\n",
    "# ethereum_coef = pd.DataFrame({'Feature': name, 'Coefficients': ethereum}).sort_values(\n",
    "#     'Coefficients', ascending=False).head(15)\n",
    "# ethereum_coef"
   ]
  },
  {
   "cell_type": "code",
   "execution_count": 63,
   "metadata": {},
   "outputs": [],
   "source": [
    "# # visualise the top 15 features that predict ethereum\n",
    "# plt.figure(figsize=(10, 6))\n",
    "# sns.barplot(data=ethereum_coef, x='Coefficients', y='Feature', palette='magma_r')\n",
    "# plt.title('Top 15 Features Predicting Ethereum', fontweight='bold', fontsize=20)\n",
    "# plt.xlabel('Log Probability of Reddit Post Being Ethereum');\n",
    "\n",
    "# # pd.Series(ethereum_coef['Coefficients'].values, index=ethereum_coef['Feature'].values) \\\n",
    "# # .sort_values(ascending=True).plot.barh(figsize=(10, 10));"
   ]
  },
  {
   "cell_type": "code",
   "execution_count": 64,
   "metadata": {},
   "outputs": [],
   "source": [
    "# # show the top 15 features that predict ethereum (which was assigned 0 in the target column)\n",
    "# ethereum_probs = pd.DataFrame({'Feature': name, 'Probabilities': np.exp(ethereum)}).sort_values(\n",
    "#     'Probabilities', ascending=False).head(15)\n",
    "# ethereum_probs"
   ]
  },
  {
   "cell_type": "code",
   "execution_count": 65,
   "metadata": {},
   "outputs": [],
   "source": [
    "# # visualise the top 15 features that predict ethereum\n",
    "# plt.figure(figsize=(10, 6))\n",
    "# sns.barplot(data=ethereum_probs, x='Probabilities', y='Feature', palette='magma_r')\n",
    "# plt.title('Top 15 Features Predicting Ethereum', fontweight='bold', fontsize=20)\n",
    "# plt.xlabel('Probability of Reddit Post Being Ethereum');\n",
    "\n",
    "# # pd.Series(ethereum_probs['Probabilities'].values, index=ethereum_probs['Feature'].values) \\\n",
    "# # .sort_values(ascending=True).plot.barh(figsize=(10, 10));"
   ]
  },
  {
   "cell_type": "markdown",
   "metadata": {},
   "source": [
    "### Null Model"
   ]
  },
  {
   "cell_type": "code",
   "execution_count": 66,
   "metadata": {},
   "outputs": [
    {
     "data": {
      "text/plain": [
       "1    0.575175\n",
       "0    0.424825\n",
       "Name: subreddit, dtype: float64"
      ]
     },
     "execution_count": 66,
     "metadata": {},
     "output_type": "execute_result"
    }
   ],
   "source": [
    "# get baseline accuracy\n",
    "y.value_counts(normalize=True)"
   ]
  },
  {
   "cell_type": "markdown",
   "metadata": {},
   "source": [
    "**Interpretation:** The baseline accuracy of the null model at predicting a reddit post to be from the bitcoin subreddit is 0.575. This is poorer than the Tfidf Vectorizer-Logistic Regression which was able to get a testing accuracy of 0.884. Hence, the Tfidf Vectorizer-Logistic Regression has managed to outperform the null model by an accuracy margin of 0.309."
   ]
  },
  {
   "cell_type": "code",
   "execution_count": 67,
   "metadata": {
    "scrolled": true
   },
   "outputs": [
    {
     "data": {
      "text/plain": [
       "0.5"
      ]
     },
     "execution_count": 67,
     "metadata": {},
     "output_type": "execute_result"
    }
   ],
   "source": [
    "# get baseline roc auc\n",
    "y_mean_arr = np.full(y.shape, y.mean())\n",
    "metrics.roc_auc_score(y, y_mean_arr)"
   ]
  },
  {
   "cell_type": "markdown",
   "metadata": {},
   "source": [
    "**Interpretation:** The baseline ROC AUC of the null model is 0.50. This is poorer than the Tfidf Vectorizer-Logistic Regression which was able to get a testing ROC AUC of 0.95. Hence, the Tfidf Vectorizer-Logistic Regression has managed to outperform the null model by a ROC AUC margin of 0.45."
   ]
  },
  {
   "cell_type": "markdown",
   "metadata": {},
   "source": [
    "## Results & Analysis"
   ]
  },
  {
   "cell_type": "markdown",
   "metadata": {},
   "source": [
    "A total of 6 vectorizer-model combinations were evaluated. The vectorizers considered were Count Vectorizer and Tfidf Vectorizer. The models considered were Multinomial Naive Bayes, K-Nearest Neighbours, and Logistic Regression. Each combination was placed in a pipeline and then passed into a grid search cv to find the optimal collection of hyperparameters. Evaluation of the combinations was conducted using 2 metrics: accuracy and receiver operating characteristic area under curve.\n",
    "\n",
    "First, cross validation was done on the training dataset for all 6 combinations. Logistic Regression performed the best, followed by Multinomial Naïve Bayes, and then K-Nearest Neighbours. There is no clear winner between a Count-Vectorized model and a Tfidf-Vectorized model.\n",
    "\n",
    "Next, all 6 combinations were fitted on the training dataset. After grid search cv had found for them the best set of hyperparameters, their performance scores on the training and testing datasets were determined. On both datasets, Logistic Regression was once again the best performer, followed by Multinomial Naïve Bayes, and then K-Nearest Neighbours. However, when the difference between the training and testing accuracy was calculated, K-Nearest Neighbour had the smallest difference, followed by Multinomial Naïve Bayes, and then Logistic Regression. Conversely, the difference between the training and testing receiver operating characteristic area under curve was smallest for Logistic Regression, followed by Multinomial Naïve Bayes, and then K-Nearest Neighbours. There is no clear distinction in performance between a Count-Vectorized model and a Tfidf-Vectorized model on the training and testing datasets.\n",
    "\n",
    "All in all, Tfidf Vectorizer-Logistic Regression is the combination of choice as it performed the best generally across all the measures of performance. Just on the testing dataset alone, it scored the highest accuracy (0.884) and cross-validated receiver operating characteristic area under curve (0.950).\n",
    "\n",
    "The top 3 words that predicted a post to be from the Bitcoin subreddit were ‘bitcoin’, ‘btc’, and ‘lightning’. The word ‘bitcoin’ alone had a log odds of 7.53 (i.e. an increase in the word count of ‘bitcoin’ by 1 in the post makes it 1863 times as likely for the post to be from the Bitcoin subreddit than the Ethereum subreddit). This is followed by ‘btc’ which had a log odds of 4.16 (64 times) and ‘lightning’ which had a log odds of 1.52 (4 times). The top 3 words that predicted a post to be from the Ethereum subreddit were ‘ethereum’, ‘eth’, and ‘gas’. The word ‘ethereum’ alone had a log odds of -7.36 (i.e. an increase in the word count of ‘ethereum’ by 1 in the post makes it 6.36e-5 times as likely for the post to be from the Bitcoin subreddit than the Ethereum subreddit). This is followed by ‘eth’ which had a log odds of -6.88 (1.02e-3 times) and ‘gas’ which had a log odds of -2.32 (9.82e-2 times)."
   ]
  },
  {
   "cell_type": "markdown",
   "metadata": {},
   "source": [
    "## Recommendations & Conclusions"
   ]
  },
  {
   "cell_type": "markdown",
   "metadata": {},
   "source": [
    "With the top words that the natural language processing classifier has found for each subreddit, a minimum viable product (i.e. a pilot version of the chatbot) can be designed. In its implementation, this chatbot will pick up on the keywords in a user-submitted message and try to identify whether the query pertains to Bitcoin or Ethereum. It will then give a suitable answer or route the message to the right customer service representative for further management.\n",
    "\n",
    "Outside of the classifier’s ability to be used in the design of a chatbot, the results from this project can also be applied to other domains of cryptocurrency such as in tagging published articles, making search recommendations, auto-correcting or auto-completing terminologies and jargons, and measuring market sentiments of the two coins.\n",
    "\n",
    "In conclusion, a natural language processing classifier could be trained to accurately distinguish posts from the subreddits of two cryptocurrencies (Bitcoin and Ethereum) that have been chosen for this project. Moving forward, the machine learning could be expanded to include other cryptocurrencies so that organisations will be able to extend support to other coins or tokens and provide a better customer experience. So far, only text data has been analysed. In future, there might also be value in analysing other forms of unstructured data that are not text-based (e.g. pictures, videos, audios) which may also convey powerful predictive clues during a classification task."
   ]
  },
  {
   "cell_type": "markdown",
   "metadata": {},
   "source": [
    "## References"
   ]
  },
  {
   "cell_type": "markdown",
   "metadata": {},
   "source": [
    "https://www.investopedia.com/terms/c/cryptocurrency.asp<br>\n",
    "https://www.nerdwallet.com/article/investing/cryptocurrency-7-things-to-know<br>\n",
    "https://bernardmarr.com/what-is-the-difference-between-bitcoin-and-ethereum/<br>\n",
    "https://www.reuters.com/article/us-crypto-currencies-flows-idUSKBN28V2OE<br>\n",
    "https://www.oecd.org/financial/education/consumer-insights-survey-on-cryptoassets.pdf<br>\n",
    "https://www.bloomberg.com/news/articles/2021-05-09/bitcoin-and-ethereum-how-are-they-different-quicktake"
   ]
  }
 ],
 "metadata": {
  "anaconda-cloud": {},
  "kernelspec": {
   "display_name": "Python 3",
   "language": "python",
   "name": "python3"
  },
  "language_info": {
   "codemirror_mode": {
    "name": "ipython",
    "version": 3
   },
   "file_extension": ".py",
   "mimetype": "text/x-python",
   "name": "python",
   "nbconvert_exporter": "python",
   "pygments_lexer": "ipython3",
   "version": "3.8.8"
  }
 },
 "nbformat": 4,
 "nbformat_minor": 4
}
