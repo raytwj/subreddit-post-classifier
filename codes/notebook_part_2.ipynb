{
 "cells": [
  {
   "cell_type": "markdown",
   "metadata": {},
   "source": [
    "<img src=\"http://imgur.com/1ZcRyrc.png\" style=\"float: left; margin: 20px; height: 55px\">\n",
    "\n",
    "# Project 3: Application Programming Interface, Natural Language Processing, & Classification Modelling"
   ]
  },
  {
   "cell_type": "markdown",
   "metadata": {},
   "source": [
    "### Contents:\n",
    "#### Part 2 (of 3)\n",
    "- Executive Summary\n",
    "- Problem Statement\n",
    "- Background & Research\n",
    "- Data Collection\n",
    "- [Data Wrangling](#Data-Wrangling)\n",
    "- [Exploration & Visualisation](#Exploration-&-Visualisation)\n",
    "- Pre-Processing & Modelling\n",
    "- Results & Analysis\n",
    "- Recommendations & Conclusions\n",
    "- References"
   ]
  },
  {
   "cell_type": "markdown",
   "metadata": {},
   "source": [
    "## Data Wrangling"
   ]
  },
  {
   "cell_type": "markdown",
   "metadata": {},
   "source": [
    "### Import Libraries"
   ]
  },
  {
   "cell_type": "code",
   "execution_count": 1,
   "metadata": {
    "scrolled": true
   },
   "outputs": [],
   "source": [
    "import numpy as np\n",
    "import pandas as pd\n",
    "import matplotlib.pyplot as plt\n",
    "import seaborn as sns\n",
    "\n",
    "import re\n",
    "import string\n",
    "from sklearn.feature_extraction.text import CountVectorizer, TfidfVectorizer\n",
    "\n",
    "pd.set_option('display.max.columns', None)\n",
    "pd.set_option('display.max.colwidth', 100)"
   ]
  },
  {
   "cell_type": "markdown",
   "metadata": {},
   "source": [
    "### Data Sources"
   ]
  },
  {
   "cell_type": "markdown",
   "metadata": {},
   "source": [
    "The following data sources were used:\n",
    "\n",
    "* [`btc_posts.csv`](../data/btc_posts.csv): Bitcoin Subreddit Posts Dataset\n",
    "\n",
    "> This dataset contains the attributes of the 5000 most recent posts (as of 22 July 2021) from the bitcoin subreddit [here](https://www.reddit.com/r/Bitcoin/).\n",
    "\n",
    "* [`eth_posts.csv`](../data/eth_posts.csv): Ethereum Subreddit Posts Dataset\n",
    "\n",
    "> This dataset contains the attributes of the 10000 most recent posts (as of 22 July 2021) from the ethereum subreddit [here](https://www.reddit.com/r/ethereum/)."
   ]
  },
  {
   "cell_type": "markdown",
   "metadata": {},
   "source": [
    "### Data Importing"
   ]
  },
  {
   "cell_type": "markdown",
   "metadata": {},
   "source": [
    "#### Import Bitcoin Posts Data"
   ]
  },
  {
   "cell_type": "code",
   "execution_count": 2,
   "metadata": {},
   "outputs": [],
   "source": [
    "# import csv file as dataframe\n",
    "p_btc_df = pd.read_csv('../data/btc_posts.csv')"
   ]
  },
  {
   "cell_type": "code",
   "execution_count": 3,
   "metadata": {
    "scrolled": true
   },
   "outputs": [
    {
     "data": {
      "text/html": [
       "<div>\n",
       "<style scoped>\n",
       "    .dataframe tbody tr th:only-of-type {\n",
       "        vertical-align: middle;\n",
       "    }\n",
       "\n",
       "    .dataframe tbody tr th {\n",
       "        vertical-align: top;\n",
       "    }\n",
       "\n",
       "    .dataframe thead th {\n",
       "        text-align: right;\n",
       "    }\n",
       "</style>\n",
       "<table border=\"1\" class=\"dataframe\">\n",
       "  <thead>\n",
       "    <tr style=\"text-align: right;\">\n",
       "      <th></th>\n",
       "      <th>all_awardings</th>\n",
       "      <th>allow_live_comments</th>\n",
       "      <th>author</th>\n",
       "      <th>author_flair_css_class</th>\n",
       "      <th>author_flair_richtext</th>\n",
       "      <th>author_flair_template_id</th>\n",
       "      <th>author_flair_text</th>\n",
       "      <th>author_flair_text_color</th>\n",
       "      <th>author_flair_type</th>\n",
       "      <th>author_fullname</th>\n",
       "      <th>author_is_blocked</th>\n",
       "      <th>author_patreon_flair</th>\n",
       "      <th>author_premium</th>\n",
       "      <th>awarders</th>\n",
       "      <th>can_mod_post</th>\n",
       "      <th>contest_mode</th>\n",
       "      <th>created_utc</th>\n",
       "      <th>domain</th>\n",
       "      <th>full_link</th>\n",
       "      <th>gildings</th>\n",
       "      <th>id</th>\n",
       "      <th>is_created_from_ads_ui</th>\n",
       "      <th>is_crosspostable</th>\n",
       "      <th>is_meta</th>\n",
       "      <th>is_original_content</th>\n",
       "      <th>is_reddit_media_domain</th>\n",
       "      <th>is_robot_indexable</th>\n",
       "      <th>is_self</th>\n",
       "      <th>is_video</th>\n",
       "      <th>link_flair_background_color</th>\n",
       "      <th>link_flair_richtext</th>\n",
       "      <th>link_flair_text_color</th>\n",
       "      <th>link_flair_type</th>\n",
       "      <th>locked</th>\n",
       "      <th>media_only</th>\n",
       "      <th>no_follow</th>\n",
       "      <th>num_comments</th>\n",
       "      <th>num_crossposts</th>\n",
       "      <th>over_18</th>\n",
       "      <th>parent_whitelist_status</th>\n",
       "      <th>permalink</th>\n",
       "      <th>pinned</th>\n",
       "      <th>pwls</th>\n",
       "      <th>removed_by_category</th>\n",
       "      <th>retrieved_on</th>\n",
       "      <th>score</th>\n",
       "      <th>selftext</th>\n",
       "      <th>send_replies</th>\n",
       "      <th>spoiler</th>\n",
       "      <th>stickied</th>\n",
       "      <th>subreddit</th>\n",
       "      <th>subreddit_id</th>\n",
       "      <th>subreddit_subscribers</th>\n",
       "      <th>subreddit_type</th>\n",
       "      <th>thumbnail</th>\n",
       "      <th>title</th>\n",
       "      <th>total_awards_received</th>\n",
       "      <th>treatment_tags</th>\n",
       "      <th>upvote_ratio</th>\n",
       "      <th>url</th>\n",
       "      <th>whitelist_status</th>\n",
       "      <th>wls</th>\n",
       "      <th>post_hint</th>\n",
       "      <th>preview</th>\n",
       "      <th>thumbnail_height</th>\n",
       "      <th>thumbnail_width</th>\n",
       "      <th>url_overridden_by_dest</th>\n",
       "      <th>media</th>\n",
       "      <th>media_embed</th>\n",
       "      <th>secure_media</th>\n",
       "      <th>secure_media_embed</th>\n",
       "      <th>distinguished</th>\n",
       "      <th>suggested_sort</th>\n",
       "      <th>link_flair_text</th>\n",
       "      <th>gallery_data</th>\n",
       "      <th>is_gallery</th>\n",
       "      <th>media_metadata</th>\n",
       "      <th>author_flair_background_color</th>\n",
       "      <th>banned_by</th>\n",
       "      <th>author_cakeday</th>\n",
       "      <th>crosspost_parent</th>\n",
       "      <th>crosspost_parent_list</th>\n",
       "      <th>link_flair_template_id</th>\n",
       "    </tr>\n",
       "  </thead>\n",
       "  <tbody>\n",
       "    <tr>\n",
       "      <th>0</th>\n",
       "      <td>[]</td>\n",
       "      <td>False</td>\n",
       "      <td>theremnanthodl</td>\n",
       "      <td>noob</td>\n",
       "      <td>[{'e': 'text', 't': 'redditor for a day'}]</td>\n",
       "      <td>2ec8e69e-6c36-11e9-a04b-0afb553d4ea6</td>\n",
       "      <td>redditor for a day</td>\n",
       "      <td>dark</td>\n",
       "      <td>richtext</td>\n",
       "      <td>t2_dg8srid3</td>\n",
       "      <td>False</td>\n",
       "      <td>False</td>\n",
       "      <td>False</td>\n",
       "      <td>[]</td>\n",
       "      <td>False</td>\n",
       "      <td>False</td>\n",
       "      <td>1626939006</td>\n",
       "      <td>self.Bitcoin</td>\n",
       "      <td>https://www.reddit.com/r/Bitcoin/comments/op915k/bitcoin_town_a_fiction_novel_about_using_bitcoin/</td>\n",
       "      <td>{}</td>\n",
       "      <td>op915k</td>\n",
       "      <td>False</td>\n",
       "      <td>False</td>\n",
       "      <td>False</td>\n",
       "      <td>False</td>\n",
       "      <td>False</td>\n",
       "      <td>False</td>\n",
       "      <td>True</td>\n",
       "      <td>False</td>\n",
       "      <td>NaN</td>\n",
       "      <td>[]</td>\n",
       "      <td>dark</td>\n",
       "      <td>text</td>\n",
       "      <td>False</td>\n",
       "      <td>False</td>\n",
       "      <td>True</td>\n",
       "      <td>0</td>\n",
       "      <td>0</td>\n",
       "      <td>False</td>\n",
       "      <td>all_ads</td>\n",
       "      <td>/r/Bitcoin/comments/op915k/bitcoin_town_a_fiction_novel_about_using_bitcoin/</td>\n",
       "      <td>False</td>\n",
       "      <td>6</td>\n",
       "      <td>reddit</td>\n",
       "      <td>1626939018</td>\n",
       "      <td>1</td>\n",
       "      <td>[removed]</td>\n",
       "      <td>True</td>\n",
       "      <td>False</td>\n",
       "      <td>False</td>\n",
       "      <td>Bitcoin</td>\n",
       "      <td>t5_2s3qj</td>\n",
       "      <td>3206851</td>\n",
       "      <td>public</td>\n",
       "      <td>self</td>\n",
       "      <td>Bitcoin Town - A fiction novel about using Bitcoin against the Great Reset</td>\n",
       "      <td>0</td>\n",
       "      <td>[]</td>\n",
       "      <td>1.0</td>\n",
       "      <td>https://www.reddit.com/r/Bitcoin/comments/op915k/bitcoin_town_a_fiction_novel_about_using_bitcoin/</td>\n",
       "      <td>all_ads</td>\n",
       "      <td>6</td>\n",
       "      <td>NaN</td>\n",
       "      <td>NaN</td>\n",
       "      <td>NaN</td>\n",
       "      <td>NaN</td>\n",
       "      <td>NaN</td>\n",
       "      <td>NaN</td>\n",
       "      <td>NaN</td>\n",
       "      <td>NaN</td>\n",
       "      <td>NaN</td>\n",
       "      <td>NaN</td>\n",
       "      <td>NaN</td>\n",
       "      <td>NaN</td>\n",
       "      <td>NaN</td>\n",
       "      <td>NaN</td>\n",
       "      <td>NaN</td>\n",
       "      <td>NaN</td>\n",
       "      <td>NaN</td>\n",
       "      <td>NaN</td>\n",
       "      <td>NaN</td>\n",
       "      <td>NaN</td>\n",
       "      <td>NaN</td>\n",
       "    </tr>\n",
       "  </tbody>\n",
       "</table>\n",
       "</div>"
      ],
      "text/plain": [
       "  all_awardings  allow_live_comments          author author_flair_css_class  \\\n",
       "0            []                False  theremnanthodl                   noob   \n",
       "\n",
       "                        author_flair_richtext  \\\n",
       "0  [{'e': 'text', 't': 'redditor for a day'}]   \n",
       "\n",
       "               author_flair_template_id   author_flair_text  \\\n",
       "0  2ec8e69e-6c36-11e9-a04b-0afb553d4ea6  redditor for a day   \n",
       "\n",
       "  author_flair_text_color author_flair_type author_fullname author_is_blocked  \\\n",
       "0                    dark          richtext     t2_dg8srid3             False   \n",
       "\n",
       "  author_patreon_flair author_premium awarders  can_mod_post  contest_mode  \\\n",
       "0                False          False       []         False         False   \n",
       "\n",
       "   created_utc        domain  \\\n",
       "0   1626939006  self.Bitcoin   \n",
       "\n",
       "                                                                                            full_link  \\\n",
       "0  https://www.reddit.com/r/Bitcoin/comments/op915k/bitcoin_town_a_fiction_novel_about_using_bitcoin/   \n",
       "\n",
       "  gildings      id  is_created_from_ads_ui  is_crosspostable  is_meta  \\\n",
       "0       {}  op915k                   False             False    False   \n",
       "\n",
       "   is_original_content  is_reddit_media_domain  is_robot_indexable  is_self  \\\n",
       "0                False                   False               False     True   \n",
       "\n",
       "   is_video  link_flair_background_color link_flair_richtext  \\\n",
       "0     False                          NaN                  []   \n",
       "\n",
       "  link_flair_text_color link_flair_type  locked  media_only  no_follow  \\\n",
       "0                  dark            text   False       False       True   \n",
       "\n",
       "   num_comments  num_crossposts  over_18 parent_whitelist_status  \\\n",
       "0             0               0    False                 all_ads   \n",
       "\n",
       "                                                                      permalink  \\\n",
       "0  /r/Bitcoin/comments/op915k/bitcoin_town_a_fiction_novel_about_using_bitcoin/   \n",
       "\n",
       "   pinned  pwls removed_by_category  retrieved_on  score   selftext  \\\n",
       "0   False     6              reddit    1626939018      1  [removed]   \n",
       "\n",
       "   send_replies  spoiler  stickied subreddit subreddit_id  \\\n",
       "0          True    False     False   Bitcoin     t5_2s3qj   \n",
       "\n",
       "   subreddit_subscribers subreddit_type thumbnail  \\\n",
       "0                3206851         public      self   \n",
       "\n",
       "                                                                        title  \\\n",
       "0  Bitcoin Town - A fiction novel about using Bitcoin against the Great Reset   \n",
       "\n",
       "   total_awards_received treatment_tags  upvote_ratio  \\\n",
       "0                      0             []           1.0   \n",
       "\n",
       "                                                                                                  url  \\\n",
       "0  https://www.reddit.com/r/Bitcoin/comments/op915k/bitcoin_town_a_fiction_novel_about_using_bitcoin/   \n",
       "\n",
       "  whitelist_status  wls post_hint preview  thumbnail_height  thumbnail_width  \\\n",
       "0          all_ads    6       NaN     NaN               NaN              NaN   \n",
       "\n",
       "  url_overridden_by_dest media media_embed secure_media secure_media_embed  \\\n",
       "0                    NaN   NaN         NaN          NaN                NaN   \n",
       "\n",
       "  distinguished suggested_sort link_flair_text gallery_data is_gallery  \\\n",
       "0           NaN            NaN             NaN          NaN        NaN   \n",
       "\n",
       "  media_metadata  author_flair_background_color banned_by author_cakeday  \\\n",
       "0            NaN                            NaN       NaN            NaN   \n",
       "\n",
       "  crosspost_parent crosspost_parent_list link_flair_template_id  \n",
       "0              NaN                   NaN                    NaN  "
      ]
     },
     "execution_count": 3,
     "metadata": {},
     "output_type": "execute_result"
    }
   ],
   "source": [
    "# check out first row\n",
    "p_btc_df.head(1)"
   ]
  },
  {
   "cell_type": "markdown",
   "metadata": {},
   "source": [
    "#### Import Ethereum Posts Data"
   ]
  },
  {
   "cell_type": "code",
   "execution_count": 4,
   "metadata": {},
   "outputs": [
    {
     "name": "stderr",
     "output_type": "stream",
     "text": [
      "/Users/raytan/opt/anaconda3/lib/python3.8/site-packages/IPython/core/interactiveshell.py:3165: DtypeWarning: Columns (18,59,81) have mixed types.Specify dtype option on import or set low_memory=False.\n",
      "  has_raised = await self.run_ast_nodes(code_ast.body, cell_name,\n"
     ]
    }
   ],
   "source": [
    "# import csv file as dataframe\n",
    "p_eth_df = pd.read_csv('../data/eth_posts.csv')"
   ]
  },
  {
   "cell_type": "code",
   "execution_count": 5,
   "metadata": {},
   "outputs": [
    {
     "data": {
      "text/html": [
       "<div>\n",
       "<style scoped>\n",
       "    .dataframe tbody tr th:only-of-type {\n",
       "        vertical-align: middle;\n",
       "    }\n",
       "\n",
       "    .dataframe tbody tr th {\n",
       "        vertical-align: top;\n",
       "    }\n",
       "\n",
       "    .dataframe thead th {\n",
       "        text-align: right;\n",
       "    }\n",
       "</style>\n",
       "<table border=\"1\" class=\"dataframe\">\n",
       "  <thead>\n",
       "    <tr style=\"text-align: right;\">\n",
       "      <th></th>\n",
       "      <th>all_awardings</th>\n",
       "      <th>allow_live_comments</th>\n",
       "      <th>author</th>\n",
       "      <th>author_flair_css_class</th>\n",
       "      <th>author_flair_richtext</th>\n",
       "      <th>author_flair_text</th>\n",
       "      <th>author_flair_type</th>\n",
       "      <th>author_fullname</th>\n",
       "      <th>author_patreon_flair</th>\n",
       "      <th>author_premium</th>\n",
       "      <th>awarders</th>\n",
       "      <th>can_mod_post</th>\n",
       "      <th>contest_mode</th>\n",
       "      <th>created_utc</th>\n",
       "      <th>domain</th>\n",
       "      <th>full_link</th>\n",
       "      <th>gildings</th>\n",
       "      <th>id</th>\n",
       "      <th>is_created_from_ads_ui</th>\n",
       "      <th>is_crosspostable</th>\n",
       "      <th>is_meta</th>\n",
       "      <th>is_original_content</th>\n",
       "      <th>is_reddit_media_domain</th>\n",
       "      <th>is_robot_indexable</th>\n",
       "      <th>is_self</th>\n",
       "      <th>is_video</th>\n",
       "      <th>link_flair_background_color</th>\n",
       "      <th>link_flair_richtext</th>\n",
       "      <th>link_flair_text_color</th>\n",
       "      <th>link_flair_type</th>\n",
       "      <th>locked</th>\n",
       "      <th>media_only</th>\n",
       "      <th>no_follow</th>\n",
       "      <th>num_comments</th>\n",
       "      <th>num_crossposts</th>\n",
       "      <th>over_18</th>\n",
       "      <th>parent_whitelist_status</th>\n",
       "      <th>permalink</th>\n",
       "      <th>pinned</th>\n",
       "      <th>pwls</th>\n",
       "      <th>retrieved_on</th>\n",
       "      <th>score</th>\n",
       "      <th>selftext</th>\n",
       "      <th>send_replies</th>\n",
       "      <th>spoiler</th>\n",
       "      <th>stickied</th>\n",
       "      <th>subreddit</th>\n",
       "      <th>subreddit_id</th>\n",
       "      <th>subreddit_subscribers</th>\n",
       "      <th>subreddit_type</th>\n",
       "      <th>suggested_sort</th>\n",
       "      <th>thumbnail</th>\n",
       "      <th>title</th>\n",
       "      <th>total_awards_received</th>\n",
       "      <th>treatment_tags</th>\n",
       "      <th>upvote_ratio</th>\n",
       "      <th>url</th>\n",
       "      <th>whitelist_status</th>\n",
       "      <th>wls</th>\n",
       "      <th>author_is_blocked</th>\n",
       "      <th>removed_by_category</th>\n",
       "      <th>thumbnail_height</th>\n",
       "      <th>thumbnail_width</th>\n",
       "      <th>media</th>\n",
       "      <th>media_embed</th>\n",
       "      <th>post_hint</th>\n",
       "      <th>preview</th>\n",
       "      <th>secure_media</th>\n",
       "      <th>secure_media_embed</th>\n",
       "      <th>url_overridden_by_dest</th>\n",
       "      <th>crosspost_parent</th>\n",
       "      <th>crosspost_parent_list</th>\n",
       "      <th>author_flair_background_color</th>\n",
       "      <th>author_flair_text_color</th>\n",
       "      <th>banned_by</th>\n",
       "      <th>author_cakeday</th>\n",
       "      <th>is_gallery</th>\n",
       "      <th>gallery_data</th>\n",
       "      <th>media_metadata</th>\n",
       "      <th>poll_data</th>\n",
       "      <th>event_end</th>\n",
       "      <th>event_is_live</th>\n",
       "      <th>event_start</th>\n",
       "      <th>edited</th>\n",
       "      <th>gilded</th>\n",
       "    </tr>\n",
       "  </thead>\n",
       "  <tbody>\n",
       "    <tr>\n",
       "      <th>0</th>\n",
       "      <td>[]</td>\n",
       "      <td>False</td>\n",
       "      <td>wuzzgucci</td>\n",
       "      <td>NaN</td>\n",
       "      <td>[]</td>\n",
       "      <td>NaN</td>\n",
       "      <td>text</td>\n",
       "      <td>t2_53ftzlxj</td>\n",
       "      <td>False</td>\n",
       "      <td>False</td>\n",
       "      <td>[]</td>\n",
       "      <td>False</td>\n",
       "      <td>False</td>\n",
       "      <td>1626938727</td>\n",
       "      <td>self.ethereum</td>\n",
       "      <td>https://www.reddit.com/r/ethereum/comments/op8z9u/should_i_sell_bitcoin_and_just_go_all_in_ether...</td>\n",
       "      <td>{}</td>\n",
       "      <td>op8z9u</td>\n",
       "      <td>False</td>\n",
       "      <td>True</td>\n",
       "      <td>False</td>\n",
       "      <td>False</td>\n",
       "      <td>False</td>\n",
       "      <td>True</td>\n",
       "      <td>True</td>\n",
       "      <td>False</td>\n",
       "      <td>NaN</td>\n",
       "      <td>[]</td>\n",
       "      <td>dark</td>\n",
       "      <td>text</td>\n",
       "      <td>False</td>\n",
       "      <td>False</td>\n",
       "      <td>False</td>\n",
       "      <td>44</td>\n",
       "      <td>0</td>\n",
       "      <td>False</td>\n",
       "      <td>all_ads</td>\n",
       "      <td>/r/ethereum/comments/op8z9u/should_i_sell_bitcoin_and_just_go_all_in_ethereum/</td>\n",
       "      <td>False</td>\n",
       "      <td>6</td>\n",
       "      <td>1626938737</td>\n",
       "      <td>1</td>\n",
       "      <td>* I have like $37.5k invested total in bitcoin, and after the crash, I only have $10.8k gains. I...</td>\n",
       "      <td>True</td>\n",
       "      <td>False</td>\n",
       "      <td>False</td>\n",
       "      <td>ethereum</td>\n",
       "      <td>t5_2zf9m</td>\n",
       "      <td>1044237</td>\n",
       "      <td>public</td>\n",
       "      <td>top</td>\n",
       "      <td>self</td>\n",
       "      <td>Should I sell bitcoin and just go all in ethereum?</td>\n",
       "      <td>0</td>\n",
       "      <td>[]</td>\n",
       "      <td>1.0</td>\n",
       "      <td>https://www.reddit.com/r/ethereum/comments/op8z9u/should_i_sell_bitcoin_and_just_go_all_in_ether...</td>\n",
       "      <td>all_ads</td>\n",
       "      <td>6</td>\n",
       "      <td>NaN</td>\n",
       "      <td>NaN</td>\n",
       "      <td>NaN</td>\n",
       "      <td>NaN</td>\n",
       "      <td>NaN</td>\n",
       "      <td>NaN</td>\n",
       "      <td>NaN</td>\n",
       "      <td>NaN</td>\n",
       "      <td>NaN</td>\n",
       "      <td>NaN</td>\n",
       "      <td>NaN</td>\n",
       "      <td>NaN</td>\n",
       "      <td>NaN</td>\n",
       "      <td>NaN</td>\n",
       "      <td>NaN</td>\n",
       "      <td>NaN</td>\n",
       "      <td>NaN</td>\n",
       "      <td>NaN</td>\n",
       "      <td>NaN</td>\n",
       "      <td>NaN</td>\n",
       "      <td>NaN</td>\n",
       "      <td>NaN</td>\n",
       "      <td>NaN</td>\n",
       "      <td>NaN</td>\n",
       "      <td>NaN</td>\n",
       "      <td>NaN</td>\n",
       "    </tr>\n",
       "  </tbody>\n",
       "</table>\n",
       "</div>"
      ],
      "text/plain": [
       "  all_awardings  allow_live_comments     author  author_flair_css_class  \\\n",
       "0            []                False  wuzzgucci                     NaN   \n",
       "\n",
       "  author_flair_richtext author_flair_text author_flair_type author_fullname  \\\n",
       "0                    []               NaN              text     t2_53ftzlxj   \n",
       "\n",
       "  author_patreon_flair author_premium awarders  can_mod_post  contest_mode  \\\n",
       "0                False          False       []         False         False   \n",
       "\n",
       "   created_utc         domain  \\\n",
       "0   1626938727  self.ethereum   \n",
       "\n",
       "                                                                                             full_link  \\\n",
       "0  https://www.reddit.com/r/ethereum/comments/op8z9u/should_i_sell_bitcoin_and_just_go_all_in_ether...   \n",
       "\n",
       "  gildings      id is_created_from_ads_ui  is_crosspostable  is_meta  \\\n",
       "0       {}  op8z9u                  False              True    False   \n",
       "\n",
       "   is_original_content  is_reddit_media_domain  is_robot_indexable  is_self  \\\n",
       "0                False                   False                True     True   \n",
       "\n",
       "   is_video  link_flair_background_color link_flair_richtext  \\\n",
       "0     False                          NaN                  []   \n",
       "\n",
       "  link_flair_text_color link_flair_type  locked  media_only  no_follow  \\\n",
       "0                  dark            text   False       False      False   \n",
       "\n",
       "   num_comments  num_crossposts  over_18 parent_whitelist_status  \\\n",
       "0            44               0    False                 all_ads   \n",
       "\n",
       "                                                                        permalink  \\\n",
       "0  /r/ethereum/comments/op8z9u/should_i_sell_bitcoin_and_just_go_all_in_ethereum/   \n",
       "\n",
       "   pinned  pwls  retrieved_on  score  \\\n",
       "0   False     6    1626938737      1   \n",
       "\n",
       "                                                                                              selftext  \\\n",
       "0  * I have like $37.5k invested total in bitcoin, and after the crash, I only have $10.8k gains. I...   \n",
       "\n",
       "   send_replies  spoiler  stickied subreddit subreddit_id  \\\n",
       "0          True    False     False  ethereum     t5_2zf9m   \n",
       "\n",
       "   subreddit_subscribers subreddit_type suggested_sort thumbnail  \\\n",
       "0                1044237         public            top      self   \n",
       "\n",
       "                                                title  total_awards_received  \\\n",
       "0  Should I sell bitcoin and just go all in ethereum?                      0   \n",
       "\n",
       "  treatment_tags  upvote_ratio  \\\n",
       "0             []           1.0   \n",
       "\n",
       "                                                                                                   url  \\\n",
       "0  https://www.reddit.com/r/ethereum/comments/op8z9u/should_i_sell_bitcoin_and_just_go_all_in_ether...   \n",
       "\n",
       "  whitelist_status  wls author_is_blocked removed_by_category  \\\n",
       "0          all_ads    6               NaN                 NaN   \n",
       "\n",
       "   thumbnail_height  thumbnail_width media media_embed post_hint preview  \\\n",
       "0               NaN              NaN   NaN         NaN       NaN     NaN   \n",
       "\n",
       "  secure_media secure_media_embed url_overridden_by_dest crosspost_parent  \\\n",
       "0          NaN                NaN                    NaN              NaN   \n",
       "\n",
       "  crosspost_parent_list  author_flair_background_color  \\\n",
       "0                   NaN                            NaN   \n",
       "\n",
       "  author_flair_text_color banned_by author_cakeday is_gallery gallery_data  \\\n",
       "0                     NaN       NaN            NaN        NaN          NaN   \n",
       "\n",
       "  media_metadata poll_data  event_end event_is_live  event_start  edited  \\\n",
       "0            NaN       NaN        NaN           NaN          NaN     NaN   \n",
       "\n",
       "   gilded  \n",
       "0     NaN  "
      ]
     },
     "execution_count": 5,
     "metadata": {},
     "output_type": "execute_result"
    }
   ],
   "source": [
    "# check out first row\n",
    "p_eth_df.head(1)"
   ]
  },
  {
   "cell_type": "markdown",
   "metadata": {},
   "source": [
    "### Data Cleaning"
   ]
  },
  {
   "cell_type": "markdown",
   "metadata": {},
   "source": [
    "#### Define A General Purpose Cleaning Function"
   ]
  },
  {
   "cell_type": "code",
   "execution_count": 6,
   "metadata": {},
   "outputs": [],
   "source": [
    "# cleaning function\n",
    "def cleaner(text):\n",
    "    \n",
    "    # Make lowercase\n",
    "    text = text.lower()\n",
    "\n",
    "    # Remove html special entities (e.g. &amp;)\n",
    "    text = re.sub(r'\\&\\w*;', ' ', text)\n",
    "    \n",
    "    # Remove url hyperlinks\n",
    "    text = re.sub(r'http\\S+|www.\\S+', ' ', text)\n",
    "    \n",
    "    # Remove whitespace characters (except space)\n",
    "    text = re.sub(r'[\\r\\t\\v\\n\\f]+', ' ', text)\n",
    "    \n",
    "    # Remove words with 2 or fewer letters\n",
    "    text = re.sub(r'\\b\\w{1,2}\\b', ' ', text)\n",
    "    \n",
    "    # Remove single words enclosed in square brackets (e.g. [removed], [deleted], [picture])\n",
    "    text = re.sub(r'\\[\\w+\\]', ' ', text)\n",
    "    \n",
    "    # Remove zero-width space\n",
    "    text = re.sub(r'x200b', ' ', text)\n",
    "    \n",
    "    # Remove characters beyond Basic Multilingual Plane (BMP) of Unicode\n",
    "    text = ''.join(char for char in text if char <= '\\uFFFF') \n",
    "    \n",
    "    # Remove punctuation\n",
    "    text = ''.join([char for char in text if char not in string.punctuation])\n",
    "    \n",
    "    return text"
   ]
  },
  {
   "cell_type": "code",
   "execution_count": 7,
   "metadata": {
    "scrolled": false
   },
   "outputs": [],
   "source": [
    "# # remove url hyperlinks in the text\n",
    "# df['post'].replace(r'http\\S+|www.\\S+', ' ', regex=True, inplace=True)\n",
    "\n",
    "# # check if there are url hyperlinks in the text\n",
    "# df[df['post'].str.contains(r'http\\S+|www.\\S+')]\n",
    "\n",
    "# # remove url hyperlinks in the text\n",
    "# df['post'].replace(r'http\\S+|www.\\S+', ' ', regex=True, inplace=True)\n",
    "\n",
    "# # check if there are url hyperlinks in the text\n",
    "# df[df['post'].str.contains(r'http\\S+|www.\\S+')]"
   ]
  },
  {
   "cell_type": "markdown",
   "metadata": {},
   "source": [
    "#### Clean Bitcoin Posts Data"
   ]
  },
  {
   "cell_type": "code",
   "execution_count": 8,
   "metadata": {
    "scrolled": false
   },
   "outputs": [
    {
     "data": {
      "text/plain": [
       "Index(['all_awardings', 'allow_live_comments', 'author',\n",
       "       'author_flair_css_class', 'author_flair_richtext',\n",
       "       'author_flair_template_id', 'author_flair_text',\n",
       "       'author_flair_text_color', 'author_flair_type', 'author_fullname',\n",
       "       'author_is_blocked', 'author_patreon_flair', 'author_premium',\n",
       "       'awarders', 'can_mod_post', 'contest_mode', 'created_utc', 'domain',\n",
       "       'full_link', 'gildings', 'id', 'is_created_from_ads_ui',\n",
       "       'is_crosspostable', 'is_meta', 'is_original_content',\n",
       "       'is_reddit_media_domain', 'is_robot_indexable', 'is_self', 'is_video',\n",
       "       'link_flair_background_color', 'link_flair_richtext',\n",
       "       'link_flair_text_color', 'link_flair_type', 'locked', 'media_only',\n",
       "       'no_follow', 'num_comments', 'num_crossposts', 'over_18',\n",
       "       'parent_whitelist_status', 'permalink', 'pinned', 'pwls',\n",
       "       'removed_by_category', 'retrieved_on', 'score', 'selftext',\n",
       "       'send_replies', 'spoiler', 'stickied', 'subreddit', 'subreddit_id',\n",
       "       'subreddit_subscribers', 'subreddit_type', 'thumbnail', 'title',\n",
       "       'total_awards_received', 'treatment_tags', 'upvote_ratio', 'url',\n",
       "       'whitelist_status', 'wls', 'post_hint', 'preview', 'thumbnail_height',\n",
       "       'thumbnail_width', 'url_overridden_by_dest', 'media', 'media_embed',\n",
       "       'secure_media', 'secure_media_embed', 'distinguished', 'suggested_sort',\n",
       "       'link_flair_text', 'gallery_data', 'is_gallery', 'media_metadata',\n",
       "       'author_flair_background_color', 'banned_by', 'author_cakeday',\n",
       "       'crosspost_parent', 'crosspost_parent_list', 'link_flair_template_id'],\n",
       "      dtype='object')"
      ]
     },
     "execution_count": 8,
     "metadata": {},
     "output_type": "execute_result"
    }
   ],
   "source": [
    "# check out columns\n",
    "p_btc_df.columns"
   ]
  },
  {
   "cell_type": "code",
   "execution_count": 9,
   "metadata": {},
   "outputs": [],
   "source": [
    "# copy feature/target columns of interest\n",
    "p_btc = p_btc_df[['subreddit', 'title', 'selftext']].copy()"
   ]
  },
  {
   "cell_type": "code",
   "execution_count": 10,
   "metadata": {},
   "outputs": [],
   "source": [
    "# rename columns\n",
    "p_btc.columns = ['subreddit', 'post_title', 'post_content']"
   ]
  },
  {
   "cell_type": "code",
   "execution_count": 11,
   "metadata": {},
   "outputs": [
    {
     "data": {
      "text/plain": [
       "(5000, 3)"
      ]
     },
     "execution_count": 11,
     "metadata": {},
     "output_type": "execute_result"
    }
   ],
   "source": [
    "# check out shape\n",
    "p_btc.shape"
   ]
  },
  {
   "cell_type": "code",
   "execution_count": 12,
   "metadata": {},
   "outputs": [
    {
     "data": {
      "text/html": [
       "<div>\n",
       "<style scoped>\n",
       "    .dataframe tbody tr th:only-of-type {\n",
       "        vertical-align: middle;\n",
       "    }\n",
       "\n",
       "    .dataframe tbody tr th {\n",
       "        vertical-align: top;\n",
       "    }\n",
       "\n",
       "    .dataframe thead th {\n",
       "        text-align: right;\n",
       "    }\n",
       "</style>\n",
       "<table border=\"1\" class=\"dataframe\">\n",
       "  <thead>\n",
       "    <tr style=\"text-align: right;\">\n",
       "      <th></th>\n",
       "      <th>subreddit</th>\n",
       "      <th>post_title</th>\n",
       "      <th>post_content</th>\n",
       "    </tr>\n",
       "  </thead>\n",
       "  <tbody>\n",
       "    <tr>\n",
       "      <th>0</th>\n",
       "      <td>Bitcoin</td>\n",
       "      <td>Bitcoin Town - A fiction novel about using Bitcoin against the Great Reset</td>\n",
       "      <td>[removed]</td>\n",
       "    </tr>\n",
       "    <tr>\n",
       "      <th>1</th>\n",
       "      <td>Bitcoin</td>\n",
       "      <td>Bitcoin Town - A fiction novel about using Bitcoin against the Great Reset</td>\n",
       "      <td>[removed]</td>\n",
       "    </tr>\n",
       "    <tr>\n",
       "      <th>2</th>\n",
       "      <td>Bitcoin</td>\n",
       "      <td>Crypto Influencers Dorsey, Woods, and Musk Face-off During B-Word Conference</td>\n",
       "      <td>NaN</td>\n",
       "    </tr>\n",
       "    <tr>\n",
       "      <th>3</th>\n",
       "      <td>Bitcoin</td>\n",
       "      <td>Elon Musk’s View on Bitcoin (July 21 2021)</td>\n",
       "      <td>NaN</td>\n",
       "    </tr>\n",
       "    <tr>\n",
       "      <th>4</th>\n",
       "      <td>Bitcoin</td>\n",
       "      <td>You’ve undoubtedly heard about crypto currencies by now such as Bitcoin, Ethereum and DOGE coin....</td>\n",
       "      <td>NaN</td>\n",
       "    </tr>\n",
       "  </tbody>\n",
       "</table>\n",
       "</div>"
      ],
      "text/plain": [
       "  subreddit  \\\n",
       "0   Bitcoin   \n",
       "1   Bitcoin   \n",
       "2   Bitcoin   \n",
       "3   Bitcoin   \n",
       "4   Bitcoin   \n",
       "\n",
       "                                                                                            post_title  \\\n",
       "0                           Bitcoin Town - A fiction novel about using Bitcoin against the Great Reset   \n",
       "1                           Bitcoin Town - A fiction novel about using Bitcoin against the Great Reset   \n",
       "2                         Crypto Influencers Dorsey, Woods, and Musk Face-off During B-Word Conference   \n",
       "3                                                           Elon Musk’s View on Bitcoin (July 21 2021)   \n",
       "4  You’ve undoubtedly heard about crypto currencies by now such as Bitcoin, Ethereum and DOGE coin....   \n",
       "\n",
       "  post_content  \n",
       "0    [removed]  \n",
       "1    [removed]  \n",
       "2          NaN  \n",
       "3          NaN  \n",
       "4          NaN  "
      ]
     },
     "execution_count": 12,
     "metadata": {},
     "output_type": "execute_result"
    }
   ],
   "source": [
    "# check out first 5 rows\n",
    "p_btc.head()"
   ]
  },
  {
   "cell_type": "code",
   "execution_count": 13,
   "metadata": {},
   "outputs": [
    {
     "name": "stdout",
     "output_type": "stream",
     "text": [
      "<class 'pandas.core.frame.DataFrame'>\n",
      "RangeIndex: 5000 entries, 0 to 4999\n",
      "Data columns (total 3 columns):\n",
      " #   Column        Non-Null Count  Dtype \n",
      "---  ------        --------------  ----- \n",
      " 0   subreddit     5000 non-null   object\n",
      " 1   post_title    5000 non-null   object\n",
      " 2   post_content  2506 non-null   object\n",
      "dtypes: object(3)\n",
      "memory usage: 117.3+ KB\n"
     ]
    }
   ],
   "source": [
    "# check out data types of columns\n",
    "p_btc.info()"
   ]
  },
  {
   "cell_type": "code",
   "execution_count": 14,
   "metadata": {},
   "outputs": [
    {
     "data": {
      "text/html": [
       "<div>\n",
       "<style scoped>\n",
       "    .dataframe tbody tr th:only-of-type {\n",
       "        vertical-align: middle;\n",
       "    }\n",
       "\n",
       "    .dataframe tbody tr th {\n",
       "        vertical-align: top;\n",
       "    }\n",
       "\n",
       "    .dataframe thead th {\n",
       "        text-align: right;\n",
       "    }\n",
       "</style>\n",
       "<table border=\"1\" class=\"dataframe\">\n",
       "  <thead>\n",
       "    <tr style=\"text-align: right;\">\n",
       "      <th></th>\n",
       "      <th>subreddit</th>\n",
       "      <th>post_title</th>\n",
       "      <th>post_content</th>\n",
       "    </tr>\n",
       "  </thead>\n",
       "  <tbody>\n",
       "    <tr>\n",
       "      <th>0</th>\n",
       "      <td>0</td>\n",
       "      <td>0</td>\n",
       "      <td>2494</td>\n",
       "    </tr>\n",
       "  </tbody>\n",
       "</table>\n",
       "</div>"
      ],
      "text/plain": [
       "   subreddit  post_title  post_content\n",
       "0          0           0          2494"
      ]
     },
     "execution_count": 14,
     "metadata": {},
     "output_type": "execute_result"
    }
   ],
   "source": [
    "# check for null values\n",
    "p_btc.isnull().sum().to_frame().T"
   ]
  },
  {
   "cell_type": "code",
   "execution_count": 15,
   "metadata": {
    "scrolled": true
   },
   "outputs": [
    {
     "name": "stdout",
     "output_type": "stream",
     "text": [
      "(2506, 3)\n"
     ]
    }
   ],
   "source": [
    "# drop all rows with null values\n",
    "p_btc.dropna(inplace=True)\n",
    "p_btc.reset_index(drop=True, inplace=True)\n",
    "print(p_btc.shape)"
   ]
  },
  {
   "cell_type": "code",
   "execution_count": 16,
   "metadata": {
    "scrolled": false
   },
   "outputs": [
    {
     "data": {
      "text/html": [
       "<div>\n",
       "<style scoped>\n",
       "    .dataframe tbody tr th:only-of-type {\n",
       "        vertical-align: middle;\n",
       "    }\n",
       "\n",
       "    .dataframe tbody tr th {\n",
       "        vertical-align: top;\n",
       "    }\n",
       "\n",
       "    .dataframe thead th {\n",
       "        text-align: right;\n",
       "    }\n",
       "</style>\n",
       "<table border=\"1\" class=\"dataframe\">\n",
       "  <thead>\n",
       "    <tr style=\"text-align: right;\">\n",
       "      <th></th>\n",
       "      <th>title_content</th>\n",
       "    </tr>\n",
       "  </thead>\n",
       "  <tbody>\n",
       "    <tr>\n",
       "      <th>Bitcoin and other top blockchains is Libonomy.[removed]</th>\n",
       "      <td>10</td>\n",
       "    </tr>\n",
       "    <tr>\n",
       "      <th>Bitcoin and other top blockchains is Libonomy[removed]</th>\n",
       "      <td>10</td>\n",
       "    </tr>\n",
       "    <tr>\n",
       "      <th>Ethereum, Bitcoin and other top blockchains is Libonomy.[removed]</th>\n",
       "      <td>6</td>\n",
       "    </tr>\n",
       "    <tr>\n",
       "      <th>Tokenpad NetworkThis is the best project. I would like to talk about one of the best project. A very promising project. this project will be able to go much further. I hope this project is will be success</th>\n",
       "      <td>4</td>\n",
       "    </tr>\n",
       "    <tr>\n",
       "      <th>Bitcoin investment[removed]</th>\n",
       "      <td>4</td>\n",
       "    </tr>\n",
       "    <tr>\n",
       "      <th>...</th>\n",
       "      <td>...</td>\n",
       "    </tr>\n",
       "    <tr>\n",
       "      <th>BTC CLOUD MINING[removed]</th>\n",
       "      <td>2</td>\n",
       "    </tr>\n",
       "    <tr>\n",
       "      <th>Bitcoin Town - A fiction novel about using Bitcoin against the Great Reset[removed]</th>\n",
       "      <td>2</td>\n",
       "    </tr>\n",
       "    <tr>\n",
       "      <th>Libonomy is the most technologically advanced blockchain today[removed]</th>\n",
       "      <td>2</td>\n",
       "    </tr>\n",
       "    <tr>\n",
       "      <th>Marketing a new cryptocurrency tokenWhat is the marketing strategy for a cryptocurrency token? I have create a few tokens and have been trying to market them. With thousands of rugpulls everyday it is really hard. Also you can not use traditional ads etc. What do you guys suggest?</th>\n",
       "      <td>2</td>\n",
       "    </tr>\n",
       "    <tr>\n",
       "      <th>0xfc5aa7064cc9ca29d954622748312ad166fcc10c[removed]</th>\n",
       "      <td>2</td>\n",
       "    </tr>\n",
       "  </tbody>\n",
       "</table>\n",
       "<p>84 rows × 1 columns</p>\n",
       "</div>"
      ],
      "text/plain": [
       "                                                                                                      title_content\n",
       "Bitcoin and other top blockchains is Libonomy.[removed]                                                          10\n",
       "Bitcoin and other top blockchains is Libonomy[removed]                                                           10\n",
       "Ethereum, Bitcoin and other top blockchains is Libonomy.[removed]                                                 6\n",
       "Tokenpad NetworkThis is the best project. I would like to talk about one of the best project. A v...              4\n",
       "Bitcoin investment[removed]                                                                                       4\n",
       "...                                                                                                             ...\n",
       "BTC CLOUD MINING[removed]                                                                                         2\n",
       "Bitcoin Town - A fiction novel about using Bitcoin against the Great Reset[removed]                               2\n",
       "Libonomy is the most technologically advanced blockchain today[removed]                                           2\n",
       "Marketing a new cryptocurrency tokenWhat is the marketing strategy for a cryptocurrency token? I ...              2\n",
       "0xfc5aa7064cc9ca29d954622748312ad166fcc10c[removed]                                                               2\n",
       "\n",
       "[84 rows x 1 columns]"
      ]
     },
     "execution_count": 16,
     "metadata": {},
     "output_type": "execute_result"
    }
   ],
   "source": [
    "# create a new column that combines post title and post content to check for duplicate posts\n",
    "p_btc['title_content'] = p_btc['post_title'] + p_btc['post_content']\n",
    "\n",
    "# check for duplicates in title_content column by showing all values with >1 occurrence\n",
    "p_btc['title_content'].value_counts()[p_btc['title_content'].value_counts() > 1].to_frame()"
   ]
  },
  {
   "cell_type": "code",
   "execution_count": 17,
   "metadata": {},
   "outputs": [
    {
     "name": "stdout",
     "output_type": "stream",
     "text": [
      "(2363, 4)\n"
     ]
    }
   ],
   "source": [
    "# drop rows which have identical title and content except for the first occurrence\n",
    "p_btc.drop_duplicates(subset='title_content', ignore_index=True, inplace=True)\n",
    "print(p_btc.shape)"
   ]
  },
  {
   "cell_type": "code",
   "execution_count": 18,
   "metadata": {},
   "outputs": [],
   "source": [
    "# drop title_content column which is now unneeded\n",
    "p_btc.drop(columns='title_content', inplace=True)"
   ]
  },
  {
   "cell_type": "code",
   "execution_count": 19,
   "metadata": {},
   "outputs": [],
   "source": [
    "# clean post title and post content\n",
    "p_btc['post_title'] = p_btc['post_title'].apply(cleaner)\n",
    "p_btc['post_content'] = p_btc['post_content'].apply(cleaner)"
   ]
  },
  {
   "cell_type": "code",
   "execution_count": 20,
   "metadata": {
    "scrolled": true
   },
   "outputs": [
    {
     "data": {
      "text/html": [
       "<div>\n",
       "<style scoped>\n",
       "    .dataframe tbody tr th:only-of-type {\n",
       "        vertical-align: middle;\n",
       "    }\n",
       "\n",
       "    .dataframe tbody tr th {\n",
       "        vertical-align: top;\n",
       "    }\n",
       "\n",
       "    .dataframe thead th {\n",
       "        text-align: right;\n",
       "    }\n",
       "</style>\n",
       "<table border=\"1\" class=\"dataframe\">\n",
       "  <thead>\n",
       "    <tr style=\"text-align: right;\">\n",
       "      <th></th>\n",
       "      <th>subreddit</th>\n",
       "      <th>post_title</th>\n",
       "      <th>post_content</th>\n",
       "    </tr>\n",
       "  </thead>\n",
       "  <tbody>\n",
       "    <tr>\n",
       "      <th>127</th>\n",
       "      <td>Bitcoin</td>\n",
       "      <td></td>\n",
       "      <td></td>\n",
       "    </tr>\n",
       "    <tr>\n",
       "      <th>365</th>\n",
       "      <td>Bitcoin</td>\n",
       "      <td></td>\n",
       "      <td></td>\n",
       "    </tr>\n",
       "    <tr>\n",
       "      <th>1251</th>\n",
       "      <td>Bitcoin</td>\n",
       "      <td></td>\n",
       "      <td>got   bad feeling here</td>\n",
       "    </tr>\n",
       "    <tr>\n",
       "      <th>1339</th>\n",
       "      <td>Bitcoin</td>\n",
       "      <td></td>\n",
       "      <td></td>\n",
       "    </tr>\n",
       "    <tr>\n",
       "      <th>1698</th>\n",
       "      <td>Bitcoin</td>\n",
       "      <td></td>\n",
       "      <td>what   the difference   owning bitcoin   robinhood   coinbase</td>\n",
       "    </tr>\n",
       "    <tr>\n",
       "      <th>1781</th>\n",
       "      <td>Bitcoin</td>\n",
       "      <td></td>\n",
       "      <td></td>\n",
       "    </tr>\n",
       "    <tr>\n",
       "      <th>1788</th>\n",
       "      <td>Bitcoin</td>\n",
       "      <td></td>\n",
       "      <td>the absolute   fud coming out   shawn tully’  uninformed journalistic face   insane read what   ...</td>\n",
       "    </tr>\n",
       "    <tr>\n",
       "      <th>2208</th>\n",
       "      <td>Bitcoin</td>\n",
       "      <td></td>\n",
       "      <td>your own bank</td>\n",
       "    </tr>\n",
       "  </tbody>\n",
       "</table>\n",
       "</div>"
      ],
      "text/plain": [
       "     subreddit post_title  \\\n",
       "127    Bitcoin              \n",
       "365    Bitcoin              \n",
       "1251   Bitcoin              \n",
       "1339   Bitcoin              \n",
       "1698   Bitcoin              \n",
       "1781   Bitcoin              \n",
       "1788   Bitcoin              \n",
       "2208   Bitcoin              \n",
       "\n",
       "                                                                                             post_content  \n",
       "127                                                                                                        \n",
       "365                                                                                                        \n",
       "1251                                                                               got   bad feeling here  \n",
       "1339                                                                                                       \n",
       "1698                                        what   the difference   owning bitcoin   robinhood   coinbase  \n",
       "1781                                                                                                       \n",
       "1788  the absolute   fud coming out   shawn tully’  uninformed journalistic face   insane read what   ...  \n",
       "2208                                                                                        your own bank  "
      ]
     },
     "execution_count": 20,
     "metadata": {},
     "output_type": "execute_result"
    }
   ],
   "source": [
    "# check if there are blank values in the text of post_title column\n",
    "p_btc[p_btc['post_title'].str.contains(r'^\\s+$')]"
   ]
  },
  {
   "cell_type": "code",
   "execution_count": 21,
   "metadata": {},
   "outputs": [
    {
     "name": "stdout",
     "output_type": "stream",
     "text": [
      "(2355, 3)\n"
     ]
    }
   ],
   "source": [
    "# drop all rows with blank values in the text of post_title column\n",
    "p_btc.drop(index=p_btc[p_btc['post_title'].str.contains(r'^\\s+$')].index, inplace=True)\n",
    "p_btc.reset_index(drop=True, inplace=True)\n",
    "print(p_btc.shape)"
   ]
  },
  {
   "cell_type": "code",
   "execution_count": 22,
   "metadata": {
    "scrolled": false
   },
   "outputs": [
    {
     "data": {
      "text/html": [
       "<div>\n",
       "<style scoped>\n",
       "    .dataframe tbody tr th:only-of-type {\n",
       "        vertical-align: middle;\n",
       "    }\n",
       "\n",
       "    .dataframe tbody tr th {\n",
       "        vertical-align: top;\n",
       "    }\n",
       "\n",
       "    .dataframe thead th {\n",
       "        text-align: right;\n",
       "    }\n",
       "</style>\n",
       "<table border=\"1\" class=\"dataframe\">\n",
       "  <thead>\n",
       "    <tr style=\"text-align: right;\">\n",
       "      <th></th>\n",
       "      <th>subreddit</th>\n",
       "      <th>post_title</th>\n",
       "      <th>post_content</th>\n",
       "    </tr>\n",
       "  </thead>\n",
       "  <tbody>\n",
       "    <tr>\n",
       "      <th>0</th>\n",
       "      <td>Bitcoin</td>\n",
       "      <td>bitcoin town    fiction novel about using bitcoin against the great reset</td>\n",
       "      <td></td>\n",
       "    </tr>\n",
       "    <tr>\n",
       "      <th>2</th>\n",
       "      <td>Bitcoin</td>\n",
       "      <td>only morons post about elon musk spacex   tesla</td>\n",
       "      <td></td>\n",
       "    </tr>\n",
       "    <tr>\n",
       "      <th>7</th>\n",
       "      <td>Bitcoin</td>\n",
       "      <td>will eth2 affect bitcoinbitcoin mining</td>\n",
       "      <td></td>\n",
       "    </tr>\n",
       "    <tr>\n",
       "      <th>8</th>\n",
       "      <td>Bitcoin</td>\n",
       "      <td>create your token     easy steps with supertoken</td>\n",
       "      <td></td>\n",
       "    </tr>\n",
       "    <tr>\n",
       "      <th>12</th>\n",
       "      <td>Bitcoin</td>\n",
       "      <td>anyone else dabbling   the micro bitcoin futures</td>\n",
       "      <td></td>\n",
       "    </tr>\n",
       "    <tr>\n",
       "      <th>...</th>\n",
       "      <td>...</td>\n",
       "      <td>...</td>\n",
       "      <td>...</td>\n",
       "    </tr>\n",
       "    <tr>\n",
       "      <th>2346</th>\n",
       "      <td>Bitcoin</td>\n",
       "      <td>phone hacking</td>\n",
       "      <td></td>\n",
       "    </tr>\n",
       "    <tr>\n",
       "      <th>2348</th>\n",
       "      <td>Bitcoin</td>\n",
       "      <td>libonomy’    engine runs autonomously   makes decisions   ensure network’  evolution</td>\n",
       "      <td></td>\n",
       "    </tr>\n",
       "    <tr>\n",
       "      <th>2349</th>\n",
       "      <td>Bitcoin</td>\n",
       "      <td>bitcoin cleveland group</td>\n",
       "      <td></td>\n",
       "    </tr>\n",
       "    <tr>\n",
       "      <th>2351</th>\n",
       "      <td>Bitcoin</td>\n",
       "      <td>what   surprise   just receive  9btc into   wallet immediately   sent  3btc thanks</td>\n",
       "      <td></td>\n",
       "    </tr>\n",
       "    <tr>\n",
       "      <th>2352</th>\n",
       "      <td>Bitcoin</td>\n",
       "      <td>bsc nft project infinte list   pancake july   13pm utc</td>\n",
       "      <td></td>\n",
       "    </tr>\n",
       "  </tbody>\n",
       "</table>\n",
       "<p>798 rows × 3 columns</p>\n",
       "</div>"
      ],
      "text/plain": [
       "     subreddit  \\\n",
       "0      Bitcoin   \n",
       "2      Bitcoin   \n",
       "7      Bitcoin   \n",
       "8      Bitcoin   \n",
       "12     Bitcoin   \n",
       "...        ...   \n",
       "2346   Bitcoin   \n",
       "2348   Bitcoin   \n",
       "2349   Bitcoin   \n",
       "2351   Bitcoin   \n",
       "2352   Bitcoin   \n",
       "\n",
       "                                                                                post_title  \\\n",
       "0                bitcoin town    fiction novel about using bitcoin against the great reset   \n",
       "2                                          only morons post about elon musk spacex   tesla   \n",
       "7                                                   will eth2 affect bitcoinbitcoin mining   \n",
       "8                                         create your token     easy steps with supertoken   \n",
       "12                                        anyone else dabbling   the micro bitcoin futures   \n",
       "...                                                                                    ...   \n",
       "2346                                                                         phone hacking   \n",
       "2348  libonomy’    engine runs autonomously   makes decisions   ensure network’  evolution   \n",
       "2349                                                               bitcoin cleveland group   \n",
       "2351    what   surprise   just receive  9btc into   wallet immediately   sent  3btc thanks   \n",
       "2352                                bsc nft project infinte list   pancake july   13pm utc   \n",
       "\n",
       "     post_content  \n",
       "0                  \n",
       "2                  \n",
       "7                  \n",
       "8                  \n",
       "12                 \n",
       "...           ...  \n",
       "2346               \n",
       "2348               \n",
       "2349               \n",
       "2351               \n",
       "2352               \n",
       "\n",
       "[798 rows x 3 columns]"
      ]
     },
     "execution_count": 22,
     "metadata": {},
     "output_type": "execute_result"
    }
   ],
   "source": [
    "# check if there are blank values in the text of post_content column\n",
    "p_btc[p_btc['post_content'].str.contains(r'^\\s+$')]"
   ]
  },
  {
   "cell_type": "code",
   "execution_count": 23,
   "metadata": {},
   "outputs": [
    {
     "name": "stdout",
     "output_type": "stream",
     "text": [
      "(1557, 3)\n"
     ]
    }
   ],
   "source": [
    "# drop all rows with blank values in the text of post_content column\n",
    "p_btc.drop(index=p_btc[p_btc['post_content'].str.contains(r'^\\s+$')].index, inplace=True)\n",
    "p_btc.reset_index(drop=True, inplace=True)\n",
    "print(p_btc.shape)"
   ]
  },
  {
   "cell_type": "code",
   "execution_count": 24,
   "metadata": {},
   "outputs": [
    {
     "data": {
      "text/html": [
       "<div>\n",
       "<style scoped>\n",
       "    .dataframe tbody tr th:only-of-type {\n",
       "        vertical-align: middle;\n",
       "    }\n",
       "\n",
       "    .dataframe tbody tr th {\n",
       "        vertical-align: top;\n",
       "    }\n",
       "\n",
       "    .dataframe thead th {\n",
       "        text-align: right;\n",
       "    }\n",
       "</style>\n",
       "<table border=\"1\" class=\"dataframe\">\n",
       "  <thead>\n",
       "    <tr style=\"text-align: right;\">\n",
       "      <th></th>\n",
       "      <th>subreddit</th>\n",
       "      <th>post_title</th>\n",
       "      <th>post_content</th>\n",
       "    </tr>\n",
       "  </thead>\n",
       "  <tbody>\n",
       "  </tbody>\n",
       "</table>\n",
       "</div>"
      ],
      "text/plain": [
       "Empty DataFrame\n",
       "Columns: [subreddit, post_title, post_content]\n",
       "Index: []"
      ]
     },
     "execution_count": 24,
     "metadata": {},
     "output_type": "execute_result"
    }
   ],
   "source": [
    "# check if there are empty strings in the text of post_title column\n",
    "p_btc[p_btc['post_title'] == '']"
   ]
  },
  {
   "cell_type": "code",
   "execution_count": 25,
   "metadata": {},
   "outputs": [
    {
     "data": {
      "text/html": [
       "<div>\n",
       "<style scoped>\n",
       "    .dataframe tbody tr th:only-of-type {\n",
       "        vertical-align: middle;\n",
       "    }\n",
       "\n",
       "    .dataframe tbody tr th {\n",
       "        vertical-align: top;\n",
       "    }\n",
       "\n",
       "    .dataframe thead th {\n",
       "        text-align: right;\n",
       "    }\n",
       "</style>\n",
       "<table border=\"1\" class=\"dataframe\">\n",
       "  <thead>\n",
       "    <tr style=\"text-align: right;\">\n",
       "      <th></th>\n",
       "      <th>subreddit</th>\n",
       "      <th>post_title</th>\n",
       "      <th>post_content</th>\n",
       "    </tr>\n",
       "  </thead>\n",
       "  <tbody>\n",
       "  </tbody>\n",
       "</table>\n",
       "</div>"
      ],
      "text/plain": [
       "Empty DataFrame\n",
       "Columns: [subreddit, post_title, post_content]\n",
       "Index: []"
      ]
     },
     "execution_count": 25,
     "metadata": {},
     "output_type": "execute_result"
    }
   ],
   "source": [
    "# check if there are empty strings in the text of post_content column\n",
    "p_btc[p_btc['post_content'] == '']"
   ]
  },
  {
   "cell_type": "markdown",
   "metadata": {},
   "source": [
    "#### Clean Ethereum Posts Data"
   ]
  },
  {
   "cell_type": "code",
   "execution_count": 26,
   "metadata": {
    "scrolled": false
   },
   "outputs": [
    {
     "data": {
      "text/plain": [
       "Index(['all_awardings', 'allow_live_comments', 'author',\n",
       "       'author_flair_css_class', 'author_flair_richtext', 'author_flair_text',\n",
       "       'author_flair_type', 'author_fullname', 'author_patreon_flair',\n",
       "       'author_premium', 'awarders', 'can_mod_post', 'contest_mode',\n",
       "       'created_utc', 'domain', 'full_link', 'gildings', 'id',\n",
       "       'is_created_from_ads_ui', 'is_crosspostable', 'is_meta',\n",
       "       'is_original_content', 'is_reddit_media_domain', 'is_robot_indexable',\n",
       "       'is_self', 'is_video', 'link_flair_background_color',\n",
       "       'link_flair_richtext', 'link_flair_text_color', 'link_flair_type',\n",
       "       'locked', 'media_only', 'no_follow', 'num_comments', 'num_crossposts',\n",
       "       'over_18', 'parent_whitelist_status', 'permalink', 'pinned', 'pwls',\n",
       "       'retrieved_on', 'score', 'selftext', 'send_replies', 'spoiler',\n",
       "       'stickied', 'subreddit', 'subreddit_id', 'subreddit_subscribers',\n",
       "       'subreddit_type', 'suggested_sort', 'thumbnail', 'title',\n",
       "       'total_awards_received', 'treatment_tags', 'upvote_ratio', 'url',\n",
       "       'whitelist_status', 'wls', 'author_is_blocked', 'removed_by_category',\n",
       "       'thumbnail_height', 'thumbnail_width', 'media', 'media_embed',\n",
       "       'post_hint', 'preview', 'secure_media', 'secure_media_embed',\n",
       "       'url_overridden_by_dest', 'crosspost_parent', 'crosspost_parent_list',\n",
       "       'author_flair_background_color', 'author_flair_text_color', 'banned_by',\n",
       "       'author_cakeday', 'is_gallery', 'gallery_data', 'media_metadata',\n",
       "       'poll_data', 'event_end', 'event_is_live', 'event_start', 'edited',\n",
       "       'gilded'],\n",
       "      dtype='object')"
      ]
     },
     "execution_count": 26,
     "metadata": {},
     "output_type": "execute_result"
    }
   ],
   "source": [
    "# check out columns\n",
    "p_eth_df.columns"
   ]
  },
  {
   "cell_type": "code",
   "execution_count": 27,
   "metadata": {},
   "outputs": [],
   "source": [
    "# copy feature/target columns of interest\n",
    "p_eth = p_eth_df[['subreddit', 'title', 'selftext']].copy()"
   ]
  },
  {
   "cell_type": "code",
   "execution_count": 28,
   "metadata": {},
   "outputs": [],
   "source": [
    "# rename columns\n",
    "p_eth.columns = ['subreddit', 'post_title', 'post_content']"
   ]
  },
  {
   "cell_type": "code",
   "execution_count": 29,
   "metadata": {},
   "outputs": [
    {
     "data": {
      "text/plain": [
       "(10000, 3)"
      ]
     },
     "execution_count": 29,
     "metadata": {},
     "output_type": "execute_result"
    }
   ],
   "source": [
    "# check out shape\n",
    "p_eth.shape"
   ]
  },
  {
   "cell_type": "code",
   "execution_count": 30,
   "metadata": {},
   "outputs": [
    {
     "data": {
      "text/html": [
       "<div>\n",
       "<style scoped>\n",
       "    .dataframe tbody tr th:only-of-type {\n",
       "        vertical-align: middle;\n",
       "    }\n",
       "\n",
       "    .dataframe tbody tr th {\n",
       "        vertical-align: top;\n",
       "    }\n",
       "\n",
       "    .dataframe thead th {\n",
       "        text-align: right;\n",
       "    }\n",
       "</style>\n",
       "<table border=\"1\" class=\"dataframe\">\n",
       "  <thead>\n",
       "    <tr style=\"text-align: right;\">\n",
       "      <th></th>\n",
       "      <th>subreddit</th>\n",
       "      <th>post_title</th>\n",
       "      <th>post_content</th>\n",
       "    </tr>\n",
       "  </thead>\n",
       "  <tbody>\n",
       "    <tr>\n",
       "      <th>0</th>\n",
       "      <td>ethereum</td>\n",
       "      <td>Should I sell bitcoin and just go all in ethereum?</td>\n",
       "      <td>* I have like $37.5k invested total in bitcoin, and after the crash, I only have $10.8k gains. I...</td>\n",
       "    </tr>\n",
       "    <tr>\n",
       "      <th>1</th>\n",
       "      <td>ethereum</td>\n",
       "      <td>The hug – ultra rare 1/1</td>\n",
       "      <td>[removed]</td>\n",
       "    </tr>\n",
       "    <tr>\n",
       "      <th>2</th>\n",
       "      <td>ethereum</td>\n",
       "      <td>L2BEAT website upgrade</td>\n",
       "      <td>[removed]</td>\n",
       "    </tr>\n",
       "    <tr>\n",
       "      <th>3</th>\n",
       "      <td>ethereum</td>\n",
       "      <td>The Internet World of our Future!!! (INSANE) the best vid I’ve ever watched in my life of crypto</td>\n",
       "      <td>NaN</td>\n",
       "    </tr>\n",
       "    <tr>\n",
       "      <th>4</th>\n",
       "      <td>ethereum</td>\n",
       "      <td>I like the way Polygon thinks - Mihailo Bjelic on Twitter</td>\n",
       "      <td>NaN</td>\n",
       "    </tr>\n",
       "  </tbody>\n",
       "</table>\n",
       "</div>"
      ],
      "text/plain": [
       "  subreddit  \\\n",
       "0  ethereum   \n",
       "1  ethereum   \n",
       "2  ethereum   \n",
       "3  ethereum   \n",
       "4  ethereum   \n",
       "\n",
       "                                                                                         post_title  \\\n",
       "0                                                Should I sell bitcoin and just go all in ethereum?   \n",
       "1                                                                          The hug – ultra rare 1/1   \n",
       "2                                                                            L2BEAT website upgrade   \n",
       "3  The Internet World of our Future!!! (INSANE) the best vid I’ve ever watched in my life of crypto   \n",
       "4                                         I like the way Polygon thinks - Mihailo Bjelic on Twitter   \n",
       "\n",
       "                                                                                          post_content  \n",
       "0  * I have like $37.5k invested total in bitcoin, and after the crash, I only have $10.8k gains. I...  \n",
       "1                                                                                            [removed]  \n",
       "2                                                                                            [removed]  \n",
       "3                                                                                                  NaN  \n",
       "4                                                                                                  NaN  "
      ]
     },
     "execution_count": 30,
     "metadata": {},
     "output_type": "execute_result"
    }
   ],
   "source": [
    "# check out first 5 rows\n",
    "p_eth.head()"
   ]
  },
  {
   "cell_type": "code",
   "execution_count": 31,
   "metadata": {},
   "outputs": [
    {
     "name": "stdout",
     "output_type": "stream",
     "text": [
      "<class 'pandas.core.frame.DataFrame'>\n",
      "RangeIndex: 10000 entries, 0 to 9999\n",
      "Data columns (total 3 columns):\n",
      " #   Column        Non-Null Count  Dtype \n",
      "---  ------        --------------  ----- \n",
      " 0   subreddit     10000 non-null  object\n",
      " 1   post_title    10000 non-null  object\n",
      " 2   post_content  5453 non-null   object\n",
      "dtypes: object(3)\n",
      "memory usage: 234.5+ KB\n"
     ]
    }
   ],
   "source": [
    "# check out data types of columns\n",
    "p_eth.info()"
   ]
  },
  {
   "cell_type": "code",
   "execution_count": 32,
   "metadata": {},
   "outputs": [
    {
     "data": {
      "text/html": [
       "<div>\n",
       "<style scoped>\n",
       "    .dataframe tbody tr th:only-of-type {\n",
       "        vertical-align: middle;\n",
       "    }\n",
       "\n",
       "    .dataframe tbody tr th {\n",
       "        vertical-align: top;\n",
       "    }\n",
       "\n",
       "    .dataframe thead th {\n",
       "        text-align: right;\n",
       "    }\n",
       "</style>\n",
       "<table border=\"1\" class=\"dataframe\">\n",
       "  <thead>\n",
       "    <tr style=\"text-align: right;\">\n",
       "      <th></th>\n",
       "      <th>subreddit</th>\n",
       "      <th>post_title</th>\n",
       "      <th>post_content</th>\n",
       "    </tr>\n",
       "  </thead>\n",
       "  <tbody>\n",
       "    <tr>\n",
       "      <th>0</th>\n",
       "      <td>0</td>\n",
       "      <td>0</td>\n",
       "      <td>4547</td>\n",
       "    </tr>\n",
       "  </tbody>\n",
       "</table>\n",
       "</div>"
      ],
      "text/plain": [
       "   subreddit  post_title  post_content\n",
       "0          0           0          4547"
      ]
     },
     "execution_count": 32,
     "metadata": {},
     "output_type": "execute_result"
    }
   ],
   "source": [
    "# check for null values\n",
    "p_eth.isnull().sum().to_frame().T"
   ]
  },
  {
   "cell_type": "code",
   "execution_count": 33,
   "metadata": {},
   "outputs": [
    {
     "name": "stdout",
     "output_type": "stream",
     "text": [
      "(5453, 3)\n"
     ]
    }
   ],
   "source": [
    "# drop all rows with null values\n",
    "p_eth.dropna(inplace=True)\n",
    "p_eth.reset_index(drop=True, inplace=True)\n",
    "print(p_eth.shape)"
   ]
  },
  {
   "cell_type": "code",
   "execution_count": 34,
   "metadata": {
    "scrolled": false
   },
   "outputs": [
    {
     "data": {
      "text/html": [
       "<div>\n",
       "<style scoped>\n",
       "    .dataframe tbody tr th:only-of-type {\n",
       "        vertical-align: middle;\n",
       "    }\n",
       "\n",
       "    .dataframe tbody tr th {\n",
       "        vertical-align: top;\n",
       "    }\n",
       "\n",
       "    .dataframe thead th {\n",
       "        text-align: right;\n",
       "    }\n",
       "</style>\n",
       "<table border=\"1\" class=\"dataframe\">\n",
       "  <thead>\n",
       "    <tr style=\"text-align: right;\">\n",
       "      <th></th>\n",
       "      <th>title_content</th>\n",
       "    </tr>\n",
       "  </thead>\n",
       "  <tbody>\n",
       "    <tr>\n",
       "      <th>Titan Pharmaceuticals looks like a pretty good setup, it could very well run $TTNP 💎🙌🏻[deleted]</th>\n",
       "      <td>53</td>\n",
       "    </tr>\n",
       "    <tr>\n",
       "      <th>Libonomy Blockchain[removed]</th>\n",
       "      <td>21</td>\n",
       "    </tr>\n",
       "    <tr>\n",
       "      <th>digitalbureaucracy[removed]</th>\n",
       "      <td>20</td>\n",
       "    </tr>\n",
       "    <tr>\n",
       "      <th>Daily Discussion Thread**Welcome to the Daily Discussion. Please read the disclaimer, guidelines, and rules before participating.**\\n\\nDisclaimer:\\n\\nThough karma rules still apply, moderation is less active on this thread than on the rest of the sub. Therefore, consider all information posted here with several liberal heaps of salt, and always cross check any information you may read on this thread with known sources.\\n\\n## Rules:\\n\\n* All [sub rules](https://www.reddit.com/r/Ethereum/about/rules/) apply in this thread.\\n* Discussion topics must be related to Ethereum.\\n* Behave with civility and politeness. Do not use offensive, racist or homophobic language.\\n* Comments will be sorted by newest first.\\n\\nUseful Links:\\n\\n* [Ethereum.org](https://ethereum.org)\\n* [ETHHub](https://ethhub.io/)\\n* [ETHMerge.com](https://ethmerge.com/)\\n\\n**Reminder**\\n\\n/r/ethereum is a community for discussing the technology, news, applications and community of Ethereum. Discussion of the Ether price or trading is not allowed. Please keep those discussions to [/r/ethfinance](https://www.reddit.com/r/ethfinance) and [/r/ethstaker](https://www.reddit.com/r/ethstaker).</th>\n",
       "      <td>19</td>\n",
       "    </tr>\n",
       "    <tr>\n",
       "      <th>Daily Discussion Thread**Welcome to the Daily Discussion. Please read the disclaimer, guidelines, and rules before participating.**\\n\\nDisclaimer:\\n\\nThough karma rules still apply, moderation is less active on this thread than on the rest of the sub. Therefore, consider all information posted here with several liberal heaps of salt, and always cross check any information you may read on this thread with known sources.\\n\\n## Rules:\\n\\n* All [sub rules](https://www.reddit.com/r/Ethereum/about/rules/) apply in this thread.\\n* Discussion topics must be related to Ethereum.\\n* Behave with civility and politeness. Do not use offensive, racist or homophobic language.\\n* Comments will be sorted by newest first.\\n\\nUseful Links:\\n\\n* [Ethereum.org](https://ethereum.org)\\n* [ETHHub](https://ethhub.io/)\\n* [ETHMerge.com](https://ethmerge.com/)</th>\n",
       "      <td>15</td>\n",
       "    </tr>\n",
       "    <tr>\n",
       "      <th>...</th>\n",
       "      <td>...</td>\n",
       "    </tr>\n",
       "    <tr>\n",
       "      <th>Why the Rich and Educated Always Stacks Ethereum (ETH) and Ripple (XRP)[deleted]</th>\n",
       "      <td>2</td>\n",
       "    </tr>\n",
       "    <tr>\n",
       "      <th>How to stack?[removed]</th>\n",
       "      <td>2</td>\n",
       "    </tr>\n",
       "    <tr>\n",
       "      <th>How Can I View How Much Ether is currently staked or used in Dapps?[removed]</th>\n",
       "      <td>2</td>\n",
       "    </tr>\n",
       "    <tr>\n",
       "      <th>Ethereum fees have skyrocketed.[removed]</th>\n",
       "      <td>2</td>\n",
       "    </tr>\n",
       "    <tr>\n",
       "      <th>Gas fees[removed]</th>\n",
       "      <td>2</td>\n",
       "    </tr>\n",
       "  </tbody>\n",
       "</table>\n",
       "<p>176 rows × 1 columns</p>\n",
       "</div>"
      ],
      "text/plain": [
       "                                                                                                      title_content\n",
       "Titan Pharmaceuticals looks like a pretty good setup, it could very well run $TTNP 💎🙌🏻[deleted]                  53\n",
       "Libonomy Blockchain[removed]                                                                                     21\n",
       "digitalbureaucracy[removed]                                                                                      20\n",
       "Daily Discussion Thread**Welcome to the Daily Discussion. Please read the disclaimer, guidelines,...             19\n",
       "Daily Discussion Thread**Welcome to the Daily Discussion. Please read the disclaimer, guidelines,...             15\n",
       "...                                                                                                             ...\n",
       "Why the Rich and Educated Always Stacks Ethereum (ETH) and Ripple (XRP)[deleted]                                  2\n",
       "How to stack?[removed]                                                                                            2\n",
       "How Can I View How Much Ether is currently staked or used in Dapps?[removed]                                      2\n",
       "Ethereum fees have skyrocketed.[removed]                                                                          2\n",
       "Gas fees[removed]                                                                                                 2\n",
       "\n",
       "[176 rows x 1 columns]"
      ]
     },
     "execution_count": 34,
     "metadata": {},
     "output_type": "execute_result"
    }
   ],
   "source": [
    "# create a new column that combines post title and post content to check for duplicate posts\n",
    "p_eth['title_content'] = p_eth['post_title'] + p_eth['post_content']\n",
    "\n",
    "# check for duplicates in title content by showing all values with >1 occurrence\n",
    "p_eth['title_content'].value_counts()[p_eth['title_content'].value_counts() > 1].to_frame()"
   ]
  },
  {
   "cell_type": "code",
   "execution_count": 35,
   "metadata": {},
   "outputs": [
    {
     "name": "stdout",
     "output_type": "stream",
     "text": [
      "(5063, 4)\n"
     ]
    }
   ],
   "source": [
    "# drop rows which have identical title and content except for the first occurrence\n",
    "p_eth.drop_duplicates(subset='title_content', ignore_index=True, inplace=True)\n",
    "print(p_eth.shape)"
   ]
  },
  {
   "cell_type": "code",
   "execution_count": 36,
   "metadata": {},
   "outputs": [],
   "source": [
    "# drop title_content column which is now unneeded\n",
    "p_eth.drop(columns='title_content', inplace=True)"
   ]
  },
  {
   "cell_type": "code",
   "execution_count": 37,
   "metadata": {},
   "outputs": [],
   "source": [
    "# clean post title and post content\n",
    "p_eth['post_title'] = p_eth['post_title'].apply(cleaner)\n",
    "p_eth['post_content'] = p_eth['post_content'].apply(cleaner)"
   ]
  },
  {
   "cell_type": "code",
   "execution_count": 38,
   "metadata": {
    "scrolled": false
   },
   "outputs": [
    {
     "data": {
      "text/html": [
       "<div>\n",
       "<style scoped>\n",
       "    .dataframe tbody tr th:only-of-type {\n",
       "        vertical-align: middle;\n",
       "    }\n",
       "\n",
       "    .dataframe tbody tr th {\n",
       "        vertical-align: top;\n",
       "    }\n",
       "\n",
       "    .dataframe thead th {\n",
       "        text-align: right;\n",
       "    }\n",
       "</style>\n",
       "<table border=\"1\" class=\"dataframe\">\n",
       "  <thead>\n",
       "    <tr style=\"text-align: right;\">\n",
       "      <th></th>\n",
       "      <th>subreddit</th>\n",
       "      <th>post_title</th>\n",
       "      <th>post_content</th>\n",
       "    </tr>\n",
       "  </thead>\n",
       "  <tbody>\n",
       "    <tr>\n",
       "      <th>7</th>\n",
       "      <td>ethereum</td>\n",
       "      <td></td>\n",
       "      <td></td>\n",
       "    </tr>\n",
       "    <tr>\n",
       "      <th>30</th>\n",
       "      <td>ethereum</td>\n",
       "      <td></td>\n",
       "      <td></td>\n",
       "    </tr>\n",
       "    <tr>\n",
       "      <th>196</th>\n",
       "      <td>ethereum</td>\n",
       "      <td></td>\n",
       "      <td></td>\n",
       "    </tr>\n",
       "    <tr>\n",
       "      <th>668</th>\n",
       "      <td>ethereum</td>\n",
       "      <td></td>\n",
       "      <td></td>\n",
       "    </tr>\n",
       "    <tr>\n",
       "      <th>698</th>\n",
       "      <td>ethereum</td>\n",
       "      <td></td>\n",
       "      <td></td>\n",
       "    </tr>\n",
       "    <tr>\n",
       "      <th>994</th>\n",
       "      <td>ethereum</td>\n",
       "      <td></td>\n",
       "      <td></td>\n",
       "    </tr>\n",
       "    <tr>\n",
       "      <th>1167</th>\n",
       "      <td>ethereum</td>\n",
       "      <td></td>\n",
       "      <td></td>\n",
       "    </tr>\n",
       "    <tr>\n",
       "      <th>1445</th>\n",
       "      <td>ethereum</td>\n",
       "      <td></td>\n",
       "      <td></td>\n",
       "    </tr>\n",
       "    <tr>\n",
       "      <th>1553</th>\n",
       "      <td>ethereum</td>\n",
       "      <td></td>\n",
       "      <td>what  the plan for tomorrow for ether newbie here   gentle</td>\n",
       "    </tr>\n",
       "    <tr>\n",
       "      <th>1675</th>\n",
       "      <td>ethereum</td>\n",
       "      <td></td>\n",
       "      <td></td>\n",
       "    </tr>\n",
       "    <tr>\n",
       "      <th>1926</th>\n",
       "      <td>ethereum</td>\n",
       "      <td></td>\n",
       "      <td></td>\n",
       "    </tr>\n",
       "    <tr>\n",
       "      <th>2034</th>\n",
       "      <td>ethereum</td>\n",
       "      <td></td>\n",
       "      <td></td>\n",
       "    </tr>\n",
       "    <tr>\n",
       "      <th>2527</th>\n",
       "      <td>ethereum</td>\n",
       "      <td></td>\n",
       "      <td></td>\n",
       "    </tr>\n",
       "    <tr>\n",
       "      <th>2889</th>\n",
       "      <td>ethereum</td>\n",
       "      <td></td>\n",
       "      <td></td>\n",
       "    </tr>\n",
       "    <tr>\n",
       "      <th>2994</th>\n",
       "      <td>ethereum</td>\n",
       "      <td></td>\n",
       "      <td></td>\n",
       "    </tr>\n",
       "    <tr>\n",
       "      <th>4134</th>\n",
       "      <td>ethereum</td>\n",
       "      <td></td>\n",
       "      <td></td>\n",
       "    </tr>\n",
       "    <tr>\n",
       "      <th>5055</th>\n",
       "      <td>ethereum</td>\n",
       "      <td></td>\n",
       "      <td></td>\n",
       "    </tr>\n",
       "  </tbody>\n",
       "</table>\n",
       "</div>"
      ],
      "text/plain": [
       "     subreddit                  post_title  \\\n",
       "7     ethereum                               \n",
       "30    ethereum                               \n",
       "196   ethereum                               \n",
       "668   ethereum                               \n",
       "698   ethereum                               \n",
       "994   ethereum                               \n",
       "1167  ethereum                               \n",
       "1445  ethereum                               \n",
       "1553  ethereum                               \n",
       "1675  ethereum                               \n",
       "1926  ethereum                               \n",
       "2034  ethereum                               \n",
       "2527  ethereum                               \n",
       "2889  ethereum                               \n",
       "2994  ethereum                               \n",
       "4134  ethereum                               \n",
       "5055  ethereum                               \n",
       "\n",
       "                                                    post_content  \n",
       "7                                                                 \n",
       "30                                                                \n",
       "196                                                               \n",
       "668                                                               \n",
       "698                                                               \n",
       "994                                                               \n",
       "1167                                                              \n",
       "1445                                                              \n",
       "1553  what  the plan for tomorrow for ether newbie here   gentle  \n",
       "1675                                                              \n",
       "1926                                                              \n",
       "2034                                                              \n",
       "2527                                                              \n",
       "2889                                                              \n",
       "2994                                                              \n",
       "4134                                                              \n",
       "5055                                                              "
      ]
     },
     "execution_count": 38,
     "metadata": {},
     "output_type": "execute_result"
    }
   ],
   "source": [
    "# check if there are blank values in the text of post_title column\n",
    "p_eth[p_eth['post_title'].str.contains(r'^\\s+$')]"
   ]
  },
  {
   "cell_type": "code",
   "execution_count": 39,
   "metadata": {},
   "outputs": [
    {
     "name": "stdout",
     "output_type": "stream",
     "text": [
      "(5046, 3)\n"
     ]
    }
   ],
   "source": [
    "# drop all rows with blank values in the text of post_title column\n",
    "p_eth.drop(index=p_eth[p_eth['post_title'].str.contains(r'^\\s+$')].index, inplace=True)\n",
    "p_eth.reset_index(drop=True, inplace=True)\n",
    "print(p_eth.shape)"
   ]
  },
  {
   "cell_type": "code",
   "execution_count": 40,
   "metadata": {
    "scrolled": false
   },
   "outputs": [
    {
     "data": {
      "text/html": [
       "<div>\n",
       "<style scoped>\n",
       "    .dataframe tbody tr th:only-of-type {\n",
       "        vertical-align: middle;\n",
       "    }\n",
       "\n",
       "    .dataframe tbody tr th {\n",
       "        vertical-align: top;\n",
       "    }\n",
       "\n",
       "    .dataframe thead th {\n",
       "        text-align: right;\n",
       "    }\n",
       "</style>\n",
       "<table border=\"1\" class=\"dataframe\">\n",
       "  <thead>\n",
       "    <tr style=\"text-align: right;\">\n",
       "      <th></th>\n",
       "      <th>subreddit</th>\n",
       "      <th>post_title</th>\n",
       "      <th>post_content</th>\n",
       "    </tr>\n",
       "  </thead>\n",
       "  <tbody>\n",
       "    <tr>\n",
       "      <th>1</th>\n",
       "      <td>ethereum</td>\n",
       "      <td>the hug – ultra rare</td>\n",
       "      <td></td>\n",
       "    </tr>\n",
       "    <tr>\n",
       "      <th>2</th>\n",
       "      <td>ethereum</td>\n",
       "      <td>l2beat website upgrade</td>\n",
       "      <td></td>\n",
       "    </tr>\n",
       "    <tr>\n",
       "      <th>3</th>\n",
       "      <td>ethereum</td>\n",
       "      <td>possible   specify   which block height   transaction get included</td>\n",
       "      <td></td>\n",
       "    </tr>\n",
       "    <tr>\n",
       "      <th>4</th>\n",
       "      <td>ethereum</td>\n",
       "      <td>create your token     easy steps with supertoken</td>\n",
       "      <td></td>\n",
       "    </tr>\n",
       "    <tr>\n",
       "      <th>5</th>\n",
       "      <td>ethereum</td>\n",
       "      <td>ethereum</td>\n",
       "      <td></td>\n",
       "    </tr>\n",
       "    <tr>\n",
       "      <th>...</th>\n",
       "      <td>...</td>\n",
       "      <td>...</td>\n",
       "      <td>...</td>\n",
       "    </tr>\n",
       "    <tr>\n",
       "      <th>5036</th>\n",
       "      <td>ethereum</td>\n",
       "      <td>selling openseanfteth ens domain name</td>\n",
       "      <td></td>\n",
       "    </tr>\n",
       "    <tr>\n",
       "      <th>5040</th>\n",
       "      <td>ethereum</td>\n",
       "      <td>question   the economics   gas</td>\n",
       "      <td></td>\n",
       "    </tr>\n",
       "    <tr>\n",
       "      <th>5042</th>\n",
       "      <td>ethereum</td>\n",
       "      <td>what’  the best way   save gas fees   erc20 tokens   any</td>\n",
       "      <td></td>\n",
       "    </tr>\n",
       "    <tr>\n",
       "      <th>5043</th>\n",
       "      <td>ethereum</td>\n",
       "      <td>high payout airdrop</td>\n",
       "      <td></td>\n",
       "    </tr>\n",
       "    <tr>\n",
       "      <th>5044</th>\n",
       "      <td>ethereum</td>\n",
       "      <td>’  thinking about putting   entire life savings into ethereum what   you guys think</td>\n",
       "      <td></td>\n",
       "    </tr>\n",
       "  </tbody>\n",
       "</table>\n",
       "<p>3894 rows × 3 columns</p>\n",
       "</div>"
      ],
      "text/plain": [
       "     subreddit  \\\n",
       "1     ethereum   \n",
       "2     ethereum   \n",
       "3     ethereum   \n",
       "4     ethereum   \n",
       "5     ethereum   \n",
       "...        ...   \n",
       "5036  ethereum   \n",
       "5040  ethereum   \n",
       "5042  ethereum   \n",
       "5043  ethereum   \n",
       "5044  ethereum   \n",
       "\n",
       "                                                                                 post_title  \\\n",
       "1                                                                   the hug – ultra rare      \n",
       "2                                                                    l2beat website upgrade   \n",
       "3                        possible   specify   which block height   transaction get included   \n",
       "4                                          create your token     easy steps with supertoken   \n",
       "5                                                                                  ethereum   \n",
       "...                                                                                     ...   \n",
       "5036                                                  selling openseanfteth ens domain name   \n",
       "5040                                                         question   the economics   gas   \n",
       "5042                               what’  the best way   save gas fees   erc20 tokens   any   \n",
       "5043                                                                    high payout airdrop   \n",
       "5044   ’  thinking about putting   entire life savings into ethereum what   you guys think    \n",
       "\n",
       "     post_content  \n",
       "1                  \n",
       "2                  \n",
       "3                  \n",
       "4                  \n",
       "5                  \n",
       "...           ...  \n",
       "5036               \n",
       "5040               \n",
       "5042               \n",
       "5043               \n",
       "5044               \n",
       "\n",
       "[3894 rows x 3 columns]"
      ]
     },
     "execution_count": 40,
     "metadata": {},
     "output_type": "execute_result"
    }
   ],
   "source": [
    "# check if there are blank values in the text of post_content column\n",
    "p_eth[p_eth['post_content'].str.contains(r'^\\s+$')]"
   ]
  },
  {
   "cell_type": "code",
   "execution_count": 41,
   "metadata": {},
   "outputs": [
    {
     "name": "stdout",
     "output_type": "stream",
     "text": [
      "(1152, 3)\n"
     ]
    }
   ],
   "source": [
    "# drop all rows with blank values in the text of post_content column\n",
    "p_eth.drop(index=p_eth[p_eth['post_content'].str.contains(r'^\\s+$')].index, inplace=True)\n",
    "p_eth.reset_index(drop=True, inplace=True)\n",
    "print(p_eth.shape)"
   ]
  },
  {
   "cell_type": "code",
   "execution_count": 42,
   "metadata": {},
   "outputs": [
    {
     "data": {
      "text/html": [
       "<div>\n",
       "<style scoped>\n",
       "    .dataframe tbody tr th:only-of-type {\n",
       "        vertical-align: middle;\n",
       "    }\n",
       "\n",
       "    .dataframe tbody tr th {\n",
       "        vertical-align: top;\n",
       "    }\n",
       "\n",
       "    .dataframe thead th {\n",
       "        text-align: right;\n",
       "    }\n",
       "</style>\n",
       "<table border=\"1\" class=\"dataframe\">\n",
       "  <thead>\n",
       "    <tr style=\"text-align: right;\">\n",
       "      <th></th>\n",
       "      <th>subreddit</th>\n",
       "      <th>post_title</th>\n",
       "      <th>post_content</th>\n",
       "    </tr>\n",
       "  </thead>\n",
       "  <tbody>\n",
       "  </tbody>\n",
       "</table>\n",
       "</div>"
      ],
      "text/plain": [
       "Empty DataFrame\n",
       "Columns: [subreddit, post_title, post_content]\n",
       "Index: []"
      ]
     },
     "execution_count": 42,
     "metadata": {},
     "output_type": "execute_result"
    }
   ],
   "source": [
    "# check if there are empty strings in the text of post_title column\n",
    "p_eth[p_eth['post_title'] == '']"
   ]
  },
  {
   "cell_type": "code",
   "execution_count": 43,
   "metadata": {},
   "outputs": [
    {
     "data": {
      "text/html": [
       "<div>\n",
       "<style scoped>\n",
       "    .dataframe tbody tr th:only-of-type {\n",
       "        vertical-align: middle;\n",
       "    }\n",
       "\n",
       "    .dataframe tbody tr th {\n",
       "        vertical-align: top;\n",
       "    }\n",
       "\n",
       "    .dataframe thead th {\n",
       "        text-align: right;\n",
       "    }\n",
       "</style>\n",
       "<table border=\"1\" class=\"dataframe\">\n",
       "  <thead>\n",
       "    <tr style=\"text-align: right;\">\n",
       "      <th></th>\n",
       "      <th>subreddit</th>\n",
       "      <th>post_title</th>\n",
       "      <th>post_content</th>\n",
       "    </tr>\n",
       "  </thead>\n",
       "  <tbody>\n",
       "    <tr>\n",
       "      <th>431</th>\n",
       "      <td>ethereum</td>\n",
       "      <td>proud owner     eth also happens     cakeday</td>\n",
       "      <td></td>\n",
       "    </tr>\n",
       "    <tr>\n",
       "      <th>903</th>\n",
       "      <td>ethereum</td>\n",
       "      <td>’   ing not selling</td>\n",
       "      <td></td>\n",
       "    </tr>\n",
       "  </tbody>\n",
       "</table>\n",
       "</div>"
      ],
      "text/plain": [
       "    subreddit                                     post_title post_content\n",
       "431  ethereum  proud owner     eth also happens     cakeday              \n",
       "903  ethereum                            ’   ing not selling             "
      ]
     },
     "execution_count": 43,
     "metadata": {},
     "output_type": "execute_result"
    }
   ],
   "source": [
    "# check if there are empty strings in the text of post_content column\n",
    "p_eth[p_eth['post_content'] == '']"
   ]
  },
  {
   "cell_type": "code",
   "execution_count": 44,
   "metadata": {},
   "outputs": [
    {
     "name": "stdout",
     "output_type": "stream",
     "text": [
      "(1150, 3)\n"
     ]
    }
   ],
   "source": [
    "# drop all rows with empty strings in the text of post_content column\n",
    "p_eth.drop(index=p_eth[p_eth['post_content'] == ''].index, inplace=True)\n",
    "p_eth.reset_index(drop=True, inplace=True)\n",
    "print(p_eth.shape)"
   ]
  },
  {
   "cell_type": "markdown",
   "metadata": {},
   "source": [
    "### Data Exporting"
   ]
  },
  {
   "cell_type": "markdown",
   "metadata": {},
   "source": [
    "#### Export Bitcoin Posts Data"
   ]
  },
  {
   "cell_type": "code",
   "execution_count": 45,
   "metadata": {},
   "outputs": [
    {
     "data": {
      "text/html": [
       "<div>\n",
       "<style scoped>\n",
       "    .dataframe tbody tr th:only-of-type {\n",
       "        vertical-align: middle;\n",
       "    }\n",
       "\n",
       "    .dataframe tbody tr th {\n",
       "        vertical-align: top;\n",
       "    }\n",
       "\n",
       "    .dataframe thead th {\n",
       "        text-align: right;\n",
       "    }\n",
       "</style>\n",
       "<table border=\"1\" class=\"dataframe\">\n",
       "  <thead>\n",
       "    <tr style=\"text-align: right;\">\n",
       "      <th></th>\n",
       "      <th>subreddit</th>\n",
       "      <th>post_title</th>\n",
       "      <th>post_content</th>\n",
       "    </tr>\n",
       "  </thead>\n",
       "  <tbody>\n",
       "    <tr>\n",
       "      <th>0</th>\n",
       "      <td>Bitcoin</td>\n",
       "      <td>what moves crypto market apart from the speculators</td>\n",
       "      <td>would like   know   there   anything that moves   crypto market  apart from the speculators  ...</td>\n",
       "    </tr>\n",
       "    <tr>\n",
       "      <th>1</th>\n",
       "      <td>Bitcoin</td>\n",
       "      <td>help starting crypto business</td>\n",
       "      <td>guys    interested   starting   crypto business  app   that would take small amounts   money f...</td>\n",
       "    </tr>\n",
       "    <tr>\n",
       "      <th>2</th>\n",
       "      <td>Bitcoin</td>\n",
       "      <td>did jack dorsey confirm   deflect   taking btc for advertising</td>\n",
       "      <td>might just being stupid but watching the conference there  the moment elon asks dorsey about a...</td>\n",
       "    </tr>\n",
       "    <tr>\n",
       "      <th>3</th>\n",
       "      <td>Bitcoin</td>\n",
       "      <td>⚡ lightning thursday july   2021 explore the lightning network⚡</td>\n",
       "      <td>the lightning network     secondlayer solution   top   the bitcoin blockchain that enables quick...</td>\n",
       "    </tr>\n",
       "    <tr>\n",
       "      <th>4</th>\n",
       "      <td>Bitcoin</td>\n",
       "      <td>will eth2 affect bitcoinbitcoin mining</td>\n",
       "      <td>was thinking   buying   mining rig with   friend and   said that ethereum    will affect bitco...</td>\n",
       "    </tr>\n",
       "  </tbody>\n",
       "</table>\n",
       "</div>"
      ],
      "text/plain": [
       "  subreddit                                                       post_title  \\\n",
       "0   Bitcoin              what moves crypto market apart from the speculators   \n",
       "1   Bitcoin                                    help starting crypto business   \n",
       "2   Bitcoin  did jack dorsey confirm   deflect   taking btc for advertising    \n",
       "3   Bitcoin  ⚡ lightning thursday july   2021 explore the lightning network⚡   \n",
       "4   Bitcoin                           will eth2 affect bitcoinbitcoin mining   \n",
       "\n",
       "                                                                                          post_content  \n",
       "0     would like   know   there   anything that moves   crypto market  apart from the speculators  ...  \n",
       "1    guys    interested   starting   crypto business  app   that would take small amounts   money f...  \n",
       "2    might just being stupid but watching the conference there  the moment elon asks dorsey about a...  \n",
       "3  the lightning network     secondlayer solution   top   the bitcoin blockchain that enables quick...  \n",
       "4    was thinking   buying   mining rig with   friend and   said that ethereum    will affect bitco...  "
      ]
     },
     "execution_count": 45,
     "metadata": {},
     "output_type": "execute_result"
    }
   ],
   "source": [
    "# final show of first 5 rows\n",
    "p_btc.head()"
   ]
  },
  {
   "cell_type": "code",
   "execution_count": 46,
   "metadata": {},
   "outputs": [
    {
     "data": {
      "text/html": [
       "<div>\n",
       "<style scoped>\n",
       "    .dataframe tbody tr th:only-of-type {\n",
       "        vertical-align: middle;\n",
       "    }\n",
       "\n",
       "    .dataframe tbody tr th {\n",
       "        vertical-align: top;\n",
       "    }\n",
       "\n",
       "    .dataframe thead th {\n",
       "        text-align: right;\n",
       "    }\n",
       "</style>\n",
       "<table border=\"1\" class=\"dataframe\">\n",
       "  <thead>\n",
       "    <tr style=\"text-align: right;\">\n",
       "      <th></th>\n",
       "      <th>subreddit</th>\n",
       "      <th>post_title</th>\n",
       "      <th>post_content</th>\n",
       "    </tr>\n",
       "  </thead>\n",
       "  <tbody>\n",
       "    <tr>\n",
       "      <th>0</th>\n",
       "      <td>0</td>\n",
       "      <td>0</td>\n",
       "      <td>0</td>\n",
       "    </tr>\n",
       "  </tbody>\n",
       "</table>\n",
       "</div>"
      ],
      "text/plain": [
       "   subreddit  post_title  post_content\n",
       "0          0           0             0"
      ]
     },
     "execution_count": 46,
     "metadata": {},
     "output_type": "execute_result"
    }
   ],
   "source": [
    "# final null value check\n",
    "p_btc.isnull().sum().to_frame().T"
   ]
  },
  {
   "cell_type": "code",
   "execution_count": 47,
   "metadata": {},
   "outputs": [
    {
     "data": {
      "text/plain": [
       "(1557, 3)"
      ]
     },
     "execution_count": 47,
     "metadata": {},
     "output_type": "execute_result"
    }
   ],
   "source": [
    "# final shape check to ensure sufficient rows\n",
    "p_btc.shape"
   ]
  },
  {
   "cell_type": "code",
   "execution_count": 48,
   "metadata": {},
   "outputs": [],
   "source": [
    "# export cleaned dataframe\n",
    "p_btc.to_csv('../data/btc_posts_clean.csv', index=False)"
   ]
  },
  {
   "cell_type": "markdown",
   "metadata": {},
   "source": [
    "#### Export Ethereum Posts Data"
   ]
  },
  {
   "cell_type": "code",
   "execution_count": 49,
   "metadata": {},
   "outputs": [
    {
     "data": {
      "text/html": [
       "<div>\n",
       "<style scoped>\n",
       "    .dataframe tbody tr th:only-of-type {\n",
       "        vertical-align: middle;\n",
       "    }\n",
       "\n",
       "    .dataframe tbody tr th {\n",
       "        vertical-align: top;\n",
       "    }\n",
       "\n",
       "    .dataframe thead th {\n",
       "        text-align: right;\n",
       "    }\n",
       "</style>\n",
       "<table border=\"1\" class=\"dataframe\">\n",
       "  <thead>\n",
       "    <tr style=\"text-align: right;\">\n",
       "      <th></th>\n",
       "      <th>subreddit</th>\n",
       "      <th>post_title</th>\n",
       "      <th>post_content</th>\n",
       "    </tr>\n",
       "  </thead>\n",
       "  <tbody>\n",
       "    <tr>\n",
       "      <th>0</th>\n",
       "      <td>ethereum</td>\n",
       "      <td>should   sell bitcoin and just   all   ethereum</td>\n",
       "      <td>have like    invested total   bitcoin and after the crash   only have    gains     sold   65k...</td>\n",
       "    </tr>\n",
       "    <tr>\n",
       "      <th>1</th>\n",
       "      <td>ethereum</td>\n",
       "      <td>will any blockchain   able   sustain low   fees   that   can become useful for everyday transact...</td>\n",
       "      <td>the case that   crypto currency whether eth ada algo dai etc were   gain   huge user base say ...</td>\n",
       "    </tr>\n",
       "    <tr>\n",
       "      <th>2</th>\n",
       "      <td>ethereum</td>\n",
       "      <td>ethereumdai lost need help</td>\n",
       "      <td>have   idea how   access the private key   account for    ethereum   sent   large sum   dai  ...</td>\n",
       "    </tr>\n",
       "    <tr>\n",
       "      <th>3</th>\n",
       "      <td>ethereum</td>\n",
       "      <td>ethereum reddit mods censoring the laurel  the volunteer platform</td>\n",
       "      <td>the laurel     platform for volunteers being built   volunteers  laurels are the first fungible ...</td>\n",
       "    </tr>\n",
       "    <tr>\n",
       "      <th>4</th>\n",
       "      <td>ethereum</td>\n",
       "      <td>best ethereum stickers for telegram</td>\n",
       "      <td>couldn  find any cool ethereumvitalikrelated stickers for telegram   decided   make   own stic...</td>\n",
       "    </tr>\n",
       "  </tbody>\n",
       "</table>\n",
       "</div>"
      ],
      "text/plain": [
       "  subreddit  \\\n",
       "0  ethereum   \n",
       "1  ethereum   \n",
       "2  ethereum   \n",
       "3  ethereum   \n",
       "4  ethereum   \n",
       "\n",
       "                                                                                            post_title  \\\n",
       "0                                                      should   sell bitcoin and just   all   ethereum   \n",
       "1  will any blockchain   able   sustain low   fees   that   can become useful for everyday transact...   \n",
       "2                                                                           ethereumdai lost need help   \n",
       "3                                    ethereum reddit mods censoring the laurel  the volunteer platform   \n",
       "4                                                                  best ethereum stickers for telegram   \n",
       "\n",
       "                                                                                          post_content  \n",
       "0     have like    invested total   bitcoin and after the crash   only have    gains     sold   65k...  \n",
       "1    the case that   crypto currency whether eth ada algo dai etc were   gain   huge user base say ...  \n",
       "2     have   idea how   access the private key   account for    ethereum   sent   large sum   dai  ...  \n",
       "3  the laurel     platform for volunteers being built   volunteers  laurels are the first fungible ...  \n",
       "4    couldn  find any cool ethereumvitalikrelated stickers for telegram   decided   make   own stic...  "
      ]
     },
     "execution_count": 49,
     "metadata": {},
     "output_type": "execute_result"
    }
   ],
   "source": [
    "# final show of first 5 rows\n",
    "p_eth.head()"
   ]
  },
  {
   "cell_type": "code",
   "execution_count": 50,
   "metadata": {},
   "outputs": [
    {
     "data": {
      "text/html": [
       "<div>\n",
       "<style scoped>\n",
       "    .dataframe tbody tr th:only-of-type {\n",
       "        vertical-align: middle;\n",
       "    }\n",
       "\n",
       "    .dataframe tbody tr th {\n",
       "        vertical-align: top;\n",
       "    }\n",
       "\n",
       "    .dataframe thead th {\n",
       "        text-align: right;\n",
       "    }\n",
       "</style>\n",
       "<table border=\"1\" class=\"dataframe\">\n",
       "  <thead>\n",
       "    <tr style=\"text-align: right;\">\n",
       "      <th></th>\n",
       "      <th>subreddit</th>\n",
       "      <th>post_title</th>\n",
       "      <th>post_content</th>\n",
       "    </tr>\n",
       "  </thead>\n",
       "  <tbody>\n",
       "    <tr>\n",
       "      <th>0</th>\n",
       "      <td>0</td>\n",
       "      <td>0</td>\n",
       "      <td>0</td>\n",
       "    </tr>\n",
       "  </tbody>\n",
       "</table>\n",
       "</div>"
      ],
      "text/plain": [
       "   subreddit  post_title  post_content\n",
       "0          0           0             0"
      ]
     },
     "execution_count": 50,
     "metadata": {},
     "output_type": "execute_result"
    }
   ],
   "source": [
    "# final null value check\n",
    "p_eth.isnull().sum().to_frame().T"
   ]
  },
  {
   "cell_type": "code",
   "execution_count": 51,
   "metadata": {},
   "outputs": [
    {
     "data": {
      "text/plain": [
       "(1150, 3)"
      ]
     },
     "execution_count": 51,
     "metadata": {},
     "output_type": "execute_result"
    }
   ],
   "source": [
    "# final shape check to ensure sufficient rows\n",
    "p_eth.shape"
   ]
  },
  {
   "cell_type": "code",
   "execution_count": 52,
   "metadata": {},
   "outputs": [],
   "source": [
    "# export cleaned dataframe\n",
    "p_eth.to_csv('../data/eth_posts_clean.csv', index=False)"
   ]
  },
  {
   "cell_type": "markdown",
   "metadata": {},
   "source": [
    "### Data Dictionary"
   ]
  },
  {
   "cell_type": "markdown",
   "metadata": {},
   "source": [
    "A description of the variables seen in the cleaned datasets for analysis is given below:\n",
    "\n",
    "* [`btc_posts_clean.csv`](../data/btc_posts_clean.csv): Cleaned Bitcoin Subreddit Posts Dataset\n",
    "\n",
    "| Variable      | Type    | Dataset              | Description                          |\n",
    "|:--------------|:--------|:---------------------|:-------------------------------------|\n",
    "| subreddit     | object  | btc_posts_clean.csv  | Subreddit which the post belongs to  |\n",
    "| post_title    | object  | btc_posts_clean.csv  | Title of the post                    |\n",
    "| post_content  | object  | btc_posts_clean.csv  | Content of the post                  |\n",
    "\n",
    "* [`eth_posts_clean.csv`](../data/eth_posts_clean.csv): Cleaned Ethereum Subreddit Posts Dataset\n",
    "\n",
    "| Variable      | Type    | Dataset              | Description                          |\n",
    "|:--------------|:--------|:---------------------|:-------------------------------------|\n",
    "| subreddit     | object  | eth_posts_clean.csv  | Subreddit which the post belongs to  |\n",
    "| post_title    | object  | eth_posts_clean.csv  | Title of the post                    |\n",
    "| post_content  | object  | eth_posts_clean.csv  | Content of the post                  |"
   ]
  },
  {
   "cell_type": "markdown",
   "metadata": {},
   "source": [
    "## Exploration & Visualisation"
   ]
  },
  {
   "cell_type": "markdown",
   "metadata": {},
   "source": [
    "### Descriptive Statistics"
   ]
  },
  {
   "cell_type": "markdown",
   "metadata": {},
   "source": [
    "#### Explore Bitcoin Posts DataFrame"
   ]
  },
  {
   "cell_type": "code",
   "execution_count": 53,
   "metadata": {
    "scrolled": true
   },
   "outputs": [
    {
     "data": {
      "text/html": [
       "<div>\n",
       "<style scoped>\n",
       "    .dataframe tbody tr th:only-of-type {\n",
       "        vertical-align: middle;\n",
       "    }\n",
       "\n",
       "    .dataframe tbody tr th {\n",
       "        vertical-align: top;\n",
       "    }\n",
       "\n",
       "    .dataframe thead th {\n",
       "        text-align: right;\n",
       "    }\n",
       "</style>\n",
       "<table border=\"1\" class=\"dataframe\">\n",
       "  <thead>\n",
       "    <tr style=\"text-align: right;\">\n",
       "      <th></th>\n",
       "      <th>subreddit</th>\n",
       "      <th>post_title</th>\n",
       "      <th>post_content</th>\n",
       "    </tr>\n",
       "  </thead>\n",
       "  <tbody>\n",
       "    <tr>\n",
       "      <th>count</th>\n",
       "      <td>1557</td>\n",
       "      <td>1557</td>\n",
       "      <td>1557</td>\n",
       "    </tr>\n",
       "    <tr>\n",
       "      <th>unique</th>\n",
       "      <td>1</td>\n",
       "      <td>1517</td>\n",
       "      <td>1534</td>\n",
       "    </tr>\n",
       "    <tr>\n",
       "      <th>top</th>\n",
       "      <td>Bitcoin</td>\n",
       "      <td>daily discussion july   2021</td>\n",
       "      <td>please utilize this sticky thread for all general bitcoin discussions   you see posts   the fron...</td>\n",
       "    </tr>\n",
       "    <tr>\n",
       "      <th>freq</th>\n",
       "      <td>1557</td>\n",
       "      <td>16</td>\n",
       "      <td>16</td>\n",
       "    </tr>\n",
       "  </tbody>\n",
       "</table>\n",
       "</div>"
      ],
      "text/plain": [
       "       subreddit                    post_title  \\\n",
       "count       1557                          1557   \n",
       "unique         1                          1517   \n",
       "top      Bitcoin  daily discussion july   2021   \n",
       "freq        1557                            16   \n",
       "\n",
       "                                                                                               post_content  \n",
       "count                                                                                                  1557  \n",
       "unique                                                                                                 1534  \n",
       "top     please utilize this sticky thread for all general bitcoin discussions   you see posts   the fron...  \n",
       "freq                                                                                                     16  "
      ]
     },
     "execution_count": 53,
     "metadata": {},
     "output_type": "execute_result"
    }
   ],
   "source": [
    "# get descriptive statistics of existing columns\n",
    "p_btc.describe()"
   ]
  },
  {
   "cell_type": "code",
   "execution_count": 54,
   "metadata": {},
   "outputs": [
    {
     "data": {
      "text/html": [
       "<div>\n",
       "<style scoped>\n",
       "    .dataframe tbody tr th:only-of-type {\n",
       "        vertical-align: middle;\n",
       "    }\n",
       "\n",
       "    .dataframe tbody tr th {\n",
       "        vertical-align: top;\n",
       "    }\n",
       "\n",
       "    .dataframe thead th {\n",
       "        text-align: right;\n",
       "    }\n",
       "</style>\n",
       "<table border=\"1\" class=\"dataframe\">\n",
       "  <thead>\n",
       "    <tr style=\"text-align: right;\">\n",
       "      <th></th>\n",
       "      <th>post_title</th>\n",
       "    </tr>\n",
       "  </thead>\n",
       "  <tbody>\n",
       "    <tr>\n",
       "      <th>daily discussion july   2021</th>\n",
       "      <td>16</td>\n",
       "    </tr>\n",
       "    <tr>\n",
       "      <th>⚡ lightning thursday july   2021 explore the lightning network⚡</th>\n",
       "      <td>3</td>\n",
       "    </tr>\n",
       "    <tr>\n",
       "      <th>tokenpad network</th>\n",
       "      <td>3</td>\n",
       "    </tr>\n",
       "    <tr>\n",
       "      <th>question</th>\n",
       "      <td>3</td>\n",
       "    </tr>\n",
       "    <tr>\n",
       "      <th>bitcoin network status update tuesday july   2021</th>\n",
       "      <td>3</td>\n",
       "    </tr>\n",
       "    <tr>\n",
       "      <th>bitcoin network status update wednesday july   2021</th>\n",
       "      <td>3</td>\n",
       "    </tr>\n",
       "    <tr>\n",
       "      <th>the evolution   bitcoin     gif</th>\n",
       "      <td>2</td>\n",
       "    </tr>\n",
       "    <tr>\n",
       "      <th>bitcoin network status update sunday july   2021</th>\n",
       "      <td>2</td>\n",
       "    </tr>\n",
       "    <tr>\n",
       "      <th>mentor monday july   2021 ask all your bitcoin questions</th>\n",
       "      <td>2</td>\n",
       "    </tr>\n",
       "    <tr>\n",
       "      <th>2300 worth   stocks limited time only promotion from webull</th>\n",
       "      <td>2</td>\n",
       "    </tr>\n",
       "  </tbody>\n",
       "</table>\n",
       "</div>"
      ],
      "text/plain": [
       "                                                                 post_title\n",
       "daily discussion july   2021                                             16\n",
       "⚡ lightning thursday july   2021 explore the lightning network⚡           3\n",
       "tokenpad network                                                          3\n",
       "question                                                                  3\n",
       "bitcoin network status update tuesday july   2021                         3\n",
       "bitcoin network status update wednesday july   2021                       3\n",
       "the evolution   bitcoin     gif                                           2\n",
       "bitcoin network status update sunday july   2021                          2\n",
       "mentor monday july   2021 ask all your bitcoin questions                  2\n",
       "    2300 worth   stocks limited time only promotion from webull           2"
      ]
     },
     "execution_count": 54,
     "metadata": {},
     "output_type": "execute_result"
    }
   ],
   "source": [
    "# show the 10 most common values in the post_title column\n",
    "p_btc['post_title'].value_counts(ascending=False).to_frame().head(10)"
   ]
  },
  {
   "cell_type": "code",
   "execution_count": 55,
   "metadata": {
    "scrolled": false
   },
   "outputs": [
    {
     "data": {
      "text/html": [
       "<div>\n",
       "<style scoped>\n",
       "    .dataframe tbody tr th:only-of-type {\n",
       "        vertical-align: middle;\n",
       "    }\n",
       "\n",
       "    .dataframe tbody tr th {\n",
       "        vertical-align: top;\n",
       "    }\n",
       "\n",
       "    .dataframe thead th {\n",
       "        text-align: right;\n",
       "    }\n",
       "</style>\n",
       "<table border=\"1\" class=\"dataframe\">\n",
       "  <thead>\n",
       "    <tr style=\"text-align: right;\">\n",
       "      <th></th>\n",
       "      <th>post_content</th>\n",
       "    </tr>\n",
       "  </thead>\n",
       "  <tbody>\n",
       "    <tr>\n",
       "      <th>please utilize this sticky thread for all general bitcoin discussions   you see posts   the front page    bitcoinnew which are better suited for this daily discussion thread please help out   directing the     this thread instead thank you   you don  get   answer   your question you can try phrasing   differently   commenting again tomorrow join     the  bitcoin chatroom  please check the previous discussion thread  for unanswered questions</th>\n",
       "      <td>16</td>\n",
       "    </tr>\n",
       "    <tr>\n",
       "      <th>the lightning network     secondlayer solution   top   the bitcoin blockchain that enables quick cheap and scalable bitcoin payments here   the place   discuss and learn more about lightning ask your questions about lightning provide reviews feedback comparisons     apps services websites etc learn about new   features development apps link   good quality resources articles wikis etc resources  here     awesome list   resources compiled   jameson lopp    want   test out your lightning fire power tip the bitcoin devs    previous threads    restrictsr  includeover18  sortnew  all  lnbook getting closer towards being finished and can already   seen      lightning dedicated youtube channel    also there   the playlist   chaincode labs    lightning stores    learn more and talk about lightning right here    bitcoin  bitcoinbeginners  thelightningnetwork and the  bitcoin chat</th>\n",
       "      <td>3</td>\n",
       "    </tr>\n",
       "    <tr>\n",
       "      <th>this   the best project   would like   talk about one   the best project   very promising project this project will   able     much further   hope this project   will   success</th>\n",
       "      <td>2</td>\n",
       "    </tr>\n",
       "    <tr>\n",
       "      <th>ask and answer away here are the general rules    you  like   learn something ask    you  like   share knowledge answer  any question about bitcoin   fair game and don  forget   check out  bitcoinbeginners you can sort   new   see the latest questions that may not   answered yet</th>\n",
       "      <td>2</td>\n",
       "    </tr>\n",
       "    <tr>\n",
       "      <th>hey guys   hope   post finds you well    been working     new      offer better quality products with good designs   the bitcoin community and   would love   get some feedbacks   improve the work also   offer personalization   think that    strength point    optional you can enter your public address then   transform   into   scannable   code and print     the back   you  curious    partnering with printful   all products are mainly made and printed   the usa feel free   check out our shop and don  hesitate   contact   for any information you would like   know   the way   accept bitcoin you know that  the spirit your feedbacks are much appreciated</th>\n",
       "      <td>2</td>\n",
       "    </tr>\n",
       "    <tr>\n",
       "      <th>the optimal combination   innovative technologies   the new generation projectthis project   looking good with amazing concept all their team members looking good hope the project will     moon soon join everyone bounty and token</th>\n",
       "      <td>2</td>\n",
       "    </tr>\n",
       "    <tr>\n",
       "      <th>000     000    120000     240000     800000</th>\n",
       "      <td>2</td>\n",
       "    </tr>\n",
       "    <tr>\n",
       "      <th>bitcoiners support capitalism   capitalism good   bad</th>\n",
       "      <td>2</td>\n",
       "    </tr>\n",
       "    <tr>\n",
       "      <th>hello all hope that this   appropriate for this sub basically     looking for   source online where   can read through the full paper edition   the times jan   2008 scanned copies specifically      noticed some differences from headlines   stand firsts within the times website  digital counterparts   articles    would   even more amazing   someone had access   the crossword from that day   well can anyone help point     the right direction   don  have much   offer   return but   had some reddit coins backed   and   happy   give what   can for   award</th>\n",
       "      <td>1</td>\n",
       "    </tr>\n",
       "    <tr>\n",
       "      <th>coinzone wallet legit   scam</th>\n",
       "      <td>1</td>\n",
       "    </tr>\n",
       "  </tbody>\n",
       "</table>\n",
       "</div>"
      ],
      "text/plain": [
       "                                                                                                      post_content\n",
       "please utilize this sticky thread for all general bitcoin discussions   you see posts   the front...            16\n",
       "the lightning network     secondlayer solution   top   the bitcoin blockchain that enables quick ...             3\n",
       "this   the best project   would like   talk about one   the best project   very promising project...             2\n",
       "ask and answer away here are the general rules    you  like   learn something ask    you  like   ...             2\n",
       "hey guys   hope   post finds you well    been working     new      offer better quality products ...             2\n",
       "the optimal combination   innovative technologies   the new generation projectthis project   look...             2\n",
       "          000     000    120000     240000     800000                                                            2\n",
       "  bitcoiners support capitalism   capitalism good   bad                                                          2\n",
       "hello all hope that this   appropriate for this sub basically     looking for   source online whe...             1\n",
       "  coinzone wallet legit   scam                                                                                   1"
      ]
     },
     "execution_count": 55,
     "metadata": {},
     "output_type": "execute_result"
    }
   ],
   "source": [
    "# show the 10 most common values in the post_content column\n",
    "p_btc['post_content'].value_counts(ascending=False).to_frame().head(10)"
   ]
  },
  {
   "cell_type": "code",
   "execution_count": 56,
   "metadata": {},
   "outputs": [
    {
     "data": {
      "text/html": [
       "<div>\n",
       "<style scoped>\n",
       "    .dataframe tbody tr th:only-of-type {\n",
       "        vertical-align: middle;\n",
       "    }\n",
       "\n",
       "    .dataframe tbody tr th {\n",
       "        vertical-align: top;\n",
       "    }\n",
       "\n",
       "    .dataframe thead th {\n",
       "        text-align: right;\n",
       "    }\n",
       "</style>\n",
       "<table border=\"1\" class=\"dataframe\">\n",
       "  <thead>\n",
       "    <tr style=\"text-align: right;\">\n",
       "      <th></th>\n",
       "      <th>subreddit</th>\n",
       "      <th>post_title</th>\n",
       "      <th>post_content</th>\n",
       "      <th>post_title_clength</th>\n",
       "      <th>post_title_wcount</th>\n",
       "      <th>post_content_clength</th>\n",
       "      <th>post_content_wcount</th>\n",
       "    </tr>\n",
       "  </thead>\n",
       "  <tbody>\n",
       "    <tr>\n",
       "      <th>0</th>\n",
       "      <td>Bitcoin</td>\n",
       "      <td>what moves crypto market apart from the speculators</td>\n",
       "      <td>would like   know   there   anything that moves   crypto market  apart from the speculators  ...</td>\n",
       "      <td>51</td>\n",
       "      <td>8</td>\n",
       "      <td>158</td>\n",
       "      <td>20</td>\n",
       "    </tr>\n",
       "    <tr>\n",
       "      <th>1</th>\n",
       "      <td>Bitcoin</td>\n",
       "      <td>help starting crypto business</td>\n",
       "      <td>guys    interested   starting   crypto business  app   that would take small amounts   money f...</td>\n",
       "      <td>29</td>\n",
       "      <td>4</td>\n",
       "      <td>416</td>\n",
       "      <td>61</td>\n",
       "    </tr>\n",
       "    <tr>\n",
       "      <th>2</th>\n",
       "      <td>Bitcoin</td>\n",
       "      <td>did jack dorsey confirm   deflect   taking btc for advertising</td>\n",
       "      <td>might just being stupid but watching the conference there  the moment elon asks dorsey about a...</td>\n",
       "      <td>63</td>\n",
       "      <td>9</td>\n",
       "      <td>291</td>\n",
       "      <td>44</td>\n",
       "    </tr>\n",
       "    <tr>\n",
       "      <th>3</th>\n",
       "      <td>Bitcoin</td>\n",
       "      <td>⚡ lightning thursday july   2021 explore the lightning network⚡</td>\n",
       "      <td>the lightning network     secondlayer solution   top   the bitcoin blockchain that enables quick...</td>\n",
       "      <td>63</td>\n",
       "      <td>9</td>\n",
       "      <td>883</td>\n",
       "      <td>114</td>\n",
       "    </tr>\n",
       "    <tr>\n",
       "      <th>4</th>\n",
       "      <td>Bitcoin</td>\n",
       "      <td>will eth2 affect bitcoinbitcoin mining</td>\n",
       "      <td>was thinking   buying   mining rig with   friend and   said that ethereum    will affect bitco...</td>\n",
       "      <td>38</td>\n",
       "      <td>5</td>\n",
       "      <td>159</td>\n",
       "      <td>23</td>\n",
       "    </tr>\n",
       "  </tbody>\n",
       "</table>\n",
       "</div>"
      ],
      "text/plain": [
       "  subreddit                                                       post_title  \\\n",
       "0   Bitcoin              what moves crypto market apart from the speculators   \n",
       "1   Bitcoin                                    help starting crypto business   \n",
       "2   Bitcoin  did jack dorsey confirm   deflect   taking btc for advertising    \n",
       "3   Bitcoin  ⚡ lightning thursday july   2021 explore the lightning network⚡   \n",
       "4   Bitcoin                           will eth2 affect bitcoinbitcoin mining   \n",
       "\n",
       "                                                                                          post_content  \\\n",
       "0     would like   know   there   anything that moves   crypto market  apart from the speculators  ...   \n",
       "1    guys    interested   starting   crypto business  app   that would take small amounts   money f...   \n",
       "2    might just being stupid but watching the conference there  the moment elon asks dorsey about a...   \n",
       "3  the lightning network     secondlayer solution   top   the bitcoin blockchain that enables quick...   \n",
       "4    was thinking   buying   mining rig with   friend and   said that ethereum    will affect bitco...   \n",
       "\n",
       "   post_title_clength  post_title_wcount  post_content_clength  \\\n",
       "0                  51                  8                   158   \n",
       "1                  29                  4                   416   \n",
       "2                  63                  9                   291   \n",
       "3                  63                  9                   883   \n",
       "4                  38                  5                   159   \n",
       "\n",
       "   post_content_wcount  \n",
       "0                   20  \n",
       "1                   61  \n",
       "2                   44  \n",
       "3                  114  \n",
       "4                   23  "
      ]
     },
     "execution_count": 56,
     "metadata": {},
     "output_type": "execute_result"
    }
   ],
   "source": [
    "# the existing columns do not give us much information\n",
    "# let us engineer some new columns to get some insights\n",
    "\n",
    "# get character length of each post title into a new column\n",
    "p_btc['post_title_clength'] = p_btc['post_title'].apply(len)\n",
    "\n",
    "# get word count of each post title into a new column\n",
    "p_btc['post_title_wcount'] = p_btc['post_title'].apply(lambda x: len(x.split()))\n",
    "\n",
    "# get character length of each post content into a new column\n",
    "p_btc['post_content_clength'] = p_btc['post_content'].apply(len)\n",
    "\n",
    "# get word count of each post content into a new column\n",
    "p_btc['post_content_wcount'] = p_btc['post_content'].apply(lambda x: len(x.split()))\n",
    "\n",
    "# check out first 5 rows\n",
    "p_btc.head()"
   ]
  },
  {
   "cell_type": "code",
   "execution_count": 57,
   "metadata": {},
   "outputs": [
    {
     "data": {
      "text/html": [
       "<div>\n",
       "<style scoped>\n",
       "    .dataframe tbody tr th:only-of-type {\n",
       "        vertical-align: middle;\n",
       "    }\n",
       "\n",
       "    .dataframe tbody tr th {\n",
       "        vertical-align: top;\n",
       "    }\n",
       "\n",
       "    .dataframe thead th {\n",
       "        text-align: right;\n",
       "    }\n",
       "</style>\n",
       "<table border=\"1\" class=\"dataframe\">\n",
       "  <thead>\n",
       "    <tr style=\"text-align: right;\">\n",
       "      <th></th>\n",
       "      <th>post_title_clength</th>\n",
       "      <th>post_title_wcount</th>\n",
       "      <th>post_content_clength</th>\n",
       "      <th>post_content_wcount</th>\n",
       "    </tr>\n",
       "  </thead>\n",
       "  <tbody>\n",
       "    <tr>\n",
       "      <th>count</th>\n",
       "      <td>1557.000000</td>\n",
       "      <td>1557.000000</td>\n",
       "      <td>1557.000000</td>\n",
       "      <td>1557.000000</td>\n",
       "    </tr>\n",
       "    <tr>\n",
       "      <th>mean</th>\n",
       "      <td>47.393706</td>\n",
       "      <td>6.932563</td>\n",
       "      <td>520.174695</td>\n",
       "      <td>74.233783</td>\n",
       "    </tr>\n",
       "    <tr>\n",
       "      <th>std</th>\n",
       "      <td>35.848400</td>\n",
       "      <td>5.244775</td>\n",
       "      <td>901.737738</td>\n",
       "      <td>127.506215</td>\n",
       "    </tr>\n",
       "    <tr>\n",
       "      <th>min</th>\n",
       "      <td>3.000000</td>\n",
       "      <td>1.000000</td>\n",
       "      <td>8.000000</td>\n",
       "      <td>1.000000</td>\n",
       "    </tr>\n",
       "    <tr>\n",
       "      <th>25%</th>\n",
       "      <td>23.000000</td>\n",
       "      <td>3.000000</td>\n",
       "      <td>136.000000</td>\n",
       "      <td>20.000000</td>\n",
       "    </tr>\n",
       "    <tr>\n",
       "      <th>50%</th>\n",
       "      <td>38.000000</td>\n",
       "      <td>6.000000</td>\n",
       "      <td>284.000000</td>\n",
       "      <td>41.000000</td>\n",
       "    </tr>\n",
       "    <tr>\n",
       "      <th>75%</th>\n",
       "      <td>61.000000</td>\n",
       "      <td>9.000000</td>\n",
       "      <td>558.000000</td>\n",
       "      <td>79.000000</td>\n",
       "    </tr>\n",
       "    <tr>\n",
       "      <th>max</th>\n",
       "      <td>280.000000</td>\n",
       "      <td>46.000000</td>\n",
       "      <td>19373.000000</td>\n",
       "      <td>2680.000000</td>\n",
       "    </tr>\n",
       "  </tbody>\n",
       "</table>\n",
       "</div>"
      ],
      "text/plain": [
       "       post_title_clength  post_title_wcount  post_content_clength  \\\n",
       "count         1557.000000        1557.000000           1557.000000   \n",
       "mean            47.393706           6.932563            520.174695   \n",
       "std             35.848400           5.244775            901.737738   \n",
       "min              3.000000           1.000000              8.000000   \n",
       "25%             23.000000           3.000000            136.000000   \n",
       "50%             38.000000           6.000000            284.000000   \n",
       "75%             61.000000           9.000000            558.000000   \n",
       "max            280.000000          46.000000          19373.000000   \n",
       "\n",
       "       post_content_wcount  \n",
       "count          1557.000000  \n",
       "mean             74.233783  \n",
       "std             127.506215  \n",
       "min               1.000000  \n",
       "25%              20.000000  \n",
       "50%              41.000000  \n",
       "75%              79.000000  \n",
       "max            2680.000000  "
      ]
     },
     "execution_count": 57,
     "metadata": {},
     "output_type": "execute_result"
    }
   ],
   "source": [
    "# get descriptive statistics of new columns\n",
    "p_btc.describe()"
   ]
  },
  {
   "cell_type": "code",
   "execution_count": 58,
   "metadata": {},
   "outputs": [
    {
     "data": {
      "text/html": [
       "<div>\n",
       "<style scoped>\n",
       "    .dataframe tbody tr th:only-of-type {\n",
       "        vertical-align: middle;\n",
       "    }\n",
       "\n",
       "    .dataframe tbody tr th {\n",
       "        vertical-align: top;\n",
       "    }\n",
       "\n",
       "    .dataframe thead th {\n",
       "        text-align: right;\n",
       "    }\n",
       "</style>\n",
       "<table border=\"1\" class=\"dataframe\">\n",
       "  <thead>\n",
       "    <tr style=\"text-align: right;\">\n",
       "      <th></th>\n",
       "      <th>post_title</th>\n",
       "      <th>post_title_clength</th>\n",
       "    </tr>\n",
       "  </thead>\n",
       "  <tbody>\n",
       "    <tr>\n",
       "      <th>1454</th>\n",
       "      <td>bitcoin     machine and the apex predator you get several times   attack   for free meaning the ...</td>\n",
       "      <td>280</td>\n",
       "    </tr>\n",
       "    <tr>\n",
       "      <th>241</th>\n",
       "      <td>bitcoin market being driven   fear right now and   you sell you are   fucking idiot   can prove ...</td>\n",
       "      <td>264</td>\n",
       "    </tr>\n",
       "    <tr>\n",
       "      <th>1338</th>\n",
       "      <td>the bitcoin rich will buy out almost every major company   politician against bitcoin   force th...</td>\n",
       "      <td>257</td>\n",
       "    </tr>\n",
       "    <tr>\n",
       "      <th>46</th>\n",
       "      <td>people move their btc off exchanges such   coinbase and gemini will that put pressure   them  ...</td>\n",
       "      <td>236</td>\n",
       "    </tr>\n",
       "    <tr>\n",
       "      <th>902</th>\n",
       "      <td>following 2008 crisis total assets   central banks increased   more than 500 within   years seei...</td>\n",
       "      <td>231</td>\n",
       "    </tr>\n",
       "  </tbody>\n",
       "</table>\n",
       "</div>"
      ],
      "text/plain": [
       "                                                                                               post_title  \\\n",
       "1454  bitcoin     machine and the apex predator you get several times   attack   for free meaning the ...   \n",
       "241   bitcoin market being driven   fear right now and   you sell you are   fucking idiot   can prove ...   \n",
       "1338  the bitcoin rich will buy out almost every major company   politician against bitcoin   force th...   \n",
       "46      people move their btc off exchanges such   coinbase and gemini will that put pressure   them  ...   \n",
       "902   following 2008 crisis total assets   central banks increased   more than 500 within   years seei...   \n",
       "\n",
       "      post_title_clength  \n",
       "1454                 280  \n",
       "241                  264  \n",
       "1338                 257  \n",
       "46                   236  \n",
       "902                  231  "
      ]
     },
     "execution_count": 58,
     "metadata": {},
     "output_type": "execute_result"
    }
   ],
   "source": [
    "# show the 5 longest post titles by character length\n",
    "p_btc.sort_values(by='post_title_clength', ascending=False)[['post_title', 'post_title_clength']].head()"
   ]
  },
  {
   "cell_type": "code",
   "execution_count": 59,
   "metadata": {},
   "outputs": [
    {
     "data": {
      "text/html": [
       "<div>\n",
       "<style scoped>\n",
       "    .dataframe tbody tr th:only-of-type {\n",
       "        vertical-align: middle;\n",
       "    }\n",
       "\n",
       "    .dataframe tbody tr th {\n",
       "        vertical-align: top;\n",
       "    }\n",
       "\n",
       "    .dataframe thead th {\n",
       "        text-align: right;\n",
       "    }\n",
       "</style>\n",
       "<table border=\"1\" class=\"dataframe\">\n",
       "  <thead>\n",
       "    <tr style=\"text-align: right;\">\n",
       "      <th></th>\n",
       "      <th>post_title</th>\n",
       "      <th>post_title_clength</th>\n",
       "    </tr>\n",
       "  </thead>\n",
       "  <tbody>\n",
       "    <tr>\n",
       "      <th>57</th>\n",
       "      <td>tax</td>\n",
       "      <td>3</td>\n",
       "    </tr>\n",
       "    <tr>\n",
       "      <th>1361</th>\n",
       "      <td>27k</td>\n",
       "      <td>3</td>\n",
       "    </tr>\n",
       "    <tr>\n",
       "      <th>786</th>\n",
       "      <td>bit</td>\n",
       "      <td>3</td>\n",
       "    </tr>\n",
       "    <tr>\n",
       "      <th>407</th>\n",
       "      <td>nft</td>\n",
       "      <td>3</td>\n",
       "    </tr>\n",
       "    <tr>\n",
       "      <th>1509</th>\n",
       "      <td>axia</td>\n",
       "      <td>4</td>\n",
       "    </tr>\n",
       "  </tbody>\n",
       "</table>\n",
       "</div>"
      ],
      "text/plain": [
       "     post_title  post_title_clength\n",
       "57          tax                   3\n",
       "1361        27k                   3\n",
       "786         bit                   3\n",
       "407         nft                   3\n",
       "1509       axia                   4"
      ]
     },
     "execution_count": 59,
     "metadata": {},
     "output_type": "execute_result"
    }
   ],
   "source": [
    "# show the 5 shortest post titles by character length\n",
    "p_btc.sort_values(by='post_title_clength', ascending=True)[['post_title', 'post_title_clength']].head()"
   ]
  },
  {
   "cell_type": "code",
   "execution_count": 60,
   "metadata": {},
   "outputs": [
    {
     "data": {
      "text/html": [
       "<div>\n",
       "<style scoped>\n",
       "    .dataframe tbody tr th:only-of-type {\n",
       "        vertical-align: middle;\n",
       "    }\n",
       "\n",
       "    .dataframe tbody tr th {\n",
       "        vertical-align: top;\n",
       "    }\n",
       "\n",
       "    .dataframe thead th {\n",
       "        text-align: right;\n",
       "    }\n",
       "</style>\n",
       "<table border=\"1\" class=\"dataframe\">\n",
       "  <thead>\n",
       "    <tr style=\"text-align: right;\">\n",
       "      <th></th>\n",
       "      <th>post_title</th>\n",
       "      <th>post_title_wcount</th>\n",
       "    </tr>\n",
       "  </thead>\n",
       "  <tbody>\n",
       "    <tr>\n",
       "      <th>1454</th>\n",
       "      <td>bitcoin     machine and the apex predator you get several times   attack   for free meaning the ...</td>\n",
       "      <td>46</td>\n",
       "    </tr>\n",
       "    <tr>\n",
       "      <th>241</th>\n",
       "      <td>bitcoin market being driven   fear right now and   you sell you are   fucking idiot   can prove ...</td>\n",
       "      <td>44</td>\n",
       "    </tr>\n",
       "    <tr>\n",
       "      <th>1338</th>\n",
       "      <td>the bitcoin rich will buy out almost every major company   politician against bitcoin   force th...</td>\n",
       "      <td>37</td>\n",
       "    </tr>\n",
       "    <tr>\n",
       "      <th>46</th>\n",
       "      <td>people move their btc off exchanges such   coinbase and gemini will that put pressure   them  ...</td>\n",
       "      <td>34</td>\n",
       "    </tr>\n",
       "    <tr>\n",
       "      <th>450</th>\n",
       "      <td>and not the most tech savvy been learning about crypto for the last   months and finally mo...</td>\n",
       "      <td>33</td>\n",
       "    </tr>\n",
       "  </tbody>\n",
       "</table>\n",
       "</div>"
      ],
      "text/plain": [
       "                                                                                               post_title  \\\n",
       "1454  bitcoin     machine and the apex predator you get several times   attack   for free meaning the ...   \n",
       "241   bitcoin market being driven   fear right now and   you sell you are   fucking idiot   can prove ...   \n",
       "1338  the bitcoin rich will buy out almost every major company   politician against bitcoin   force th...   \n",
       "46      people move their btc off exchanges such   coinbase and gemini will that put pressure   them  ...   \n",
       "450        and not the most tech savvy been learning about crypto for the last   months and finally mo...   \n",
       "\n",
       "      post_title_wcount  \n",
       "1454                 46  \n",
       "241                  44  \n",
       "1338                 37  \n",
       "46                   34  \n",
       "450                  33  "
      ]
     },
     "execution_count": 60,
     "metadata": {},
     "output_type": "execute_result"
    }
   ],
   "source": [
    "# show the 5 longest post titles by word count\n",
    "p_btc.sort_values(by='post_title_wcount', ascending=False)[['post_title', 'post_title_wcount']].head()"
   ]
  },
  {
   "cell_type": "code",
   "execution_count": 61,
   "metadata": {},
   "outputs": [
    {
     "data": {
      "text/html": [
       "<div>\n",
       "<style scoped>\n",
       "    .dataframe tbody tr th:only-of-type {\n",
       "        vertical-align: middle;\n",
       "    }\n",
       "\n",
       "    .dataframe tbody tr th {\n",
       "        vertical-align: top;\n",
       "    }\n",
       "\n",
       "    .dataframe thead th {\n",
       "        text-align: right;\n",
       "    }\n",
       "</style>\n",
       "<table border=\"1\" class=\"dataframe\">\n",
       "  <thead>\n",
       "    <tr style=\"text-align: right;\">\n",
       "      <th></th>\n",
       "      <th>post_title</th>\n",
       "      <th>post_title_wcount</th>\n",
       "    </tr>\n",
       "  </thead>\n",
       "  <tbody>\n",
       "    <tr>\n",
       "      <th>407</th>\n",
       "      <td>nft</td>\n",
       "      <td>1</td>\n",
       "    </tr>\n",
       "    <tr>\n",
       "      <th>274</th>\n",
       "      <td>months</td>\n",
       "      <td>1</td>\n",
       "    </tr>\n",
       "    <tr>\n",
       "      <th>76</th>\n",
       "      <td>bitpay</td>\n",
       "      <td>1</td>\n",
       "    </tr>\n",
       "    <tr>\n",
       "      <th>786</th>\n",
       "      <td>bit</td>\n",
       "      <td>1</td>\n",
       "    </tr>\n",
       "    <tr>\n",
       "      <th>1247</th>\n",
       "      <td>cyberattack</td>\n",
       "      <td>1</td>\n",
       "    </tr>\n",
       "  </tbody>\n",
       "</table>\n",
       "</div>"
      ],
      "text/plain": [
       "        post_title  post_title_wcount\n",
       "407            nft                  1\n",
       "274     months                      1\n",
       "76          bitpay                  1\n",
       "786            bit                  1\n",
       "1247   cyberattack                  1"
      ]
     },
     "execution_count": 61,
     "metadata": {},
     "output_type": "execute_result"
    }
   ],
   "source": [
    "# show the 5 shortest post titles by word count\n",
    "p_btc.sort_values(by='post_title_wcount', ascending=True)[['post_title', 'post_title_wcount']].head()"
   ]
  },
  {
   "cell_type": "code",
   "execution_count": 62,
   "metadata": {},
   "outputs": [
    {
     "data": {
      "text/html": [
       "<div>\n",
       "<style scoped>\n",
       "    .dataframe tbody tr th:only-of-type {\n",
       "        vertical-align: middle;\n",
       "    }\n",
       "\n",
       "    .dataframe tbody tr th {\n",
       "        vertical-align: top;\n",
       "    }\n",
       "\n",
       "    .dataframe thead th {\n",
       "        text-align: right;\n",
       "    }\n",
       "</style>\n",
       "<table border=\"1\" class=\"dataframe\">\n",
       "  <thead>\n",
       "    <tr style=\"text-align: right;\">\n",
       "      <th></th>\n",
       "      <th>post_content</th>\n",
       "      <th>post_content_clength</th>\n",
       "    </tr>\n",
       "  </thead>\n",
       "  <tbody>\n",
       "    <tr>\n",
       "      <th>527</th>\n",
       "      <td>currently the use   bitcoin has spread worldwide and   can   said that   every country   the ...</td>\n",
       "      <td>19373</td>\n",
       "    </tr>\n",
       "    <tr>\n",
       "      <th>488</th>\n",
       "      <td>after being   bitcoin since 2013   decided   start   youtube channel   english   educate people ...</td>\n",
       "      <td>10971</td>\n",
       "    </tr>\n",
       "    <tr>\n",
       "      <th>894</th>\n",
       "      <td>all   goal     ruin scammers fraud activities that affecting   freelancers and making our prof...</td>\n",
       "      <td>7448</td>\n",
       "    </tr>\n",
       "    <tr>\n",
       "      <th>1056</th>\n",
       "      <td>there are   lot   young people   this subreddit becoming financially literate for the first time...</td>\n",
       "      <td>6568</td>\n",
       "    </tr>\n",
       "    <tr>\n",
       "      <th>33</th>\n",
       "      <td>during these times   see   lot   fud around and newbies are converting their sats back into usd ...</td>\n",
       "      <td>6198</td>\n",
       "    </tr>\n",
       "  </tbody>\n",
       "</table>\n",
       "</div>"
      ],
      "text/plain": [
       "                                                                                             post_content  \\\n",
       "527      currently the use   bitcoin has spread worldwide and   can   said that   every country   the ...   \n",
       "488   after being   bitcoin since 2013   decided   start   youtube channel   english   educate people ...   \n",
       "894     all   goal     ruin scammers fraud activities that affecting   freelancers and making our prof...   \n",
       "1056  there are   lot   young people   this subreddit becoming financially literate for the first time...   \n",
       "33    during these times   see   lot   fud around and newbies are converting their sats back into usd ...   \n",
       "\n",
       "      post_content_clength  \n",
       "527                  19373  \n",
       "488                  10971  \n",
       "894                   7448  \n",
       "1056                  6568  \n",
       "33                    6198  "
      ]
     },
     "execution_count": 62,
     "metadata": {},
     "output_type": "execute_result"
    }
   ],
   "source": [
    "# show the 5 longest post content by character length\n",
    "p_btc.sort_values(by='post_content_clength', ascending=False)[['post_content', 'post_content_clength']].head()"
   ]
  },
  {
   "cell_type": "code",
   "execution_count": 63,
   "metadata": {},
   "outputs": [
    {
     "data": {
      "text/html": [
       "<div>\n",
       "<style scoped>\n",
       "    .dataframe tbody tr th:only-of-type {\n",
       "        vertical-align: middle;\n",
       "    }\n",
       "\n",
       "    .dataframe tbody tr th {\n",
       "        vertical-align: top;\n",
       "    }\n",
       "\n",
       "    .dataframe thead th {\n",
       "        text-align: right;\n",
       "    }\n",
       "</style>\n",
       "<table border=\"1\" class=\"dataframe\">\n",
       "  <thead>\n",
       "    <tr style=\"text-align: right;\">\n",
       "      <th></th>\n",
       "      <th>post_content</th>\n",
       "      <th>post_content_clength</th>\n",
       "    </tr>\n",
       "  </thead>\n",
       "  <tbody>\n",
       "    <tr>\n",
       "      <th>674</th>\n",
       "      <td>whatever</td>\n",
       "      <td>8</td>\n",
       "    </tr>\n",
       "    <tr>\n",
       "      <th>157</th>\n",
       "      <td>buying</td>\n",
       "      <td>9</td>\n",
       "    </tr>\n",
       "    <tr>\n",
       "      <th>934</th>\n",
       "      <td>check out</td>\n",
       "      <td>11</td>\n",
       "    </tr>\n",
       "    <tr>\n",
       "      <th>1513</th>\n",
       "      <td>just</td>\n",
       "      <td>12</td>\n",
       "    </tr>\n",
       "    <tr>\n",
       "      <th>932</th>\n",
       "      <td>buy safemoon</td>\n",
       "      <td>12</td>\n",
       "    </tr>\n",
       "  </tbody>\n",
       "</table>\n",
       "</div>"
      ],
      "text/plain": [
       "      post_content  post_content_clength\n",
       "674       whatever                     8\n",
       "157         buying                     9\n",
       "934    check out                      11\n",
       "1513    just                          12\n",
       "932   buy safemoon                    12"
      ]
     },
     "execution_count": 63,
     "metadata": {},
     "output_type": "execute_result"
    }
   ],
   "source": [
    "# show the 5 shortest post content by character length\n",
    "p_btc.sort_values(by='post_content_clength', ascending=True)[['post_content', 'post_content_clength']].head()"
   ]
  },
  {
   "cell_type": "code",
   "execution_count": 64,
   "metadata": {},
   "outputs": [
    {
     "data": {
      "text/html": [
       "<div>\n",
       "<style scoped>\n",
       "    .dataframe tbody tr th:only-of-type {\n",
       "        vertical-align: middle;\n",
       "    }\n",
       "\n",
       "    .dataframe tbody tr th {\n",
       "        vertical-align: top;\n",
       "    }\n",
       "\n",
       "    .dataframe thead th {\n",
       "        text-align: right;\n",
       "    }\n",
       "</style>\n",
       "<table border=\"1\" class=\"dataframe\">\n",
       "  <thead>\n",
       "    <tr style=\"text-align: right;\">\n",
       "      <th></th>\n",
       "      <th>post_content</th>\n",
       "      <th>post_content_wcount</th>\n",
       "    </tr>\n",
       "  </thead>\n",
       "  <tbody>\n",
       "    <tr>\n",
       "      <th>527</th>\n",
       "      <td>currently the use   bitcoin has spread worldwide and   can   said that   every country   the ...</td>\n",
       "      <td>2680</td>\n",
       "    </tr>\n",
       "    <tr>\n",
       "      <th>488</th>\n",
       "      <td>after being   bitcoin since 2013   decided   start   youtube channel   english   educate people ...</td>\n",
       "      <td>1621</td>\n",
       "    </tr>\n",
       "    <tr>\n",
       "      <th>894</th>\n",
       "      <td>all   goal     ruin scammers fraud activities that affecting   freelancers and making our prof...</td>\n",
       "      <td>1071</td>\n",
       "    </tr>\n",
       "    <tr>\n",
       "      <th>1056</th>\n",
       "      <td>there are   lot   young people   this subreddit becoming financially literate for the first time...</td>\n",
       "      <td>983</td>\n",
       "    </tr>\n",
       "    <tr>\n",
       "      <th>33</th>\n",
       "      <td>during these times   see   lot   fud around and newbies are converting their sats back into usd ...</td>\n",
       "      <td>912</td>\n",
       "    </tr>\n",
       "  </tbody>\n",
       "</table>\n",
       "</div>"
      ],
      "text/plain": [
       "                                                                                             post_content  \\\n",
       "527      currently the use   bitcoin has spread worldwide and   can   said that   every country   the ...   \n",
       "488   after being   bitcoin since 2013   decided   start   youtube channel   english   educate people ...   \n",
       "894     all   goal     ruin scammers fraud activities that affecting   freelancers and making our prof...   \n",
       "1056  there are   lot   young people   this subreddit becoming financially literate for the first time...   \n",
       "33    during these times   see   lot   fud around and newbies are converting their sats back into usd ...   \n",
       "\n",
       "      post_content_wcount  \n",
       "527                  2680  \n",
       "488                  1621  \n",
       "894                  1071  \n",
       "1056                  983  \n",
       "33                    912  "
      ]
     },
     "execution_count": 64,
     "metadata": {},
     "output_type": "execute_result"
    }
   ],
   "source": [
    "# show the 5 longest post content by word count\n",
    "p_btc.sort_values(by='post_content_wcount', ascending=False)[['post_content', 'post_content_wcount']].head()"
   ]
  },
  {
   "cell_type": "code",
   "execution_count": 65,
   "metadata": {},
   "outputs": [
    {
     "data": {
      "text/html": [
       "<div>\n",
       "<style scoped>\n",
       "    .dataframe tbody tr th:only-of-type {\n",
       "        vertical-align: middle;\n",
       "    }\n",
       "\n",
       "    .dataframe tbody tr th {\n",
       "        vertical-align: top;\n",
       "    }\n",
       "\n",
       "    .dataframe thead th {\n",
       "        text-align: right;\n",
       "    }\n",
       "</style>\n",
       "<table border=\"1\" class=\"dataframe\">\n",
       "  <thead>\n",
       "    <tr style=\"text-align: right;\">\n",
       "      <th></th>\n",
       "      <th>post_content</th>\n",
       "      <th>post_content_wcount</th>\n",
       "    </tr>\n",
       "  </thead>\n",
       "  <tbody>\n",
       "    <tr>\n",
       "      <th>505</th>\n",
       "      <td>bc1qzx6p36n4z6fpn67f4nj05zcpkk4h4ajppum0dk</td>\n",
       "      <td>1</td>\n",
       "    </tr>\n",
       "    <tr>\n",
       "      <th>1513</th>\n",
       "      <td>just</td>\n",
       "      <td>1</td>\n",
       "    </tr>\n",
       "    <tr>\n",
       "      <th>674</th>\n",
       "      <td>whatever</td>\n",
       "      <td>1</td>\n",
       "    </tr>\n",
       "    <tr>\n",
       "      <th>368</th>\n",
       "      <td>aaaaaarrrrrrrggggghhhhhhhh</td>\n",
       "      <td>1</td>\n",
       "    </tr>\n",
       "    <tr>\n",
       "      <th>117</th>\n",
       "      <td>bitcoinbc1qnycyaqheqw3hflze5qx0uagfkajaynzhpjqjxm</td>\n",
       "      <td>1</td>\n",
       "    </tr>\n",
       "  </tbody>\n",
       "</table>\n",
       "</div>"
      ],
      "text/plain": [
       "                                           post_content  post_content_wcount\n",
       "505          bc1qzx6p36n4z6fpn67f4nj05zcpkk4h4ajppum0dk                    1\n",
       "1513                                         just                          1\n",
       "674                                            whatever                    1\n",
       "368                          aaaaaarrrrrrrggggghhhhhhhh                    1\n",
       "117   bitcoinbc1qnycyaqheqw3hflze5qx0uagfkajaynzhpjqjxm                    1"
      ]
     },
     "execution_count": 65,
     "metadata": {},
     "output_type": "execute_result"
    }
   ],
   "source": [
    "# show the 5 shortest post content by word count\n",
    "p_btc.sort_values(by='post_content_wcount', ascending=True)[['post_content', 'post_content_wcount']].head()"
   ]
  },
  {
   "cell_type": "markdown",
   "metadata": {},
   "source": [
    "#### Explore Ethereum Posts DataFrame"
   ]
  },
  {
   "cell_type": "code",
   "execution_count": 66,
   "metadata": {
    "scrolled": true
   },
   "outputs": [
    {
     "data": {
      "text/html": [
       "<div>\n",
       "<style scoped>\n",
       "    .dataframe tbody tr th:only-of-type {\n",
       "        vertical-align: middle;\n",
       "    }\n",
       "\n",
       "    .dataframe tbody tr th {\n",
       "        vertical-align: top;\n",
       "    }\n",
       "\n",
       "    .dataframe thead th {\n",
       "        text-align: right;\n",
       "    }\n",
       "</style>\n",
       "<table border=\"1\" class=\"dataframe\">\n",
       "  <thead>\n",
       "    <tr style=\"text-align: right;\">\n",
       "      <th></th>\n",
       "      <th>subreddit</th>\n",
       "      <th>post_title</th>\n",
       "      <th>post_content</th>\n",
       "    </tr>\n",
       "  </thead>\n",
       "  <tbody>\n",
       "    <tr>\n",
       "      <th>count</th>\n",
       "      <td>1150</td>\n",
       "      <td>1150</td>\n",
       "      <td>1150</td>\n",
       "    </tr>\n",
       "    <tr>\n",
       "      <th>unique</th>\n",
       "      <td>1</td>\n",
       "      <td>1135</td>\n",
       "      <td>1097</td>\n",
       "    </tr>\n",
       "    <tr>\n",
       "      <th>top</th>\n",
       "      <td>ethereum</td>\n",
       "      <td>ethereum cat herders update</td>\n",
       "      <td>view poll</td>\n",
       "    </tr>\n",
       "    <tr>\n",
       "      <th>freq</th>\n",
       "      <td>1150</td>\n",
       "      <td>4</td>\n",
       "      <td>41</td>\n",
       "    </tr>\n",
       "  </tbody>\n",
       "</table>\n",
       "</div>"
      ],
      "text/plain": [
       "       subreddit                     post_title  post_content\n",
       "count       1150                           1150          1150\n",
       "unique         1                           1135          1097\n",
       "top     ethereum  ethereum cat herders update      view poll \n",
       "freq        1150                              4            41"
      ]
     },
     "execution_count": 66,
     "metadata": {},
     "output_type": "execute_result"
    }
   ],
   "source": [
    "# get descriptive statistics of existing columns\n",
    "p_eth.describe()"
   ]
  },
  {
   "cell_type": "code",
   "execution_count": 67,
   "metadata": {},
   "outputs": [
    {
     "data": {
      "text/html": [
       "<div>\n",
       "<style scoped>\n",
       "    .dataframe tbody tr th:only-of-type {\n",
       "        vertical-align: middle;\n",
       "    }\n",
       "\n",
       "    .dataframe tbody tr th {\n",
       "        vertical-align: top;\n",
       "    }\n",
       "\n",
       "    .dataframe thead th {\n",
       "        text-align: right;\n",
       "    }\n",
       "</style>\n",
       "<table border=\"1\" class=\"dataframe\">\n",
       "  <thead>\n",
       "    <tr style=\"text-align: right;\">\n",
       "      <th></th>\n",
       "      <th>post_title</th>\n",
       "    </tr>\n",
       "  </thead>\n",
       "  <tbody>\n",
       "    <tr>\n",
       "      <th>ethereum cat herders update</th>\n",
       "      <td>4</td>\n",
       "    </tr>\n",
       "    <tr>\n",
       "      <th>help</th>\n",
       "      <td>4</td>\n",
       "    </tr>\n",
       "    <tr>\n",
       "      <th>the hatred   elon musk knows   bounds</th>\n",
       "      <td>3</td>\n",
       "    </tr>\n",
       "    <tr>\n",
       "      <th>daily discussion thread</th>\n",
       "      <td>2</td>\n",
       "    </tr>\n",
       "    <tr>\n",
       "      <th>staking   coinbase</th>\n",
       "      <td>2</td>\n",
       "    </tr>\n",
       "    <tr>\n",
       "      <th>unedited uncensored thoughts about ethereum cardano tezos formal proofs and functional programming being   gimmick</th>\n",
       "      <td>2</td>\n",
       "    </tr>\n",
       "    <tr>\n",
       "      <th>safe wallet for staking</th>\n",
       "      <td>2</td>\n",
       "    </tr>\n",
       "    <tr>\n",
       "      <th>staking ethereum</th>\n",
       "      <td>2</td>\n",
       "    </tr>\n",
       "    <tr>\n",
       "      <th>staking</th>\n",
       "      <td>2</td>\n",
       "    </tr>\n",
       "    <tr>\n",
       "      <th>swirlwallet accepting eth</th>\n",
       "      <td>2</td>\n",
       "    </tr>\n",
       "  </tbody>\n",
       "</table>\n",
       "</div>"
      ],
      "text/plain": [
       "                                                                                                      post_title\n",
       "ethereum cat herders update                                                                                    4\n",
       "help                                                                                                           4\n",
       "the hatred   elon musk knows   bounds                                                                          3\n",
       "daily discussion thread                                                                                        2\n",
       "staking   coinbase                                                                                             2\n",
       "  unedited uncensored thoughts about ethereum cardano tezos formal proofs and functional programm...           2\n",
       "safe wallet for staking                                                                                        2\n",
       "staking ethereum                                                                                               2\n",
       "staking                                                                                                        2\n",
       "swirlwallet accepting eth                                                                                      2"
      ]
     },
     "execution_count": 67,
     "metadata": {},
     "output_type": "execute_result"
    }
   ],
   "source": [
    "# show the 10 most common values in the post_title column\n",
    "p_eth['post_title'].value_counts(ascending=False).to_frame().head(10)"
   ]
  },
  {
   "cell_type": "code",
   "execution_count": 68,
   "metadata": {
    "scrolled": false
   },
   "outputs": [
    {
     "data": {
      "text/html": [
       "<div>\n",
       "<style scoped>\n",
       "    .dataframe tbody tr th:only-of-type {\n",
       "        vertical-align: middle;\n",
       "    }\n",
       "\n",
       "    .dataframe tbody tr th {\n",
       "        vertical-align: top;\n",
       "    }\n",
       "\n",
       "    .dataframe thead th {\n",
       "        text-align: right;\n",
       "    }\n",
       "</style>\n",
       "<table border=\"1\" class=\"dataframe\">\n",
       "  <thead>\n",
       "    <tr style=\"text-align: right;\">\n",
       "      <th></th>\n",
       "      <th>post_content</th>\n",
       "    </tr>\n",
       "  </thead>\n",
       "  <tbody>\n",
       "    <tr>\n",
       "      <th>view poll</th>\n",
       "      <td>41</td>\n",
       "    </tr>\n",
       "    <tr>\n",
       "      <th>view poll</th>\n",
       "      <td>8</td>\n",
       "    </tr>\n",
       "    <tr>\n",
       "      <th>the hatred   elon musk knows   bounds   guy was disappointed   elon musk and burned his poster</th>\n",
       "      <td>2</td>\n",
       "    </tr>\n",
       "    <tr>\n",
       "      <th>the problem   people follow elon musk like     the new jesus which   just stupid   has manipulated the crypto market and stock market for years with zero repercussions him and his cult followers should just take   spaceship   mars and  off</th>\n",
       "      <td>2</td>\n",
       "    </tr>\n",
       "    <tr>\n",
       "      <th>fucking wimps mate  ’  down   thousand dollars today and   don’  give   fuck but then   see some   you people saying  ’  the ‘most stressful time   your life’ because you lost 200   some   you people live     dumpster   something wtf are you sooking about   you too emotionally fragile   worry about   few hundred dollars why the fuck are you trading crypto pathetic</th>\n",
       "      <td>2</td>\n",
       "    </tr>\n",
       "    <tr>\n",
       "      <th>dragonbite  turn your idle reward points into cryptocurrency     everyone knows that loyalty programs help attract more customers   the store that   why they are   popular they help   shop   increase its revenue   the same time loyalty programs are profitable   customers   they help   significantly save money    all stores have their own loyalty programs there     unified system   loyalty programs different stores are not interconnected     impossible   send the unused points   other users inside the loyalty program   one shop     customers often   not have enough accumulated points   buy the necessary goods they can  buy missing points   sell extra points all received points are often lost because they burn   over time and the person does not have time   use them   acommulate them     dragonbite was created   solve all these problems dragonbite     platform that allows people   combine store and swap loyalty programs   one platform you will never lose your accumulated points under the loyalty program     particular store      you don  need the points you have you can sell them   you need more points   pay for the product you are interested   you can buy points from those who have extra ones   exchange them for points from another shop you will never lose your loyalty points with dragonbite    dragonbite     truly open decentralized asset management platform for loyalty programs   various stores   one app with one password    dragonbite  vision     disrupt the loyalty market with innovative business models and technologies you will   longer lose your points thanks   dragonbite   became possible   buy sell and exchange loyalty points    ✅ since 2018  dragonbite has been working     loyalty program ✅ around  000 merchants  have joined the platform ✅   people use the platform      huge user base and   large number   partner stores allow     unite the most profitable loyalty programs   one place and provide our users the best conditions significantly reducing their costs with our experience and user and merchant customer base   are ready   solve all problems   loyalty programs     our advantages    ✅    digital wallet   one app with one password dragonbite     digital wallet   safely store several kinds   digital assets including cryptocurrencies  game assets air mileages loyalty points  vouchers  coupons and gift cards   one application with one password       fully integrated and decentralised financial services system which   designed for digital assets management    ✅   loyalty worth   fortune         companies have some sort   loyalty programs   fact the redemption rate   loyalty programs   just   most people   not know the value   their loyalty points users   the platform will   able   spend their unused points   prepay dragonbite cards for daily consumption   real life customers can spend their expiring points   buy bitcoin   other cryptocurrency    ✅ turn your loyalty points into cryptocurrency      you have loyalty points expire soon     small number   air mileage   any old  game asset you can convert those digital assets into bitcoin with   very reasonable transaction fee dragonbite wallet   directly connected with cryptocurrency exchange via   licensed gateway     compliant with compliance rules such   the general data protection regulation gdpr   the personal data privacy ordinance pdpo the antimoneylaundering aml standard and the knowyourclient kyc standard     ✅ dragonbite   technology advances    dragonbite   directly connected with crypto exchange via   licensed payment gateway     powered     hybrid   architecture that   partly  chain and partly offblockchain bite point   our universal loyalty token acting     medium   exchange among digital assets     pegged      the    dollar dragonbite will deploy nonfungible token nft   handle rare assets    ✅ travel even more with dragonbite    everyone has been staying   home since early 2020 and their air miles are expiring dragonbite offers   new method   spend air miles  with dragonbite you will   able   convert your mileage   any other loyalty coupon    sell   and invest into bitcoin   other cryptocurrencies                                                                            repost  ✅  website                                                                             tokenomics token symbol bite token usage token can   used   the ecosystem total supply   tokens  000000000 bite token distribution ✅    ecosystemstaking reward ✅   partners ✅   promotion ✅   referring  ✅   reserve ✅   private sale ✅   public sale ✅    team and advisers</th>\n",
       "      <td>2</td>\n",
       "    </tr>\n",
       "    <tr>\n",
       "      <th>hello ethereum community   interested into eth since   long time specially after pos switch   the future because   against mining concepts can somebody please eli5   which problem eth solves besides transfer   value   self usecases inside the ethereum network</th>\n",
       "      <td>2</td>\n",
       "    </tr>\n",
       "    <tr>\n",
       "      <th>just need   credible one the binance wallet    heard   scamming people and anything other than that idk   couldn  find   eth wallet either maybe   should wait for coinbase</th>\n",
       "      <td>2</td>\n",
       "    </tr>\n",
       "    <tr>\n",
       "      <th>got roughly   eth          debating whether   should sell now   not   will need the money   year end here are   rough calculations   what   predictions for the max drawdown can   based   bitcoin  last bull cycle since   had   similar market cap   ethereum   the time   bitcoin max price 2017  783  december  bitcoin market cap 2017 330 billion  bitcoin lowest price 2020 covid dump 3191 bitcoin market cap 2020 covid dump    billion  lowest pricehighest price last bull market cycle percentage     ethereum max price 2021 4370 ethereum max market cap 505 billion  ethereum max market cap   2021bitcoin max marketcap   2017 bull run   53x  prediction for lowest price     enter   bear market  max drawdown     percentage  lowest pricehighest price last bull market cycle percentage  ethereum max market cap   2021bitcoin max marketcap   2017 bull run          633  633  ethereum max price   2021 4370  1076 thoughts</th>\n",
       "      <td>1</td>\n",
       "    </tr>\n",
       "    <tr>\n",
       "      <th>all</th>\n",
       "      <td>1</td>\n",
       "    </tr>\n",
       "  </tbody>\n",
       "</table>\n",
       "</div>"
      ],
      "text/plain": [
       "                                                                                                      post_content\n",
       "  view poll                                                                                                     41\n",
       " view poll                                                                                                       8\n",
       "the hatred   elon musk knows   bounds   guy was disappointed   elon musk and burned his poster                   2\n",
       "the problem   people follow elon musk like     the new jesus which   just stupid   has manipulate...             2\n",
       "fucking wimps mate  ’  down   thousand dollars today and   don’  give   fuck but then   see some ...             2\n",
       "dragonbite  turn your idle reward points into cryptocurrency     everyone knows that loyalty prog...             2\n",
       "hello ethereum community   interested into eth since   long time specially after pos switch   the...             2\n",
       "just need   credible one the binance wallet    heard   scamming people and anything other than th...             2\n",
       "got roughly   eth          debating whether   should sell now   not   will need the money   year ...             1\n",
       "  all                                                                                                            1"
      ]
     },
     "execution_count": 68,
     "metadata": {},
     "output_type": "execute_result"
    }
   ],
   "source": [
    "# show the 10 most common values in the post_content column\n",
    "p_eth['post_content'].value_counts(ascending=False).to_frame().head(10)"
   ]
  },
  {
   "cell_type": "code",
   "execution_count": 69,
   "metadata": {},
   "outputs": [
    {
     "data": {
      "text/html": [
       "<div>\n",
       "<style scoped>\n",
       "    .dataframe tbody tr th:only-of-type {\n",
       "        vertical-align: middle;\n",
       "    }\n",
       "\n",
       "    .dataframe tbody tr th {\n",
       "        vertical-align: top;\n",
       "    }\n",
       "\n",
       "    .dataframe thead th {\n",
       "        text-align: right;\n",
       "    }\n",
       "</style>\n",
       "<table border=\"1\" class=\"dataframe\">\n",
       "  <thead>\n",
       "    <tr style=\"text-align: right;\">\n",
       "      <th></th>\n",
       "      <th>subreddit</th>\n",
       "      <th>post_title</th>\n",
       "      <th>post_content</th>\n",
       "      <th>post_title_clength</th>\n",
       "      <th>post_title_wcount</th>\n",
       "      <th>post_content_clength</th>\n",
       "      <th>post_content_wcount</th>\n",
       "    </tr>\n",
       "  </thead>\n",
       "  <tbody>\n",
       "    <tr>\n",
       "      <th>0</th>\n",
       "      <td>ethereum</td>\n",
       "      <td>should   sell bitcoin and just   all   ethereum</td>\n",
       "      <td>have like    invested total   bitcoin and after the crash   only have    gains     sold   65k...</td>\n",
       "      <td>47</td>\n",
       "      <td>7</td>\n",
       "      <td>1492</td>\n",
       "      <td>228</td>\n",
       "    </tr>\n",
       "    <tr>\n",
       "      <th>1</th>\n",
       "      <td>ethereum</td>\n",
       "      <td>will any blockchain   able   sustain low   fees   that   can become useful for everyday transact...</td>\n",
       "      <td>the case that   crypto currency whether eth ada algo dai etc were   gain   huge user base say ...</td>\n",
       "      <td>100</td>\n",
       "      <td>14</td>\n",
       "      <td>621</td>\n",
       "      <td>93</td>\n",
       "    </tr>\n",
       "    <tr>\n",
       "      <th>2</th>\n",
       "      <td>ethereum</td>\n",
       "      <td>ethereumdai lost need help</td>\n",
       "      <td>have   idea how   access the private key   account for    ethereum   sent   large sum   dai  ...</td>\n",
       "      <td>26</td>\n",
       "      <td>4</td>\n",
       "      <td>379</td>\n",
       "      <td>50</td>\n",
       "    </tr>\n",
       "    <tr>\n",
       "      <th>3</th>\n",
       "      <td>ethereum</td>\n",
       "      <td>ethereum reddit mods censoring the laurel  the volunteer platform</td>\n",
       "      <td>the laurel     platform for volunteers being built   volunteers  laurels are the first fungible ...</td>\n",
       "      <td>65</td>\n",
       "      <td>9</td>\n",
       "      <td>3143</td>\n",
       "      <td>420</td>\n",
       "    </tr>\n",
       "    <tr>\n",
       "      <th>4</th>\n",
       "      <td>ethereum</td>\n",
       "      <td>best ethereum stickers for telegram</td>\n",
       "      <td>couldn  find any cool ethereumvitalikrelated stickers for telegram   decided   make   own stic...</td>\n",
       "      <td>35</td>\n",
       "      <td>5</td>\n",
       "      <td>237</td>\n",
       "      <td>27</td>\n",
       "    </tr>\n",
       "  </tbody>\n",
       "</table>\n",
       "</div>"
      ],
      "text/plain": [
       "  subreddit  \\\n",
       "0  ethereum   \n",
       "1  ethereum   \n",
       "2  ethereum   \n",
       "3  ethereum   \n",
       "4  ethereum   \n",
       "\n",
       "                                                                                            post_title  \\\n",
       "0                                                      should   sell bitcoin and just   all   ethereum   \n",
       "1  will any blockchain   able   sustain low   fees   that   can become useful for everyday transact...   \n",
       "2                                                                           ethereumdai lost need help   \n",
       "3                                    ethereum reddit mods censoring the laurel  the volunteer platform   \n",
       "4                                                                  best ethereum stickers for telegram   \n",
       "\n",
       "                                                                                          post_content  \\\n",
       "0     have like    invested total   bitcoin and after the crash   only have    gains     sold   65k...   \n",
       "1    the case that   crypto currency whether eth ada algo dai etc were   gain   huge user base say ...   \n",
       "2     have   idea how   access the private key   account for    ethereum   sent   large sum   dai  ...   \n",
       "3  the laurel     platform for volunteers being built   volunteers  laurels are the first fungible ...   \n",
       "4    couldn  find any cool ethereumvitalikrelated stickers for telegram   decided   make   own stic...   \n",
       "\n",
       "   post_title_clength  post_title_wcount  post_content_clength  \\\n",
       "0                  47                  7                  1492   \n",
       "1                 100                 14                   621   \n",
       "2                  26                  4                   379   \n",
       "3                  65                  9                  3143   \n",
       "4                  35                  5                   237   \n",
       "\n",
       "   post_content_wcount  \n",
       "0                  228  \n",
       "1                   93  \n",
       "2                   50  \n",
       "3                  420  \n",
       "4                   27  "
      ]
     },
     "execution_count": 69,
     "metadata": {},
     "output_type": "execute_result"
    }
   ],
   "source": [
    "# the existing columns do not give us much information\n",
    "# let us engineer some new columns to get some insights\n",
    "\n",
    "# get character length of each post title into a new column\n",
    "p_eth['post_title_clength'] = p_eth['post_title'].apply(len)\n",
    "\n",
    "# get word count of each post title into a new column\n",
    "p_eth['post_title_wcount'] = p_eth['post_title'].apply(lambda x: len(x.split()))\n",
    "\n",
    "# get character length of each post content into a new column\n",
    "p_eth['post_content_clength'] = p_eth['post_content'].apply(len)\n",
    "\n",
    "# get word count of each post content into a new column\n",
    "p_eth['post_content_wcount'] = p_eth['post_content'].apply(lambda x: len(x.split()))\n",
    "\n",
    "# check out first 5 rows\n",
    "p_eth.head()"
   ]
  },
  {
   "cell_type": "code",
   "execution_count": 70,
   "metadata": {},
   "outputs": [
    {
     "data": {
      "text/html": [
       "<div>\n",
       "<style scoped>\n",
       "    .dataframe tbody tr th:only-of-type {\n",
       "        vertical-align: middle;\n",
       "    }\n",
       "\n",
       "    .dataframe tbody tr th {\n",
       "        vertical-align: top;\n",
       "    }\n",
       "\n",
       "    .dataframe thead th {\n",
       "        text-align: right;\n",
       "    }\n",
       "</style>\n",
       "<table border=\"1\" class=\"dataframe\">\n",
       "  <thead>\n",
       "    <tr style=\"text-align: right;\">\n",
       "      <th></th>\n",
       "      <th>post_title_clength</th>\n",
       "      <th>post_title_wcount</th>\n",
       "      <th>post_content_clength</th>\n",
       "      <th>post_content_wcount</th>\n",
       "    </tr>\n",
       "  </thead>\n",
       "  <tbody>\n",
       "    <tr>\n",
       "      <th>count</th>\n",
       "      <td>1150.000000</td>\n",
       "      <td>1150.000000</td>\n",
       "      <td>1150.000000</td>\n",
       "      <td>1150.000000</td>\n",
       "    </tr>\n",
       "    <tr>\n",
       "      <th>mean</th>\n",
       "      <td>44.604348</td>\n",
       "      <td>6.551304</td>\n",
       "      <td>558.322609</td>\n",
       "      <td>79.085217</td>\n",
       "    </tr>\n",
       "    <tr>\n",
       "      <th>std</th>\n",
       "      <td>31.391475</td>\n",
       "      <td>4.623179</td>\n",
       "      <td>1303.666585</td>\n",
       "      <td>183.473828</td>\n",
       "    </tr>\n",
       "    <tr>\n",
       "      <th>min</th>\n",
       "      <td>3.000000</td>\n",
       "      <td>1.000000</td>\n",
       "      <td>5.000000</td>\n",
       "      <td>1.000000</td>\n",
       "    </tr>\n",
       "    <tr>\n",
       "      <th>25%</th>\n",
       "      <td>24.000000</td>\n",
       "      <td>3.000000</td>\n",
       "      <td>153.000000</td>\n",
       "      <td>22.000000</td>\n",
       "    </tr>\n",
       "    <tr>\n",
       "      <th>50%</th>\n",
       "      <td>37.000000</td>\n",
       "      <td>5.000000</td>\n",
       "      <td>300.500000</td>\n",
       "      <td>43.000000</td>\n",
       "    </tr>\n",
       "    <tr>\n",
       "      <th>75%</th>\n",
       "      <td>57.750000</td>\n",
       "      <td>8.000000</td>\n",
       "      <td>563.000000</td>\n",
       "      <td>81.000000</td>\n",
       "    </tr>\n",
       "    <tr>\n",
       "      <th>max</th>\n",
       "      <td>275.000000</td>\n",
       "      <td>44.000000</td>\n",
       "      <td>28880.000000</td>\n",
       "      <td>4033.000000</td>\n",
       "    </tr>\n",
       "  </tbody>\n",
       "</table>\n",
       "</div>"
      ],
      "text/plain": [
       "       post_title_clength  post_title_wcount  post_content_clength  \\\n",
       "count         1150.000000        1150.000000           1150.000000   \n",
       "mean            44.604348           6.551304            558.322609   \n",
       "std             31.391475           4.623179           1303.666585   \n",
       "min              3.000000           1.000000              5.000000   \n",
       "25%             24.000000           3.000000            153.000000   \n",
       "50%             37.000000           5.000000            300.500000   \n",
       "75%             57.750000           8.000000            563.000000   \n",
       "max            275.000000          44.000000          28880.000000   \n",
       "\n",
       "       post_content_wcount  \n",
       "count          1150.000000  \n",
       "mean             79.085217  \n",
       "std             183.473828  \n",
       "min               1.000000  \n",
       "25%              22.000000  \n",
       "50%              43.000000  \n",
       "75%              81.000000  \n",
       "max            4033.000000  "
      ]
     },
     "execution_count": 70,
     "metadata": {},
     "output_type": "execute_result"
    }
   ],
   "source": [
    "# get descriptive statistics of new columns\n",
    "p_eth.describe()"
   ]
  },
  {
   "cell_type": "code",
   "execution_count": 71,
   "metadata": {},
   "outputs": [
    {
     "data": {
      "text/html": [
       "<div>\n",
       "<style scoped>\n",
       "    .dataframe tbody tr th:only-of-type {\n",
       "        vertical-align: middle;\n",
       "    }\n",
       "\n",
       "    .dataframe tbody tr th {\n",
       "        vertical-align: top;\n",
       "    }\n",
       "\n",
       "    .dataframe thead th {\n",
       "        text-align: right;\n",
       "    }\n",
       "</style>\n",
       "<table border=\"1\" class=\"dataframe\">\n",
       "  <thead>\n",
       "    <tr style=\"text-align: right;\">\n",
       "      <th></th>\n",
       "      <th>post_title</th>\n",
       "      <th>post_title_clength</th>\n",
       "    </tr>\n",
       "  </thead>\n",
       "  <tbody>\n",
       "    <tr>\n",
       "      <th>1032</th>\n",
       "      <td>noob question does eth actually live     the fundamental definition     decentralized currency  ...</td>\n",
       "      <td>275</td>\n",
       "    </tr>\n",
       "    <tr>\n",
       "      <th>951</th>\n",
       "      <td>all think this rug pull ether war   helping the demise   eth   all the   news   the last few ho...</td>\n",
       "      <td>269</td>\n",
       "    </tr>\n",
       "    <tr>\n",
       "      <th>880</th>\n",
       "      <td>new miner presented with   opportunity   acquire   miner with these specs good deal   not     nv...</td>\n",
       "      <td>267</td>\n",
       "    </tr>\n",
       "    <tr>\n",
       "      <th>176</th>\n",
       "      <td>still new listed below     ethereum account address   there   way   change   get   new one  ...</td>\n",
       "      <td>221</td>\n",
       "    </tr>\n",
       "    <tr>\n",
       "      <th>511</th>\n",
       "      <td>sticky says   eth will automatically become eth2    read elsewhere that you have   convert   the...</td>\n",
       "      <td>194</td>\n",
       "    </tr>\n",
       "  </tbody>\n",
       "</table>\n",
       "</div>"
      ],
      "text/plain": [
       "                                                                                               post_title  \\\n",
       "1032  noob question does eth actually live     the fundamental definition     decentralized currency  ...   \n",
       "951    all think this rug pull ether war   helping the demise   eth   all the   news   the last few ho...   \n",
       "880   new miner presented with   opportunity   acquire   miner with these specs good deal   not     nv...   \n",
       "176       still new listed below     ethereum account address   there   way   change   get   new one  ...   \n",
       "511   sticky says   eth will automatically become eth2    read elsewhere that you have   convert   the...   \n",
       "\n",
       "      post_title_clength  \n",
       "1032                 275  \n",
       "951                  269  \n",
       "880                  267  \n",
       "176                  221  \n",
       "511                  194  "
      ]
     },
     "execution_count": 71,
     "metadata": {},
     "output_type": "execute_result"
    }
   ],
   "source": [
    "# show the 5 longest post titles by character length\n",
    "p_eth.sort_values(by='post_title_clength', ascending=False)[['post_title', 'post_title_clength']].head()"
   ]
  },
  {
   "cell_type": "code",
   "execution_count": 72,
   "metadata": {},
   "outputs": [
    {
     "data": {
      "text/html": [
       "<div>\n",
       "<style scoped>\n",
       "    .dataframe tbody tr th:only-of-type {\n",
       "        vertical-align: middle;\n",
       "    }\n",
       "\n",
       "    .dataframe tbody tr th {\n",
       "        vertical-align: top;\n",
       "    }\n",
       "\n",
       "    .dataframe thead th {\n",
       "        text-align: right;\n",
       "    }\n",
       "</style>\n",
       "<table border=\"1\" class=\"dataframe\">\n",
       "  <thead>\n",
       "    <tr style=\"text-align: right;\">\n",
       "      <th></th>\n",
       "      <th>post_title</th>\n",
       "      <th>post_title_clength</th>\n",
       "    </tr>\n",
       "  </thead>\n",
       "  <tbody>\n",
       "    <tr>\n",
       "      <th>921</th>\n",
       "      <td>eth</td>\n",
       "      <td>3</td>\n",
       "    </tr>\n",
       "    <tr>\n",
       "      <th>89</th>\n",
       "      <td>wife</td>\n",
       "      <td>4</td>\n",
       "    </tr>\n",
       "    <tr>\n",
       "      <th>890</th>\n",
       "      <td>beth</td>\n",
       "      <td>4</td>\n",
       "    </tr>\n",
       "    <tr>\n",
       "      <th>368</th>\n",
       "      <td>help</td>\n",
       "      <td>4</td>\n",
       "    </tr>\n",
       "    <tr>\n",
       "      <th>667</th>\n",
       "      <td>help</td>\n",
       "      <td>4</td>\n",
       "    </tr>\n",
       "  </tbody>\n",
       "</table>\n",
       "</div>"
      ],
      "text/plain": [
       "    post_title  post_title_clength\n",
       "921        eth                   3\n",
       "89        wife                   4\n",
       "890       beth                   4\n",
       "368       help                   4\n",
       "667       help                   4"
      ]
     },
     "execution_count": 72,
     "metadata": {},
     "output_type": "execute_result"
    }
   ],
   "source": [
    "# show the 5 shortest post titles by character length\n",
    "p_eth.sort_values(by='post_title_clength', ascending=True)[['post_title', 'post_title_clength']].head()"
   ]
  },
  {
   "cell_type": "code",
   "execution_count": 73,
   "metadata": {},
   "outputs": [
    {
     "data": {
      "text/html": [
       "<div>\n",
       "<style scoped>\n",
       "    .dataframe tbody tr th:only-of-type {\n",
       "        vertical-align: middle;\n",
       "    }\n",
       "\n",
       "    .dataframe tbody tr th {\n",
       "        vertical-align: top;\n",
       "    }\n",
       "\n",
       "    .dataframe thead th {\n",
       "        text-align: right;\n",
       "    }\n",
       "</style>\n",
       "<table border=\"1\" class=\"dataframe\">\n",
       "  <thead>\n",
       "    <tr style=\"text-align: right;\">\n",
       "      <th></th>\n",
       "      <th>post_title</th>\n",
       "      <th>post_title_wcount</th>\n",
       "    </tr>\n",
       "  </thead>\n",
       "  <tbody>\n",
       "    <tr>\n",
       "      <th>951</th>\n",
       "      <td>all think this rug pull ether war   helping the demise   eth   all the   news   the last few ho...</td>\n",
       "      <td>44</td>\n",
       "    </tr>\n",
       "    <tr>\n",
       "      <th>1032</th>\n",
       "      <td>noob question does eth actually live     the fundamental definition     decentralized currency  ...</td>\n",
       "      <td>40</td>\n",
       "    </tr>\n",
       "    <tr>\n",
       "      <th>880</th>\n",
       "      <td>new miner presented with   opportunity   acquire   miner with these specs good deal   not     nv...</td>\n",
       "      <td>40</td>\n",
       "    </tr>\n",
       "    <tr>\n",
       "      <th>176</th>\n",
       "      <td>still new listed below     ethereum account address   there   way   change   get   new one  ...</td>\n",
       "      <td>33</td>\n",
       "    </tr>\n",
       "    <tr>\n",
       "      <th>628</th>\n",
       "      <td>how are eth core devs paid   they are paid regularly   time passed then the incentive structures...</td>\n",
       "      <td>29</td>\n",
       "    </tr>\n",
       "  </tbody>\n",
       "</table>\n",
       "</div>"
      ],
      "text/plain": [
       "                                                                                               post_title  \\\n",
       "951    all think this rug pull ether war   helping the demise   eth   all the   news   the last few ho...   \n",
       "1032  noob question does eth actually live     the fundamental definition     decentralized currency  ...   \n",
       "880   new miner presented with   opportunity   acquire   miner with these specs good deal   not     nv...   \n",
       "176       still new listed below     ethereum account address   there   way   change   get   new one  ...   \n",
       "628   how are eth core devs paid   they are paid regularly   time passed then the incentive structures...   \n",
       "\n",
       "      post_title_wcount  \n",
       "951                  44  \n",
       "1032                 40  \n",
       "880                  40  \n",
       "176                  33  \n",
       "628                  29  "
      ]
     },
     "execution_count": 73,
     "metadata": {},
     "output_type": "execute_result"
    }
   ],
   "source": [
    "# show the 5 longest post titles by word count\n",
    "p_eth.sort_values(by='post_title_wcount', ascending=False)[['post_title', 'post_title_wcount']].head()"
   ]
  },
  {
   "cell_type": "code",
   "execution_count": 74,
   "metadata": {},
   "outputs": [
    {
     "data": {
      "text/html": [
       "<div>\n",
       "<style scoped>\n",
       "    .dataframe tbody tr th:only-of-type {\n",
       "        vertical-align: middle;\n",
       "    }\n",
       "\n",
       "    .dataframe tbody tr th {\n",
       "        vertical-align: top;\n",
       "    }\n",
       "\n",
       "    .dataframe thead th {\n",
       "        text-align: right;\n",
       "    }\n",
       "</style>\n",
       "<table border=\"1\" class=\"dataframe\">\n",
       "  <thead>\n",
       "    <tr style=\"text-align: right;\">\n",
       "      <th></th>\n",
       "      <th>post_title</th>\n",
       "      <th>post_title_wcount</th>\n",
       "    </tr>\n",
       "  </thead>\n",
       "  <tbody>\n",
       "    <tr>\n",
       "      <th>941</th>\n",
       "      <td>over</td>\n",
       "      <td>1</td>\n",
       "    </tr>\n",
       "    <tr>\n",
       "      <th>1009</th>\n",
       "      <td>staking</td>\n",
       "      <td>1</td>\n",
       "    </tr>\n",
       "    <tr>\n",
       "      <th>882</th>\n",
       "      <td>greetings</td>\n",
       "      <td>1</td>\n",
       "    </tr>\n",
       "    <tr>\n",
       "      <th>1108</th>\n",
       "      <td>digitalbureaucracy</td>\n",
       "      <td>1</td>\n",
       "    </tr>\n",
       "    <tr>\n",
       "      <th>189</th>\n",
       "      <td>onboarding</td>\n",
       "      <td>1</td>\n",
       "    </tr>\n",
       "  </tbody>\n",
       "</table>\n",
       "</div>"
      ],
      "text/plain": [
       "              post_title  post_title_wcount\n",
       "941                 over                  1\n",
       "1009             staking                  1\n",
       "882            greetings                  1\n",
       "1108  digitalbureaucracy                  1\n",
       "189           onboarding                  1"
      ]
     },
     "execution_count": 74,
     "metadata": {},
     "output_type": "execute_result"
    }
   ],
   "source": [
    "# show the 5 shortest post titles by word count\n",
    "p_eth.sort_values(by='post_title_wcount', ascending=True)[['post_title', 'post_title_wcount']].head()"
   ]
  },
  {
   "cell_type": "code",
   "execution_count": 75,
   "metadata": {},
   "outputs": [
    {
     "data": {
      "text/html": [
       "<div>\n",
       "<style scoped>\n",
       "    .dataframe tbody tr th:only-of-type {\n",
       "        vertical-align: middle;\n",
       "    }\n",
       "\n",
       "    .dataframe tbody tr th {\n",
       "        vertical-align: top;\n",
       "    }\n",
       "\n",
       "    .dataframe thead th {\n",
       "        text-align: right;\n",
       "    }\n",
       "</style>\n",
       "<table border=\"1\" class=\"dataframe\">\n",
       "  <thead>\n",
       "    <tr style=\"text-align: right;\">\n",
       "      <th></th>\n",
       "      <th>post_content</th>\n",
       "      <th>post_content_clength</th>\n",
       "    </tr>\n",
       "  </thead>\n",
       "  <tbody>\n",
       "    <tr>\n",
       "      <th>643</th>\n",
       "      <td>dear all   might     good idea   introduce some basic concepts   the community – especially nowa...</td>\n",
       "      <td>28880</td>\n",
       "    </tr>\n",
       "    <tr>\n",
       "      <th>844</th>\n",
       "      <td>don’    afraid   get creative lots   platforms support lots   formats — nfts can   much mor...</td>\n",
       "      <td>14903</td>\n",
       "    </tr>\n",
       "    <tr>\n",
       "      <th>505</th>\n",
       "      <td>warning this post     huge wall   unedited thoughts  when browsing another thread    this subred...</td>\n",
       "      <td>14116</td>\n",
       "    </tr>\n",
       "    <tr>\n",
       "      <th>506</th>\n",
       "      <td>warning this post     unedited stream   thoughts  when browsing another thread    this subreddit...</td>\n",
       "      <td>14016</td>\n",
       "    </tr>\n",
       "    <tr>\n",
       "      <th>783</th>\n",
       "      <td>guys   will start this post with some context about myself         year old guy from india who...</td>\n",
       "      <td>6696</td>\n",
       "    </tr>\n",
       "  </tbody>\n",
       "</table>\n",
       "</div>"
      ],
      "text/plain": [
       "                                                                                            post_content  \\\n",
       "643  dear all   might     good idea   introduce some basic concepts   the community – especially nowa...   \n",
       "844       don’    afraid   get creative lots   platforms support lots   formats — nfts can   much mor...   \n",
       "505  warning this post     huge wall   unedited thoughts  when browsing another thread    this subred...   \n",
       "506  warning this post     unedited stream   thoughts  when browsing another thread    this subreddit...   \n",
       "783    guys   will start this post with some context about myself         year old guy from india who...   \n",
       "\n",
       "     post_content_clength  \n",
       "643                 28880  \n",
       "844                 14903  \n",
       "505                 14116  \n",
       "506                 14016  \n",
       "783                  6696  "
      ]
     },
     "execution_count": 75,
     "metadata": {},
     "output_type": "execute_result"
    }
   ],
   "source": [
    "# show the 5 longest post content by character length\n",
    "p_eth.sort_values(by='post_content_clength', ascending=False)[['post_content', 'post_content_clength']].head()"
   ]
  },
  {
   "cell_type": "code",
   "execution_count": 76,
   "metadata": {},
   "outputs": [
    {
     "data": {
      "text/html": [
       "<div>\n",
       "<style scoped>\n",
       "    .dataframe tbody tr th:only-of-type {\n",
       "        vertical-align: middle;\n",
       "    }\n",
       "\n",
       "    .dataframe tbody tr th {\n",
       "        vertical-align: top;\n",
       "    }\n",
       "\n",
       "    .dataframe thead th {\n",
       "        text-align: right;\n",
       "    }\n",
       "</style>\n",
       "<table border=\"1\" class=\"dataframe\">\n",
       "  <thead>\n",
       "    <tr style=\"text-align: right;\">\n",
       "      <th></th>\n",
       "      <th>post_content</th>\n",
       "      <th>post_content_clength</th>\n",
       "    </tr>\n",
       "  </thead>\n",
       "  <tbody>\n",
       "    <tr>\n",
       "      <th>882</th>\n",
       "      <td>all</td>\n",
       "      <td>5</td>\n",
       "    </tr>\n",
       "    <tr>\n",
       "      <th>1064</th>\n",
       "      <td>buy more</td>\n",
       "      <td>8</td>\n",
       "    </tr>\n",
       "    <tr>\n",
       "      <th>730</th>\n",
       "      <td>ethereum</td>\n",
       "      <td>8</td>\n",
       "    </tr>\n",
       "    <tr>\n",
       "      <th>812</th>\n",
       "      <td>fool</td>\n",
       "      <td>10</td>\n",
       "    </tr>\n",
       "    <tr>\n",
       "      <th>440</th>\n",
       "      <td>anyone see</td>\n",
       "      <td>10</td>\n",
       "    </tr>\n",
       "  </tbody>\n",
       "</table>\n",
       "</div>"
      ],
      "text/plain": [
       "     post_content  post_content_clength\n",
       "882           all                     5\n",
       "1064     buy more                     8\n",
       "730      ethereum                     8\n",
       "812          fool                    10\n",
       "440    anyone see                    10"
      ]
     },
     "execution_count": 76,
     "metadata": {},
     "output_type": "execute_result"
    }
   ],
   "source": [
    "# show the 5 shortest post content by character length\n",
    "p_eth.sort_values(by='post_content_clength', ascending=True)[['post_content', 'post_content_clength']].head()"
   ]
  },
  {
   "cell_type": "code",
   "execution_count": 77,
   "metadata": {},
   "outputs": [
    {
     "data": {
      "text/html": [
       "<div>\n",
       "<style scoped>\n",
       "    .dataframe tbody tr th:only-of-type {\n",
       "        vertical-align: middle;\n",
       "    }\n",
       "\n",
       "    .dataframe tbody tr th {\n",
       "        vertical-align: top;\n",
       "    }\n",
       "\n",
       "    .dataframe thead th {\n",
       "        text-align: right;\n",
       "    }\n",
       "</style>\n",
       "<table border=\"1\" class=\"dataframe\">\n",
       "  <thead>\n",
       "    <tr style=\"text-align: right;\">\n",
       "      <th></th>\n",
       "      <th>post_content</th>\n",
       "      <th>post_content_wcount</th>\n",
       "    </tr>\n",
       "  </thead>\n",
       "  <tbody>\n",
       "    <tr>\n",
       "      <th>643</th>\n",
       "      <td>dear all   might     good idea   introduce some basic concepts   the community – especially nowa...</td>\n",
       "      <td>4033</td>\n",
       "    </tr>\n",
       "    <tr>\n",
       "      <th>844</th>\n",
       "      <td>don’    afraid   get creative lots   platforms support lots   formats — nfts can   much mor...</td>\n",
       "      <td>2204</td>\n",
       "    </tr>\n",
       "    <tr>\n",
       "      <th>505</th>\n",
       "      <td>warning this post     huge wall   unedited thoughts  when browsing another thread    this subred...</td>\n",
       "      <td>1990</td>\n",
       "    </tr>\n",
       "    <tr>\n",
       "      <th>506</th>\n",
       "      <td>warning this post     unedited stream   thoughts  when browsing another thread    this subreddit...</td>\n",
       "      <td>1976</td>\n",
       "    </tr>\n",
       "    <tr>\n",
       "      <th>783</th>\n",
       "      <td>guys   will start this post with some context about myself         year old guy from india who...</td>\n",
       "      <td>977</td>\n",
       "    </tr>\n",
       "  </tbody>\n",
       "</table>\n",
       "</div>"
      ],
      "text/plain": [
       "                                                                                            post_content  \\\n",
       "643  dear all   might     good idea   introduce some basic concepts   the community – especially nowa...   \n",
       "844       don’    afraid   get creative lots   platforms support lots   formats — nfts can   much mor...   \n",
       "505  warning this post     huge wall   unedited thoughts  when browsing another thread    this subred...   \n",
       "506  warning this post     unedited stream   thoughts  when browsing another thread    this subreddit...   \n",
       "783    guys   will start this post with some context about myself         year old guy from india who...   \n",
       "\n",
       "     post_content_wcount  \n",
       "643                 4033  \n",
       "844                 2204  \n",
       "505                 1990  \n",
       "506                 1976  \n",
       "783                  977  "
      ]
     },
     "execution_count": 77,
     "metadata": {},
     "output_type": "execute_result"
    }
   ],
   "source": [
    "# show the 5 longest post content by word count\n",
    "p_eth.sort_values(by='post_content_wcount', ascending=False)[['post_content', 'post_content_wcount']].head()"
   ]
  },
  {
   "cell_type": "code",
   "execution_count": 78,
   "metadata": {},
   "outputs": [
    {
     "data": {
      "text/html": [
       "<div>\n",
       "<style scoped>\n",
       "    .dataframe tbody tr th:only-of-type {\n",
       "        vertical-align: middle;\n",
       "    }\n",
       "\n",
       "    .dataframe tbody tr th {\n",
       "        vertical-align: top;\n",
       "    }\n",
       "\n",
       "    .dataframe thead th {\n",
       "        text-align: right;\n",
       "    }\n",
       "</style>\n",
       "<table border=\"1\" class=\"dataframe\">\n",
       "  <thead>\n",
       "    <tr style=\"text-align: right;\">\n",
       "      <th></th>\n",
       "      <th>post_content</th>\n",
       "      <th>post_content_wcount</th>\n",
       "    </tr>\n",
       "  </thead>\n",
       "  <tbody>\n",
       "    <tr>\n",
       "      <th>176</th>\n",
       "      <td>0xd12994defea577a799d7d1c9fb8ced9f0596ffdc</td>\n",
       "      <td>1</td>\n",
       "    </tr>\n",
       "    <tr>\n",
       "      <th>882</th>\n",
       "      <td>all</td>\n",
       "      <td>1</td>\n",
       "    </tr>\n",
       "    <tr>\n",
       "      <th>812</th>\n",
       "      <td>fool</td>\n",
       "      <td>1</td>\n",
       "    </tr>\n",
       "    <tr>\n",
       "      <th>341</th>\n",
       "      <td>portfolio</td>\n",
       "      <td>1</td>\n",
       "    </tr>\n",
       "    <tr>\n",
       "      <th>865</th>\n",
       "      <td>2y4zq4rx1e071</td>\n",
       "      <td>1</td>\n",
       "    </tr>\n",
       "  </tbody>\n",
       "</table>\n",
       "</div>"
      ],
      "text/plain": [
       "                                   post_content  post_content_wcount\n",
       "176  0xd12994defea577a799d7d1c9fb8ced9f0596ffdc                    1\n",
       "882                                         all                    1\n",
       "812                                        fool                    1\n",
       "341                                   portfolio                    1\n",
       "865                               2y4zq4rx1e071                    1"
      ]
     },
     "execution_count": 78,
     "metadata": {},
     "output_type": "execute_result"
    }
   ],
   "source": [
    "# show the 5 shortest post content by word count\n",
    "p_eth.sort_values(by='post_content_wcount', ascending=True)[['post_content', 'post_content_wcount']].head()"
   ]
  },
  {
   "cell_type": "markdown",
   "metadata": {},
   "source": [
    "### Feature Column Visualisations"
   ]
  },
  {
   "cell_type": "markdown",
   "metadata": {},
   "source": [
    "#### Visualise Attributes Of Post Title & Post Content For Bitcoin"
   ]
  },
  {
   "cell_type": "code",
   "execution_count": 79,
   "metadata": {
    "scrolled": true
   },
   "outputs": [
    {
     "name": "stdout",
     "output_type": "stream",
     "text": [
      "(1557, 2791)\n"
     ]
    }
   ],
   "source": [
    "# find the 15 most common words in post title with count vectorization\n",
    "cvec_uni = CountVectorizer(stop_words='english', ngram_range=(1, 1))\n",
    "btc_post_title_cvec_uni = cvec_uni.fit_transform(p_btc['post_title'])\n",
    "\n",
    "# get the shape of the sparse matrix\n",
    "print(btc_post_title_cvec_uni.shape)\n",
    "\n",
    "# convert sparse matrix into a dataframe with feature names\n",
    "btc_post_title_cvec_uni_df = pd.DataFrame(btc_post_title_cvec_uni.toarray(), columns=cvec_uni.get_feature_names())\n",
    "\n",
    "# # visualise the 15 most common words\n",
    "# plt.figure(figsize=(10, 4))\n",
    "# plt.title('Most Common Words in Bitcoin Post Titles', fontweight='bold', fontsize=15)\n",
    "# btc_post_title_cvec_uni_df.sum().sort_values(ascending=False).head(15).plot(kind='barh')\n",
    "# plt.gca().invert_yaxis();"
   ]
  },
  {
   "cell_type": "code",
   "execution_count": 80,
   "metadata": {
    "scrolled": true
   },
   "outputs": [
    {
     "name": "stdout",
     "output_type": "stream",
     "text": [
      "(1557, 5350)\n"
     ]
    }
   ],
   "source": [
    "# find the 15 most common word pairs in post title with count vectorization\n",
    "cvec_bi = CountVectorizer(stop_words='english', ngram_range=(2, 2))\n",
    "btc_post_title_cvec_bi = cvec_bi.fit_transform(p_btc['post_title'])\n",
    "\n",
    "# get the shape of the sparse matrix\n",
    "print(btc_post_title_cvec_bi.shape)\n",
    "\n",
    "# convert sparse matrix into a dataframe with feature names\n",
    "btc_post_title_cvec_bi_df = pd.DataFrame(btc_post_title_cvec_bi.toarray(), columns=cvec_bi.get_feature_names())\n",
    "\n",
    "# # visualise the 15 most common word pairs\n",
    "# plt.figure(figsize=(10, 4))\n",
    "# plt.title('Most Common Word Pairs in Bitcoin Post Titles', fontweight='bold', fontsize=15)\n",
    "# btc_post_title_cvec_bi_df.sum().sort_values(ascending=False).head(15).plot(kind='barh')\n",
    "# plt.gca().invert_yaxis();"
   ]
  },
  {
   "cell_type": "code",
   "execution_count": 81,
   "metadata": {
    "scrolled": true
   },
   "outputs": [
    {
     "name": "stdout",
     "output_type": "stream",
     "text": [
      "(1557, 2791)\n"
     ]
    }
   ],
   "source": [
    "# find the 15 most important words in post title with tfidf vectorization\n",
    "tvec_uni = TfidfVectorizer(stop_words='english', ngram_range=(1, 1))\n",
    "btc_post_title_tvec_uni = tvec_uni.fit_transform(p_btc['post_title'])\n",
    "\n",
    "# get the shape of the sparse matrix\n",
    "print(btc_post_title_tvec_uni.shape)\n",
    "\n",
    "# convert sparse matrix into a dataframe with feature names\n",
    "btc_post_title_tvec_uni_df = pd.DataFrame(btc_post_title_tvec_uni.toarray(), columns=tvec_uni.get_feature_names())\n",
    "\n",
    "# # visualise the 15 most common words\n",
    "# plt.figure(figsize=(10, 4))\n",
    "# plt.title('Most Important Words in Bitcoin Post Titles', fontweight='bold', fontsize=15)\n",
    "# btc_post_title_tvec_uni_df.sum().sort_values(ascending=False).head(15).plot(kind='barh')\n",
    "# plt.gca().invert_yaxis();"
   ]
  },
  {
   "cell_type": "code",
   "execution_count": 82,
   "metadata": {
    "scrolled": true
   },
   "outputs": [
    {
     "name": "stdout",
     "output_type": "stream",
     "text": [
      "(1557, 5350)\n"
     ]
    }
   ],
   "source": [
    "# find the 15 most important word pairs in post title with tfidf vectorization\n",
    "tvec_bi = TfidfVectorizer(stop_words='english', ngram_range=(2, 2))\n",
    "btc_post_title_tvec_bi = tvec_bi.fit_transform(p_btc['post_title'])\n",
    "\n",
    "# get the shape of the sparse matrix\n",
    "print(btc_post_title_tvec_bi.shape)\n",
    "\n",
    "# convert sparse matrix into a dataframe with feature names\n",
    "btc_post_title_tvec_bi_df = pd.DataFrame(btc_post_title_tvec_bi.toarray(), columns=tvec_bi.get_feature_names())\n",
    "\n",
    "# # visualise the 15 most common word pairs\n",
    "# plt.figure(figsize=(10, 4))\n",
    "# plt.title('Most Important Word Pairs in Bitcoin Post Titles', fontweight='bold', fontsize=15)\n",
    "# btc_post_title_tvec_bi_df.sum().sort_values(ascending=False).head(15).plot(kind='barh')\n",
    "# plt.gca().invert_yaxis();"
   ]
  },
  {
   "cell_type": "code",
   "execution_count": 83,
   "metadata": {
    "scrolled": false
   },
   "outputs": [
    {
     "data": {
      "image/png": "[encoded data removed]",
      "text/plain": [
       "<Figure size 1080x720 with 4 Axes>"
      ]
     },
     "metadata": {
      "needs_background": "light"
     },
     "output_type": "display_data"
    }
   ],
   "source": [
    "# visualise the 15 most common/most important words/word pairs in bitcoin post title\n",
    "fig, ax = plt.subplots(2, 2, figsize=(15, 10))\n",
    "\n",
    "btc_post_title_cvec_uni_df.sum().sort_values(ascending=False).head(15).plot(kind='barh', ax=ax[0, 0])\n",
    "ax[0, 0].set_title('Most Common Words in Bitcoin Post Titles', fontweight='bold', fontsize=15)\n",
    "ax[0, 0].invert_yaxis()\n",
    "\n",
    "btc_post_title_cvec_bi_df.sum().sort_values(ascending=False).head(15).plot(kind='barh', ax=ax[0, 1])\n",
    "ax[0, 1].set_title('Most Common Word Pairs in Bitcoin Post Titles', fontweight='bold', fontsize=15)\n",
    "ax[0, 1].invert_yaxis()\n",
    "\n",
    "btc_post_title_tvec_uni_df.sum().sort_values(ascending=False).head(15).plot(kind='barh', ax=ax[1, 0], color='maroon')\n",
    "ax[1, 0].set_title('Most Important Words in Bitcoin Post Titles', fontweight='bold', fontsize=15)\n",
    "ax[1, 0].invert_yaxis()\n",
    "\n",
    "btc_post_title_tvec_bi_df.sum().sort_values(ascending=False).head(15).plot(kind='barh', ax=ax[1, 1], color='maroon')\n",
    "ax[1, 1].set_title('Most Important Word Pairs in Bitcoin Post Titles', fontweight='bold', fontsize=15)\n",
    "ax[1, 1].invert_yaxis()\n",
    "\n",
    "plt.tight_layout();"
   ]
  },
  {
   "cell_type": "markdown",
   "metadata": {},
   "source": [
    "**Interpretation:** Some words which are both common and important in bitcoin post titles (excluding 'bitcoin' and 'btc') include 'crypto' and 'wallet'. Some word pairs which are both common and important in bitcoin post titles include 'lightning network' and 'elon musk'."
   ]
  },
  {
   "cell_type": "code",
   "execution_count": 84,
   "metadata": {
    "scrolled": true
   },
   "outputs": [
    {
     "name": "stdout",
     "output_type": "stream",
     "text": [
      "(1557, 10860)\n"
     ]
    }
   ],
   "source": [
    "# find the 15 most common words in post content with count vectorization\n",
    "cvec_uni = CountVectorizer(stop_words='english', ngram_range=(1, 1))\n",
    "btc_post_content_cvec_uni = cvec_uni.fit_transform(p_btc['post_content'])\n",
    "\n",
    "# get the shape of the sparse matrix\n",
    "print(btc_post_content_cvec_uni.shape)\n",
    "\n",
    "# convert sparse matrix into a dataframe with feature names\n",
    "btc_post_content_cvec_uni_df = pd.DataFrame(btc_post_content_cvec_uni.toarray(), columns=cvec_uni.get_feature_names())\n",
    "\n",
    "# # visualise the 15 most common words\n",
    "# plt.figure(figsize=(10, 4))\n",
    "# plt.title('Most Common Words in Bitcoin Post Content', fontweight='bold', fontsize=15)\n",
    "# btc_post_content_cvec_uni_df.sum().sort_values(ascending=False).head(15).plot(kind='barh')\n",
    "# plt.gca().invert_yaxis();"
   ]
  },
  {
   "cell_type": "code",
   "execution_count": 85,
   "metadata": {
    "scrolled": true
   },
   "outputs": [
    {
     "name": "stdout",
     "output_type": "stream",
     "text": [
      "(1557, 56612)\n"
     ]
    }
   ],
   "source": [
    "# find the 15 most common word pairs in post content with count vectorization\n",
    "cvec_bi = CountVectorizer(stop_words='english', ngram_range=(2, 2))\n",
    "btc_post_content_cvec_bi = cvec_bi.fit_transform(p_btc['post_content'])\n",
    "\n",
    "# get the shape of the sparse matrix\n",
    "print(btc_post_content_cvec_bi.shape)\n",
    "\n",
    "# convert sparse matrix into a dataframe with feature names\n",
    "btc_post_content_cvec_bi_df = pd.DataFrame(btc_post_content_cvec_bi.toarray(), columns=cvec_bi.get_feature_names())\n",
    "\n",
    "# # visualise the 15 most common word pairs\n",
    "# plt.figure(figsize=(10, 4))\n",
    "# plt.title('Most Common Word Pairs in Bitcoin Post Content', fontweight='bold', fontsize=15)\n",
    "# btc_post_content_cvec_bi_df.sum().sort_values(ascending=False).head(15).plot(kind='barh')\n",
    "# plt.gca().invert_yaxis();"
   ]
  },
  {
   "cell_type": "code",
   "execution_count": 86,
   "metadata": {
    "scrolled": true
   },
   "outputs": [
    {
     "name": "stdout",
     "output_type": "stream",
     "text": [
      "(1557, 10860)\n"
     ]
    }
   ],
   "source": [
    "# find the 15 most important words in post content with tfidf vectorization\n",
    "tvec_uni = TfidfVectorizer(stop_words='english', ngram_range=(1, 1))\n",
    "btc_post_content_tvec_uni = tvec_uni.fit_transform(p_btc['post_content'])\n",
    "\n",
    "# get the shape of the sparse matrix\n",
    "print(btc_post_content_tvec_uni.shape)\n",
    "\n",
    "# convert sparse matrix into a dataframe with feature names\n",
    "btc_post_content_tvec_uni_df = pd.DataFrame(btc_post_content_tvec_uni.toarray(), columns=tvec_uni.get_feature_names())\n",
    "\n",
    "# # visualise the 15 most common words\n",
    "# plt.figure(figsize=(10, 4))\n",
    "# plt.title('Most Important Words in Bitcoin Post Content', fontweight='bold', fontsize=15)\n",
    "# btc_post_content_tvec_uni_df.sum().sort_values(ascending=False).head(15).plot(kind='barh')\n",
    "# plt.gca().invert_yaxis();"
   ]
  },
  {
   "cell_type": "code",
   "execution_count": 87,
   "metadata": {
    "scrolled": true
   },
   "outputs": [
    {
     "name": "stdout",
     "output_type": "stream",
     "text": [
      "(1557, 56612)\n"
     ]
    }
   ],
   "source": [
    "# find the 15 most important word pairs in post content with tfidf vectorization\n",
    "tvec_bi = TfidfVectorizer(stop_words='english', ngram_range=(2, 2))\n",
    "btc_post_content_tvec_bi = tvec_bi.fit_transform(p_btc['post_content'])\n",
    "\n",
    "# get the shape of the sparse matrix\n",
    "print(btc_post_content_tvec_bi.shape)\n",
    "\n",
    "# convert sparse matrix into a dataframe with feature names\n",
    "btc_post_content_tvec_bi_df = pd.DataFrame(btc_post_content_tvec_bi.toarray(), columns=tvec_bi.get_feature_names())\n",
    "\n",
    "# # visualise the 15 most common word pairs\n",
    "# plt.figure(figsize=(10, 4))\n",
    "# plt.title('Most Important Word Pairs in Bitcoin Post Content', fontweight='bold', fontsize=15)\n",
    "# btc_post_content_tvec_bi_df.sum().sort_values(ascending=False).head(15).plot(kind='barh')\n",
    "# plt.gca().invert_yaxis();"
   ]
  },
  {
   "cell_type": "code",
   "execution_count": 88,
   "metadata": {},
   "outputs": [
    {
     "data": {
      "image/png": "[encoded data removed]",
      "text/plain": [
       "<Figure size 1080x720 with 4 Axes>"
      ]
     },
     "metadata": {
      "needs_background": "light"
     },
     "output_type": "display_data"
    }
   ],
   "source": [
    "# visualise the 15 most common/most important words/word pairs in bitcoin post content\n",
    "fig, ax = plt.subplots(2, 2, figsize=(15, 10))\n",
    "\n",
    "btc_post_content_cvec_uni_df.sum().sort_values(ascending=False).head(15).plot(kind='barh', ax=ax[0, 0])\n",
    "ax[0, 0].set_title('Most Common Words in Bitcoin Post Content', fontweight='bold', fontsize=15)\n",
    "ax[0, 0].invert_yaxis()\n",
    "\n",
    "btc_post_content_cvec_bi_df.sum().sort_values(ascending=False).head(15).plot(kind='barh', ax=ax[0, 1])\n",
    "ax[0, 1].set_title('Most Common Word Pairs in Bitcoin Post Content', fontweight='bold', fontsize=15)\n",
    "ax[0, 1].invert_yaxis()\n",
    "\n",
    "btc_post_content_tvec_uni_df.sum().sort_values(ascending=False).head(15).plot(kind='barh', ax=ax[1, 0], color='maroon')\n",
    "ax[1, 0].set_title('Most Important Words in Bitcoin Post Content', fontweight='bold', fontsize=15)\n",
    "ax[1, 0].invert_yaxis()\n",
    "\n",
    "btc_post_content_tvec_bi_df.sum().sort_values(ascending=False).head(15).plot(kind='barh', ax=ax[1, 1], color='maroon')\n",
    "ax[1, 1].set_title('Most Important Word Pairs in Bitcoin Post Content', fontweight='bold', fontsize=15)\n",
    "ax[1, 1].invert_yaxis()\n",
    "\n",
    "plt.tight_layout();"
   ]
  },
  {
   "cell_type": "markdown",
   "metadata": {},
   "source": [
    "**Interpretation:** Some words which are both common and important in bitcoin post content (excluding 'bitcoin' and 'btc') include 'crypto' and 'wallet'. Some word pairs which are both common and important in bitcoin post content include 'lightning network' and 'bitcoin mining'."
   ]
  },
  {
   "cell_type": "markdown",
   "metadata": {},
   "source": [
    "#### Visualise Attributes Of Post Title & Post Content For Ethereum"
   ]
  },
  {
   "cell_type": "code",
   "execution_count": 89,
   "metadata": {
    "scrolled": true
   },
   "outputs": [
    {
     "name": "stdout",
     "output_type": "stream",
     "text": [
      "(1150, 2144)\n"
     ]
    }
   ],
   "source": [
    "# find the 15 most common words in post title with count vectorization\n",
    "cvec_uni = CountVectorizer(stop_words='english', ngram_range=(1, 1))\n",
    "eth_post_title_cvec_uni = cvec_uni.fit_transform(p_eth['post_title'])\n",
    "\n",
    "# get the shape of the sparse matrix\n",
    "print(eth_post_title_cvec_uni.shape)\n",
    "\n",
    "# convert sparse matrix into a dataframe with feature names\n",
    "eth_post_title_cvec_uni_df = pd.DataFrame(eth_post_title_cvec_uni.toarray(), columns=cvec_uni.get_feature_names())\n",
    "\n",
    "# # visualise the 15 most common words\n",
    "# plt.figure(figsize=(10, 4))\n",
    "# plt.title('Most Common Words in Ethereum Post Titles', fontweight='bold', fontsize=15)\n",
    "# eth_post_title_cvec_uni_df.sum().sort_values(ascending=False).head(15).plot(kind='barh')\n",
    "# plt.gca().invert_yaxis();"
   ]
  },
  {
   "cell_type": "code",
   "execution_count": 90,
   "metadata": {
    "scrolled": true
   },
   "outputs": [
    {
     "name": "stdout",
     "output_type": "stream",
     "text": [
      "(1150, 3787)\n"
     ]
    }
   ],
   "source": [
    "# find the 15 most common word pairs in post title with count vectorization\n",
    "cvec_bi = CountVectorizer(stop_words='english', ngram_range=(2, 2))\n",
    "eth_post_title_cvec_bi = cvec_bi.fit_transform(p_eth['post_title'])\n",
    "\n",
    "# get the shape of the sparse matrix\n",
    "print(eth_post_title_cvec_bi.shape)\n",
    "\n",
    "# convert sparse matrix into a dataframe with feature names\n",
    "eth_post_title_cvec_bi_df = pd.DataFrame(eth_post_title_cvec_bi.toarray(), columns=cvec_bi.get_feature_names())\n",
    "\n",
    "# # visualise the 15 most common word pairs\n",
    "# plt.figure(figsize=(10, 4))\n",
    "# plt.title('Most Common Word Pairs in Ethereum Post Titles', fontweight='bold', fontsize=15)\n",
    "# eth_post_title_cvec_bi_df.sum().sort_values(ascending=False).head(15).plot(kind='barh')\n",
    "# plt.gca().invert_yaxis();"
   ]
  },
  {
   "cell_type": "code",
   "execution_count": 91,
   "metadata": {
    "scrolled": true
   },
   "outputs": [
    {
     "name": "stdout",
     "output_type": "stream",
     "text": [
      "(1150, 2144)\n"
     ]
    }
   ],
   "source": [
    "# find the 15 most important words in post title with tfidf vectorization\n",
    "tvec_uni = TfidfVectorizer(stop_words='english', ngram_range=(1, 1))\n",
    "eth_post_title_tvec_uni = tvec_uni.fit_transform(p_eth['post_title'])\n",
    "\n",
    "# get the shape of the sparse matrix\n",
    "print(eth_post_title_tvec_uni.shape)\n",
    "\n",
    "# convert sparse matrix into a dataframe with feature names\n",
    "eth_post_title_tvec_uni_df = pd.DataFrame(eth_post_title_tvec_uni.toarray(), columns=tvec_uni.get_feature_names())\n",
    "\n",
    "# # visualise the 15 most common words\n",
    "# plt.figure(figsize=(10, 4))\n",
    "# plt.title('Most Important Words in Ethereum Post Titles', fontweight='bold', fontsize=15)\n",
    "# eth_post_title_tvec_uni_df.sum().sort_values(ascending=False).head(15).plot(kind='barh')\n",
    "# plt.gca().invert_yaxis();"
   ]
  },
  {
   "cell_type": "code",
   "execution_count": 92,
   "metadata": {
    "scrolled": true
   },
   "outputs": [
    {
     "name": "stdout",
     "output_type": "stream",
     "text": [
      "(1150, 3787)\n"
     ]
    }
   ],
   "source": [
    "# find the 15 most important word pairs in post title with tfidf vectorization\n",
    "tvec_bi = TfidfVectorizer(stop_words='english', ngram_range=(2, 2))\n",
    "eth_post_title_tvec_bi = tvec_bi.fit_transform(p_eth['post_title'])\n",
    "\n",
    "# get the shape of the sparse matrix\n",
    "print(eth_post_title_tvec_bi.shape)\n",
    "\n",
    "# convert sparse matrix into a dataframe with feature names\n",
    "eth_post_title_tvec_bi_df = pd.DataFrame(eth_post_title_tvec_bi.toarray(), columns=tvec_bi.get_feature_names())\n",
    "\n",
    "# # visualise the 15 most common word pairs\n",
    "# plt.figure(figsize=(10, 4))\n",
    "# plt.title('Most Important Word Pairs in Ethereum Post Titles', fontweight='bold', fontsize=15)\n",
    "# eth_post_title_tvec_bi_df.sum().sort_values(ascending=False).head(15).plot(kind='barh')\n",
    "# plt.gca().invert_yaxis();"
   ]
  },
  {
   "cell_type": "code",
   "execution_count": 93,
   "metadata": {},
   "outputs": [
    {
     "data": {
      "image/png": "[encoded data removed]",
      "text/plain": [
       "<Figure size 1080x720 with 4 Axes>"
      ]
     },
     "metadata": {
      "needs_background": "light"
     },
     "output_type": "display_data"
    }
   ],
   "source": [
    "# visualise the 15 most common/most important words/word pairs in ethereum post title\n",
    "fig, ax = plt.subplots(2, 2, figsize=(15, 10))\n",
    "\n",
    "eth_post_title_cvec_uni_df.sum().sort_values(ascending=False).head(15).plot(kind='barh', ax=ax[0, 0])\n",
    "ax[0, 0].set_title('Most Common Words in Ethereum Post Titles', fontweight='bold', fontsize=15)\n",
    "ax[0, 0].invert_yaxis()\n",
    "\n",
    "eth_post_title_cvec_bi_df.sum().sort_values(ascending=False).head(15).plot(kind='barh', ax=ax[0, 1])\n",
    "ax[0, 1].set_title('Most Common Word Pairs in Ethereum Post Titles', fontweight='bold', fontsize=15)\n",
    "ax[0, 1].invert_yaxis()\n",
    "\n",
    "eth_post_title_tvec_uni_df.sum().sort_values(ascending=False).head(15).plot(kind='barh', ax=ax[1, 0], color='maroon')\n",
    "ax[1, 0].set_title('Most Important Words in Ethereum Post Titles', fontweight='bold', fontsize=15)\n",
    "ax[1, 0].invert_yaxis()\n",
    "\n",
    "eth_post_title_tvec_bi_df.sum().sort_values(ascending=False).head(15).plot(kind='barh', ax=ax[1, 1], color='maroon')\n",
    "ax[1, 1].set_title('Most Important Word Pairs in Ethereum Post Titles', fontweight='bold', fontsize=15)\n",
    "ax[1, 1].invert_yaxis()\n",
    "\n",
    "plt.tight_layout();"
   ]
  },
  {
   "cell_type": "markdown",
   "metadata": {},
   "source": [
    "**Interpretation:** Some words which are both common and important in ethereum post titles (excluding 'ethereum' and 'eth') include 'staking' and 'wallet'. Some word pairs which are both common and important in ethereum post titles include 'gas fees' and 'smart contracts'."
   ]
  },
  {
   "cell_type": "code",
   "execution_count": 94,
   "metadata": {
    "scrolled": true
   },
   "outputs": [
    {
     "name": "stdout",
     "output_type": "stream",
     "text": [
      "(1150, 9054)\n"
     ]
    }
   ],
   "source": [
    "# find the 15 most common words in post content with count vectorization\n",
    "cvec_uni = CountVectorizer(stop_words='english', ngram_range=(1, 1))\n",
    "eth_post_content_cvec_uni = cvec_uni.fit_transform(p_eth['post_content'])\n",
    "\n",
    "# get the shape of the sparse matrix\n",
    "print(eth_post_content_cvec_uni.shape)\n",
    "\n",
    "# convert sparse matrix into a dataframe with feature names\n",
    "eth_post_content_cvec_uni_df = pd.DataFrame(eth_post_content_cvec_uni.toarray(), columns=cvec_uni.get_feature_names())\n",
    "\n",
    "# # visualise the 15 most common words\n",
    "# plt.figure(figsize=(10, 4))\n",
    "# plt.title('Most Common Words in Ethereum Post Content', fontweight='bold', fontsize=15)\n",
    "# eth_post_content_cvec_uni_df.sum().sort_values(ascending=False).head(15).plot(kind='barh')\n",
    "# plt.gca().invert_yaxis();"
   ]
  },
  {
   "cell_type": "code",
   "execution_count": 95,
   "metadata": {
    "scrolled": true
   },
   "outputs": [
    {
     "name": "stdout",
     "output_type": "stream",
     "text": [
      "(1150, 44706)\n"
     ]
    }
   ],
   "source": [
    "# find the 15 most common word pairs in post content with count vectorization\n",
    "cvec_bi = CountVectorizer(stop_words='english', ngram_range=(2, 2))\n",
    "eth_post_content_cvec_bi = cvec_bi.fit_transform(p_eth['post_content'])\n",
    "\n",
    "# get the shape of the sparse matrix\n",
    "print(eth_post_content_cvec_bi.shape)\n",
    "\n",
    "# convert sparse matrix into a dataframe with feature names\n",
    "eth_post_content_cvec_bi_df = pd.DataFrame(eth_post_content_cvec_bi.toarray(), columns=cvec_bi.get_feature_names())\n",
    "\n",
    "# # visualise the 15 most common word pairs\n",
    "# plt.figure(figsize=(10, 4))\n",
    "# plt.title('Most Common Word Pairs in Ethereum Post Content', fontweight='bold', fontsize=15)\n",
    "# eth_post_content_cvec_bi_df.sum().sort_values(ascending=False).head(15).plot(kind='barh')\n",
    "# plt.gca().invert_yaxis();"
   ]
  },
  {
   "cell_type": "code",
   "execution_count": 96,
   "metadata": {
    "scrolled": true
   },
   "outputs": [
    {
     "name": "stdout",
     "output_type": "stream",
     "text": [
      "(1150, 9054)\n"
     ]
    }
   ],
   "source": [
    "# find the 15 most important words in post content with tfidf vectorization\n",
    "tvec_uni = TfidfVectorizer(stop_words='english', ngram_range=(1, 1))\n",
    "eth_post_content_tvec_uni = tvec_uni.fit_transform(p_eth['post_content'])\n",
    "\n",
    "# get the shape of the sparse matrix\n",
    "print(eth_post_content_tvec_uni.shape)\n",
    "\n",
    "# convert sparse matrix into a dataframe with feature names\n",
    "eth_post_content_tvec_uni_df = pd.DataFrame(eth_post_content_tvec_uni.toarray(), columns=tvec_uni.get_feature_names())\n",
    "\n",
    "# # visualise the 15 most common words\n",
    "# plt.figure(figsize=(10, 4))\n",
    "# plt.title('Most Important Words in Ethereum Post Content', fontweight='bold', fontsize=15)\n",
    "# eth_post_content_tvec_uni_df.sum().sort_values(ascending=False).head(15).plot(kind='barh')\n",
    "# plt.gca().invert_yaxis();"
   ]
  },
  {
   "cell_type": "code",
   "execution_count": 97,
   "metadata": {
    "scrolled": true
   },
   "outputs": [
    {
     "name": "stdout",
     "output_type": "stream",
     "text": [
      "(1150, 44706)\n"
     ]
    }
   ],
   "source": [
    "# find the 15 most important word pairs in post content with tfidf vectorization\n",
    "tvec_bi = TfidfVectorizer(stop_words='english', ngram_range=(2, 2))\n",
    "eth_post_content_tvec_bi = tvec_bi.fit_transform(p_eth['post_content'])\n",
    "\n",
    "# get the shape of the sparse matrix\n",
    "print(eth_post_content_tvec_bi.shape)\n",
    "\n",
    "# convert sparse matrix into a dataframe with feature names\n",
    "eth_post_content_tvec_bi_df = pd.DataFrame(eth_post_content_tvec_bi.toarray(), columns=tvec_bi.get_feature_names())\n",
    "\n",
    "# # visualise the 15 most common word pairs\n",
    "# plt.figure(figsize=(10, 4))\n",
    "# plt.title('Most Important Word Pairs in Ethereum Post Content', fontweight='bold', fontsize=15)\n",
    "# eth_post_content_tvec_bi_df.sum().sort_values(ascending=False).head(15).plot(kind='barh')\n",
    "# plt.gca().invert_yaxis();"
   ]
  },
  {
   "cell_type": "code",
   "execution_count": 98,
   "metadata": {},
   "outputs": [
    {
     "data": {
      "image/png": "[encoded data removed]",
      "text/plain": [
       "<Figure size 1080x720 with 4 Axes>"
      ]
     },
     "metadata": {
      "needs_background": "light"
     },
     "output_type": "display_data"
    }
   ],
   "source": [
    "# visualise the 15 most common/most important words/word pairs in ethereum post content\n",
    "fig, ax = plt.subplots(2, 2, figsize=(15, 10))\n",
    "\n",
    "eth_post_content_cvec_uni_df.sum().sort_values(ascending=False).head(15).plot(kind='barh', ax=ax[0, 0])\n",
    "ax[0, 0].set_title('Most Common Words in Ethereum Post Content', fontweight='bold', fontsize=15)\n",
    "ax[0, 0].invert_yaxis()\n",
    "\n",
    "eth_post_content_cvec_bi_df.sum().sort_values(ascending=False).head(15).plot(kind='barh', ax=ax[0, 1])\n",
    "ax[0, 1].set_title('Most Common Word Pairs in Ethereum Post Content', fontweight='bold', fontsize=15)\n",
    "ax[0, 1].invert_yaxis()\n",
    "\n",
    "eth_post_content_tvec_uni_df.sum().sort_values(ascending=False).head(15).plot(kind='barh', ax=ax[1, 0], color='maroon')\n",
    "ax[1, 0].set_title('Most Important Words in Ethereum Post Content', fontweight='bold', fontsize=15)\n",
    "ax[1, 0].invert_yaxis()\n",
    "\n",
    "eth_post_content_tvec_bi_df.sum().sort_values(ascending=False).head(15).plot(kind='barh', ax=ax[1, 1], color='maroon')\n",
    "ax[1, 1].set_title('Most Important Word Pairs in Ethereum Post Content', fontweight='bold', fontsize=15)\n",
    "ax[1, 1].invert_yaxis()\n",
    "\n",
    "plt.tight_layout();"
   ]
  },
  {
   "cell_type": "markdown",
   "metadata": {},
   "source": [
    "**Interpretation:** Some words which are both common and important in ethereum post content (excluding 'ethereum' and 'eth') include 'crypto' and 'wallet'. Some word pairs which are both common and important in ethereum post content include 'gas fees' and 'smart contracts'."
   ]
  },
  {
   "cell_type": "markdown",
   "metadata": {},
   "source": [
    "#### Visualise Attributes Of Post Title & Post Content For Bitcoin & Ethereum"
   ]
  },
  {
   "cell_type": "code",
   "execution_count": 99,
   "metadata": {},
   "outputs": [],
   "source": [
    "# let us remove some outliers to help with visualisations\n",
    "p_btc = p_btc[p_btc['post_content_clength'] < 10000]\n",
    "p_eth = p_eth[p_eth['post_content_clength'] < 10000]\n",
    "p_btc = p_btc[p_btc['post_content_wcount'] < 1000]\n",
    "p_eth = p_eth[p_eth['post_content_wcount'] < 1000]"
   ]
  },
  {
   "cell_type": "code",
   "execution_count": 100,
   "metadata": {},
   "outputs": [
    {
     "data": {
      "image/png": "[encoded data removed]",
      "text/plain": [
       "<Figure size 1080x720 with 4 Axes>"
      ]
     },
     "metadata": {
      "needs_background": "light"
     },
     "output_type": "display_data"
    }
   ],
   "source": [
    "# visualise histogram plots of character length/word count for bitcoin/ethereum post title\n",
    "fig, ax = plt.subplots(2, 2, figsize=(15, 10))\n",
    "\n",
    "sns.histplot(data=p_btc, x='post_title_clength', ax=ax[0, 0])\n",
    "ax[0, 0].set_title('Distribution of Character Length in Bitcoin Post Title', fontweight='bold', fontsize=15)\n",
    "ax[0, 0].set_xlabel('No of Characters')\n",
    "\n",
    "sns.histplot(data=p_btc, x='post_title_wcount', ax=ax[0, 1])\n",
    "ax[0, 1].set_title('Distribution of Word Count in Bitcoin Post Title', fontweight='bold', fontsize=15)\n",
    "ax[0, 1].set_xlabel('No of Words')\n",
    "\n",
    "sns.histplot(data=p_eth, x='post_title_clength', ax=ax[1, 0], color='maroon')\n",
    "ax[1, 0].set_title('Distribution of Character Length in Ethereum Post Title', fontweight='bold', fontsize=15)\n",
    "ax[1, 0].set_xlabel('No of Characters')\n",
    "\n",
    "sns.histplot(data=p_eth, x='post_title_wcount', ax=ax[1, 1], color='maroon')\n",
    "ax[1, 1].set_title('Distribution of Word Count in Ethereum Post Title', fontweight='bold', fontsize=15)\n",
    "ax[1, 1].set_xlabel('No of Words')\n",
    "\n",
    "plt.tight_layout();"
   ]
  },
  {
   "cell_type": "markdown",
   "metadata": {},
   "source": [
    "**Interpretation:** The distributions of character length and word count in bitcoin and ethereum post title are all similar in that they have a positive skew with a long right tail, suggesting that most of the observations are clustered to the left and there are a handful of large observations to the right."
   ]
  },
  {
   "cell_type": "code",
   "execution_count": 101,
   "metadata": {},
   "outputs": [
    {
     "data": {
      "image/png": "[encoded data removed]",
      "text/plain": [
       "<Figure size 1080x720 with 4 Axes>"
      ]
     },
     "metadata": {
      "needs_background": "light"
     },
     "output_type": "display_data"
    }
   ],
   "source": [
    "# visualise histogram plots of character length/word count for bitcoin/ethereum post content\n",
    "fig, ax = plt.subplots(2, 2, figsize=(15, 10))\n",
    "\n",
    "sns.histplot(data=p_btc, x='post_content_clength', ax=ax[0, 0])\n",
    "ax[0, 0].set_title('Distribution of Character Length in Bitcoin Post Content', fontweight='bold', fontsize=15)\n",
    "ax[0, 0].set_xlabel('No of Characters')\n",
    "\n",
    "sns.histplot(data=p_btc, x='post_content_wcount', ax=ax[0, 1])\n",
    "ax[0, 1].set_title('Distribution of Word Count in Bitcoin Post Content', fontweight='bold', fontsize=15)\n",
    "ax[0, 1].set_xlabel('No of Words')\n",
    "\n",
    "sns.histplot(data=p_eth, x='post_content_clength', ax=ax[1, 0], color='maroon')\n",
    "ax[1, 0].set_title('Distribution of Character Length in Ethereum Post Content', fontweight='bold', fontsize=15)\n",
    "ax[1, 0].set_xlabel('No of Characters')\n",
    "\n",
    "sns.histplot(data=p_eth, x='post_content_wcount', ax=ax[1, 1], color='maroon')\n",
    "ax[1, 1].set_title('Distribution of Word Count in Ethereum Post Content', fontweight='bold', fontsize=15)\n",
    "ax[1, 1].set_xlabel('No of Words')\n",
    "\n",
    "plt.tight_layout();"
   ]
  },
  {
   "cell_type": "markdown",
   "metadata": {},
   "source": [
    "**Interpretation:** The distributions of character length and word count in bitcoin and ethereum post content are all similar in that they have a positive skew with a long right tail, suggesting that most of the observations are clustered to the left and there are a handful of large observations to the right."
   ]
  },
  {
   "cell_type": "markdown",
   "metadata": {},
   "source": [
    "#### Visualise Attributes Of Post Title & Post Content Combined For Bitcoin & Ethereum"
   ]
  },
  {
   "cell_type": "code",
   "execution_count": 102,
   "metadata": {},
   "outputs": [],
   "source": [
    "# concatenate bitcoin dataframe and ethereum dataframe\n",
    "df = pd.concat([p_btc, p_eth])\n",
    "df.reset_index(drop=True, inplace=True)\n",
    "\n",
    "# combine post title column and post content column into a new column\n",
    "df['title_content'] = df['post_title'] + ' ' + df['post_content']\n",
    "df['title_content_clength'] = df['title_content'].apply(len)\n",
    "df['title_content_wcount'] = df['title_content'].apply(lambda x: len(x.split()))"
   ]
  },
  {
   "cell_type": "code",
   "execution_count": 103,
   "metadata": {},
   "outputs": [
    {
     "data": {
      "image/png": "[encoded data removed]",
      "text/plain": [
       "<Figure size 720x720 with 1 Axes>"
      ]
     },
     "metadata": {
      "needs_background": "light"
     },
     "output_type": "display_data"
    }
   ],
   "source": [
    "# visualise stripplot of character length for bitcoin/ethereum post combined\n",
    "plt.figure(figsize=(10, 10))\n",
    "sns.stripplot(data=df, x='subreddit', y='title_content_clength', jitter=True, alpha=0.5, palette='viridis')\n",
    "plt.title('Character Length Of Posts From Each Subreddit', fontweight='bold', fontsize=20)\n",
    "plt.ylabel('Character Length')\n",
    "plt.xlabel('')\n",
    "plt.xticks(ticks=[0, 1], labels=['Bitcoin', 'Ethereum']);"
   ]
  },
  {
   "cell_type": "markdown",
   "metadata": {},
   "source": [
    "**Interpretation:** The character lengths of posts from both subreddits are quite similar in scatter save for the fact that bitcoin tends to have more posts in the character length range of 2000 to 5000 than ethereum."
   ]
  },
  {
   "cell_type": "code",
   "execution_count": 104,
   "metadata": {},
   "outputs": [
    {
     "data": {
      "image/png": "[encoded data removed]",
      "text/plain": [
       "<Figure size 720x720 with 1 Axes>"
      ]
     },
     "metadata": {
      "needs_background": "light"
     },
     "output_type": "display_data"
    }
   ],
   "source": [
    "# visualise stripplot of word count for bitcoin/ethereum post combined\n",
    "plt.figure(figsize=(10, 10))\n",
    "sns.stripplot(data=df, x='subreddit', y='title_content_wcount', jitter=True, alpha=0.5, palette='icefire')\n",
    "plt.title('Word Count Of Posts From Each Subreddit', fontweight='bold', fontsize=20)\n",
    "plt.ylabel('Word Count')\n",
    "plt.xlabel('')\n",
    "plt.xticks(ticks=[0, 1], labels=['Bitcoin', 'Ethereum']);"
   ]
  },
  {
   "cell_type": "markdown",
   "metadata": {},
   "source": [
    "**Interpretation:** The word counts of posts from both subreddits are quite similar in scatter save for the fact that bitcoin tends to have more posts in the word count range of 400 to 800 than ethereum."
   ]
  },
  {
   "cell_type": "markdown",
   "metadata": {},
   "source": [
    "### Target Column Visualisations"
   ]
  },
  {
   "cell_type": "code",
   "execution_count": 105,
   "metadata": {},
   "outputs": [
    {
     "data": {
      "image/png": "[encoded data removed]",
      "text/plain": [
       "<Figure size 432x288 with 1 Axes>"
      ]
     },
     "metadata": {
      "needs_background": "light"
     },
     "output_type": "display_data"
    }
   ],
   "source": [
    "# visualise count plot of target column\n",
    "plt.figure(figsize=(6, 4))\n",
    "sns.countplot(data=df, x='subreddit', palette='Greys')\n",
    "plt.title('Count Of Posts From Each Subreddit', fontweight='bold', fontsize=15)\n",
    "plt.ylabel('Count')\n",
    "plt.xlabel('')\n",
    "plt.xticks(ticks=[0, 1], labels=['Bitcoin', 'Ethereum']);"
   ]
  },
  {
   "cell_type": "markdown",
   "metadata": {},
   "source": [
    "**Interpretation:** The binary classes in the target column are fairly well-balanced. There is no concern of under- or over-representation by any one class."
   ]
  }
 ],
 "metadata": {
  "anaconda-cloud": {},
  "kernelspec": {
   "display_name": "Python 3",
   "language": "python",
   "name": "python3"
  },
  "language_info": {
   "codemirror_mode": {
    "name": "ipython",
    "version": 3
   },
   "file_extension": ".py",
   "mimetype": "text/x-python",
   "name": "python",
   "nbconvert_exporter": "python",
   "pygments_lexer": "ipython3",
   "version": "3.8.8"
  }
 },
 "nbformat": 4,
 "nbformat_minor": 4
}
